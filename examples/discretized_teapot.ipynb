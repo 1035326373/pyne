{
 "metadata": {
  "name": ""
 },
 "nbformat": 3,
 "nbformat_minor": 0,
 "worksheets": [
  {
   "cells": [
    {
     "cell_type": "code",
     "collapsed": false,
     "input": [
      "from urllib import urlretrieve\n",
      "from os import path, getcwd, remove\n",
      "from numpy import linspace\n",
      "\n",
      "from pyne.mesh import Mesh, IMeshTag\n",
      "from pyne.dagmc import load, discretize_geom\n",
      "\n",
      "from yt.config import ytcfg; ytcfg[\"yt\",\"suppressStreamLogging\"] = \"True\"\n",
      "from yt.frontends.moab.data_structures import PyneMoabHex8StaticOutput\n",
      "import yt.visualization.volume_rendering.camera as camera\n",
      "from yt.frontends.moab.api import PyneMoabHex8StaticOutput\n",
      "from yt.visualization.plot_window import SlicePlot"
     ],
     "language": "python",
     "metadata": {},
     "outputs": [],
     "prompt_number": 32
    },
    {
     "cell_type": "code",
     "collapsed": false,
     "input": [
      "faceted_file = path.join(getcwd(), 'teapot.h5m')\n",
      "if not path.isfile(faceted_file):\n",
      "    url = \"http://data.pyne.io/teapot.h5m\"\n",
      "    urlretrieve(url, faceted_file)\n",
      "load(faceted_file)"
     ],
     "language": "python",
     "metadata": {},
     "outputs": [],
     "prompt_number": 8
    },
    {
     "cell_type": "code",
     "collapsed": false,
     "input": [
      "num_divisions = 50\n",
      "num_rays = 3\n",
      "\n",
      "coords0 = linspace(-6, 6, num_divisions)\n",
      "coords1 = linspace(0, 7, num_divisions)\n",
      "coords2 = linspace(-4, 4, num_divisions)"
     ],
     "language": "python",
     "metadata": {},
     "outputs": [],
     "prompt_number": 111
    },
    {
     "cell_type": "code",
     "collapsed": false,
     "input": [
      "m = Mesh(structured=True, structured_coords=[coords0, coords1, coords2])"
     ],
     "language": "python",
     "metadata": {},
     "outputs": [],
     "prompt_number": 112
    },
    {
     "cell_type": "code",
     "collapsed": false,
     "input": [
      "results = discretize_geom(m, num_rays)"
     ],
     "language": "python",
     "metadata": {},
     "outputs": [],
     "prompt_number": 113
    },
    {
     "cell_type": "code",
     "collapsed": false,
     "input": [
      "print np.sum(results['cell'] == 2)"
     ],
     "language": "python",
     "metadata": {},
     "outputs": [
      {
       "output_type": "stream",
       "stream": "stdout",
       "text": [
        "7363\n"
       ]
      }
     ],
     "prompt_number": 118
    },
    {
     "cell_type": "code",
     "collapsed": false,
     "input": [
      "m.vol_1 = IMeshTag(1, float)\n",
      "mask = results['cell'] == 1\n",
      "m.vol_1[results['idx'][mask]] = results[mask]['vol_frac'].tolist()\n",
      "m.vol_1[results['idx'][~mask]] = 0.0\n",
      "\n",
      "#print results[mask]['vol_frac'].tolist()\n",
      "m.vol_1[results['idx'][mask]]\n",
      "\n",
      "#m.vol_2 = IMeshTag(1, float)\n",
      "#mask = results['cell'] == 2\n",
      "#m.vol_2[results['idx'][mask]] = results[mask]['vol_frac'].tolist()\n",
      "#m.vol_2[results['idx'][~mask]] = 0.0\n"
     ],
     "language": "python",
     "metadata": {},
     "outputs": [
      {
       "metadata": {},
       "output_type": "pyout",
       "prompt_number": 126,
       "text": [
        "array([ 0.,  0.,  0.,  0.,  0.,  0.,  0.,  0.,  0.,  0.,  0.,  0.,  0.,\n",
        "        0.,  0.,  0.,  0.,  0.,  0.,  0.,  0.,  0.,  0.,  0.,  0.,  0.,\n",
        "        0.,  0.,  0.,  0.,  0.,  0.,  0.,  0.,  0.,  0.,  0.,  0.,  0.,\n",
        "        0.,  0.,  0.,  0.,  0.,  0.,  0.,  0.,  0.,  0.,  0.,  0.,  0.,\n",
        "        0.,  0.,  0.,  0.,  0.,  0.,  0.,  0.,  0.,  0.,  0.,  0.,  0.,\n",
        "        0.,  0.,  0.,  0.,  0.,  0.,  0.,  0.,  0.,  0.,  0.,  0.,  0.,\n",
        "        0.,  0.,  0.,  0.,  0.,  0.,  0.,  0.,  0.,  0.,  0.,  0.,  0.,\n",
        "        0.,  0.,  0.,  0.,  0.,  0.,  0.,  0.,  0.,  0.,  0.,  0.,  0.,\n",
        "        0.,  0.,  0.,  0.,  0.,  0.,  0.,  0.,  0.,  0.,  0.,  0.,  0.,\n",
        "        0.,  0.,  0.,  0.,  0.,  0.,  0.,  0.,  0.,  0.,  0.,  0.,  0.,\n",
        "        0.,  0.,  0.,  0.,  0.,  0.,  0.,  0.,  0.,  0.,  0.,  0.,  0.,\n",
        "        0.,  0.,  0.,  0.,  0.,  0.,  0.,  0.,  0.,  0.,  0.,  0.,  0.,\n",
        "        0.,  0.,  0.,  0.,  0.,  0.,  0.,  0.,  0.,  0.,  0.,  0.,  0.,\n",
        "        0.,  0.,  0.,  0.,  0.,  0.,  0.,  0.,  0.,  0.,  0.,  0.,  0.,\n",
        "        0.,  0.,  0.,  0.,  0.,  0.,  0.,  0.,  0.,  0.,  0.,  0.,  0.,\n",
        "        0.,  0.,  0.,  0.,  0.,  0.,  0.,  0.,  0.,  0.,  0.,  0.,  0.,\n",
        "        0.,  0.,  0.,  0.,  0.,  0.,  0.,  0.,  0.,  0.,  0.,  0.,  0.,\n",
        "        0.,  0.,  0.,  0.,  0.,  0.,  0.,  0.,  0.,  0.,  0.,  0.,  0.,\n",
        "        0.,  0.,  0.,  0.,  0.,  0.,  0.,  0.,  0.,  0.,  0.,  0.,  0.,\n",
        "        0.,  0.,  0.,  0.,  0.,  0.,  0.,  0.,  0.,  0.,  0.,  0.,  0.,\n",
        "        0.,  0.,  0.,  0.,  0.,  0.,  0.,  0.,  0.,  0.,  0.,  0.,  0.,\n",
        "        0.,  0.,  0.,  0.,  0.,  0.,  0.,  0.,  0.,  0.,  0.,  0.,  0.,\n",
        "        0.,  0.,  0.,  0.,  0.,  0.,  0.,  0.,  0.,  0.,  0.,  0.,  0.,\n",
        "        0.,  0.,  0.,  0.,  0.,  0.,  0.,  0.,  0.,  0.,  0.,  0.,  0.,\n",
        "        0.,  0.,  0.,  0.,  0.,  0.,  0.,  0.,  0.,  0.,  0.,  0.,  0.,\n",
        "        0.,  0.,  0.,  0.,  0.,  0.,  0.,  0.,  0.,  0.,  0.,  0.,  0.,\n",
        "        0.,  0.,  0.,  0.,  0.,  0.,  0.,  0.,  0.,  0.,  0.,  0.,  0.,\n",
        "        0.,  0.,  0.,  0.,  0.,  0.,  0.,  0.,  0.,  0.,  0.,  0.,  0.,\n",
        "        0.,  0.,  0.,  0.,  0.,  0.,  0.,  0.,  0.,  0.,  0.,  0.,  0.,\n",
        "        0.,  0.,  0.,  0.,  0.,  0.,  0.,  0.,  0.,  0.,  0.,  0.,  0.,\n",
        "        0.,  0.,  0.,  0.,  0.,  0.,  0.,  0.,  0.,  0.,  0.,  0.,  0.,\n",
        "        0.,  0.,  0.,  0.,  0.,  0.,  0.,  0.,  0.,  0.,  0.,  0.,  0.,\n",
        "        0.,  0.,  0.,  0.,  0.,  0.,  0.,  0.,  0.,  0.,  0.,  0.,  0.,\n",
        "        0.,  0.,  0.,  0.,  0.,  0.,  0.,  0.,  0.,  0.,  0.,  0.,  0.,\n",
        "        0.,  0.,  0.,  0.,  0.,  0.,  0.,  0.,  0.,  0.,  0.,  0.,  0.,\n",
        "        0.,  0.,  0.,  0.,  0.,  0.,  0.,  0.,  0.,  0.,  0.,  0.,  0.,\n",
        "        0.,  0.,  0.,  0.,  0.,  0.,  0.,  0.,  0.,  0.,  0.,  0.,  0.,\n",
        "        0.,  0.,  0.,  0.,  0.,  0.,  0.,  0.,  0.,  0.,  0.,  0.,  0.,\n",
        "        0.,  0.,  0.,  0.,  0.,  0.,  0.,  0.,  0.,  0.,  0.,  0.,  0.,\n",
        "        0.,  0.,  0.,  0.,  0.,  0.,  0.,  0.,  0.,  0.,  0.,  0.,  0.,\n",
        "        0.,  0.,  0.,  0.,  0.,  0.,  0.,  0.,  0.,  0.,  0.,  0.,  0.,\n",
        "        0.,  0.,  0.,  0.,  0.,  0.,  0.,  0.,  0.,  0.,  0.,  0.,  0.,\n",
        "        0.,  0.,  0.,  0.,  0.,  0.,  0.,  0.,  0.,  0.,  0.,  0.,  0.,\n",
        "        0.,  0.,  0.,  0.,  0.,  0.,  0.,  0.,  0.,  0.,  0.,  0.,  0.,\n",
        "        0.,  0.,  0.,  0.,  0.,  0.,  0.,  0.,  0.,  0.,  0.,  0.,  0.,\n",
        "        0.,  0.,  0.,  0.,  0.])"
       ]
      }
     ],
     "prompt_number": 126
    },
    {
     "cell_type": "code",
     "collapsed": false,
     "input": [
      "print np.sum(m.vol_1[:])"
     ],
     "language": "python",
     "metadata": {},
     "outputs": [
      {
       "output_type": "stream",
       "stream": "stdout",
       "text": [
        "0.0\n"
       ]
      }
     ],
     "prompt_number": 120
    },
    {
     "cell_type": "code",
     "collapsed": false,
     "input": [
      "import numpy as np"
     ],
     "language": "python",
     "metadata": {},
     "outputs": [],
     "prompt_number": 106
    },
    {
     "cell_type": "code",
     "collapsed": false,
     "input": [
      "print np.all(m.vol_1[:] == 0.0)"
     ],
     "language": "python",
     "metadata": {},
     "outputs": [
      {
       "output_type": "stream",
       "stream": "stdout",
       "text": [
        "True\n"
       ]
      }
     ],
     "prompt_number": 107
    },
    {
     "cell_type": "code",
     "collapsed": false,
     "input": [
      "pf = PyneMoabHex8StaticOutput(m)"
     ],
     "language": "python",
     "metadata": {},
     "outputs": [],
     "prompt_number": 97
    },
    {
     "cell_type": "code",
     "collapsed": false,
     "input": [
      "s = SlicePlot(pf, 'z', 'vol_1')\n",
      "s.display()"
     ],
     "language": "python",
     "metadata": {},
     "outputs": [
      {
       "html": [
        "<img src=\"data:image/png;base64,iVBORw0KGgoAAAANSUhEUgAABC4AAAJHCAYAAABfBBcOAAAABHNCSVQICAgIfAhkiAAAAAlwSFlzAAAPYQAAD2EBqD+naQAAIABJREFUeJzs3XmYV2XBN/DvsIeg4gJPAiWCW5G4Y6bvg/IKAm6BaerlVmRGuC9g1iMuiMuLl+Zueinilkvggvi65KuSpAiI6GPZhUGAgkTKCAPoAO8fJQ8EDIgz8zvDfD7zz3Cf+xy+A4c/fl/Oue+yFStWrAgAAABAATUodQAAAACAdVFcAAAAAIWluAAAAAAKS3EBAAAAFJbiAgAAACgsxQUAAABQWIoLAAAAoLAUFwAAAEBhKS4AAACAwlJcAAAAAIWluAAAAAAKS3EBAAAAFJbiAgAAACgsxQUAAABQWIoLAAAAoLAUFwAAAEBhKS4AAACAwlJcAAAAAIWluAAAAAAKS3EBAAAAFJbiAgAAACgsxQUAAABQWIoLAAAAoLAUFwAAAEBhKS4AAACAwlJcAAAAAIWluAAAAAAKS3EBAAAAFFajUgdgdR9++GE+/PDDUscAAACoEYsXL87Xvva1r3SNli1bZscdd6ymRBSd4qJAPvzww+y03U5ZmIWljgIAAFBo7733nvKinlBcFMiHH36YhVmYPbNnWqZlqeNQYG/n7XRO51LHoODcJ2wI9wkbwn3ChnCfsCHmZm7+lD9lr+y10Z95Ps2nmZiJ+fTTT6s5HUWluCiglmmZLbNlqWNQYI3T2D3CerlP2BDuEzaE+4QN4T5hQ3yaf5YNPvPwZVicEwAAACgsxQUAAABQWIoLAAAAoLAUF1AHtU3bUkegDnCfsCHcJ2wI9wkbwn0C1BTFBdRB7dKu1BGoA9wnbAj3CRvCfcKGcJ8ANUVxAQAAABSW4gIAAAAoLMUFAAAAUFiKCwAAAKCwFBcAAABAYSkuAAAAgMJSXAAAAACFpbgAAAAACktxAQAAABSW4gIAAAAoLMUFAAAAUFiKCwAAAKCwFBcAAABAYSkuAAAAgMJSXAAAAACFpbgAAAAACktxUYNefvnlHHLIIdl8883TqlWr/Od//meee+65UscCAACAOkNxUUOeeOKJHHzwwfnjH/+YrbbaKosWLcorr7ySnj175v777y91PAAAAKgTFBc1YPbs2Rk4cGBGjBiR8vLyTJ8+PbNnz84hhxySJLn88stLnBAAAADqBsVFDbjrrrvy8MMP54QTTkhZWVmSZNttt83NN9+cJJk5c2Yp4wEAAECd0ajUATZF/fr1y7e//e01xrfbbrskybe+9a3ajgQAAAB1kicuasDaSoskmThxYsrKynLppZfWciIAAAComxQXtaSioiKXXnpp7r///vTu3bvUcQAAAKBOUFzUgmeffTb77LNPxo0bl/Hjx6eioqLUkQAAAKBOsMZFDaqoqMjgwYMzYcKEzJw5M5999lluvPHGjB8/PuPGjUuTJk1KHREAAAAKzRMXNah58+b59a9/nfHjx2fOnDm55ppr0rBhw7zxxhu55557Sh0PAAAACs8TF7WkefPmOf/887N48eJccskl+f3vf5/TTjttrXPfzttpnMarjbVN27RLu9qICgAA8JXNyqzMzuzVxhZncYnSUJcpLmrZySefnEsuuSSffPLJOud0TudsmS1rMRUAAED1avevr1XNzMxMyqQSJaKu8qpILdtmm22SJG3bti1xEgAAACg+xUUte++995Ikhx9+eImTAAAAQPEpLmrA9OnTM3ny5LUe+z//5//kP//zP3PUUUfVcioAAACoexQXNaB79+7Za6+9csghh+TVV1/NsmXLsmDBgvziF7/IvHnz8uSTT5Y6IgAAANQJiosacNFFF6Vjx44ZN25cevXqlT333DPnn39+Dj744Pzf//t/06JFi1JHBAAAgDrBriI1oH///unfv3+pYwAAAECd54kLAAAAoLAUFwAAAEBhKS4AAACAwlJcAAAAAIWluAAAAAAKS3EBAAAAFJbiAgAAACgsxQUAAABQWIoLAAAAoLAUFwAAAEBhKS4AAACAwlJcAAAAAIWluAAAAAAKS3EBAAAAFJbiAgAAACgsxQUAAABQWIoLAAAAoLAUFwAAAEBhKS4AAACAwlJcAAAAAIWluAAAAAAKS3EBAAAAFJbiAgAAACgsxQUAAABQWIoLAAAAoLAUFwAAAEBhKS4AAACAwlJcAAAAAIWluAAAAAAKS3EBAAAAFJbiAgAAACgsxQUAAABQWIoLAAAAoLAUFwAAAEBhKS4AAACAwlJcAAAAAIWluAAAAAAKS3EBAAAAFJbiAgAAACgsxQUAAABQWIoLAAAAoLAUFwAAAEBhKS4AAACAwlJcAAAAAIWluAAAAAAKS3EBAAAAFJbiAgAAACgsxQUAAABQWIoLAAAAoLAUFwAAAEBhKS4AAACAwlJc1IBly5bl+uuvz+67756vfe1r2XzzzXPQQQfl6aefLnU0AAAAqFMUF9VsxYoVOfbYY3Puuefm3Xffzeeff55FixblpZdeymGHHZabbrqp1BEBAACgzlBcVLPf/OY3effdd/PSSy9l8eLFWbhwYZ566qnssMMOSZILLrggH3zwQYlTAgAAQN2guKhmt912W8aOHZsDDzwwDRo0SLNmzdKrV6888cQTady4cZYuXZqxY8eWOiYAAADUCYqLavTee++lZ8+e+cY3vrHGsW9961vZe++9kyT/+Mc/ajsaAAAA1EmKi2q0ww475L/+67/Webx9+/ZJkm9+85u1FQkAAADqtEalDrApadSoURo1Wvcf6Zw5c9KsWbMccsghtZgKAAAA6i5PXNSSJUuW5M0338xJJ52UVq1alToOAAAA1AmKi1oyatSoNGvWLMOGDSt1FAAAAKgzFBe1YNGiRfmv//qvPPjgg562AAAAgC/BGhe1YODAgRk0aFAOOuigDZr/dt5O4zRebaxt2qZd2tVEPAAAgGo3K7MyO7NXG1ucxSVKQ12muKhhV1xxRXbeeef0799/g8/pnM7ZMlvWYCoAAICa1e5fX6uamZmZlEklSkRdpbioQXfeeWc+/fTTXH311aWOAgAAAHWSNS5qyMMPP5w33nhjnaXFU089VcuJAAAAoO7xxEUNGDt2bJ544once++9axyrqKjI8OHD07Zt2xIkAwAAgLpFcVHNXnnllfTr1y+ff/55HnrooTWOL1++PC1atMicOXNKkA4AAADqFsVFNXrvvfdy+OGHZ+nSpeucU1ZWlmOPPTbNmzevxWQAAABQNykuqtFOO+2UTz75pNQxAAAAYJNhcU4AAACgsBQXAAAAQGEpLgAAAIDCUlwAAAAAhaW4AAAAAApLcQEAAAAUluICAAAAKCzFBQAAAFBYigsAAACgsBQXAAAAQGEpLgAAAIDCalTqAAAAAFDbli1bllmzZmXBggVZuHBhmjVrllatWqV9+/Zp1MhH5SLxtwEAAMAm7/PPP88LL7yQ0aNHZ/z48fnTn/6Uzz//fI15DRo0yK677prvfe97Oeqoo3LIIYekYcOGJUjMFxQXAAAAbLIWLVqUm2++OcOHD095eXn23nvvdOvWLaeeemratm2bFi1apGnTplm6dGkWLlyY2bNnZ9q0aZk8eXLuueeebL311jnjjDNy5plnpnnz5qX+ceolxQUAAACbpBdeeCEnn3xyvvOd7+S2225Ljx49stlmm23w+QsXLswzzzyTO+64I7feemtuu+229OrVqwYTszaKCwAAADY5Q4cOzdNPP51Ro0Zln3322ahrtGjRIkcffXSOPvrovPbaaznnnHMyceLE/PKXv6zmtFTFriIAAABsUq6++uosWrQoL7/88kaXFv+ua9eueeWVV7J48eJcccUV1XJNNoziAgAAgE1Khw4dcuWVV1b7opoNGzbM0KFDs+uuu1brdama4gIAAIBNyjHHHFOj1+/Xr1+NXp/VKS4AAACAwlJcAAAAUK/cf//9uffeezNixIg88MADSZI5c+bkiCOOyGabbZbtt98+v/71r0ucki8oLgAAAKhXpk6dmv79++fll1/OwoULs3z58vTp0yfPPvtshgwZkuHDh+ehhx7K7373u1JHJbZDBQAAoB4aPXp0evfunSQZNWpUJk+enMsvvzwXXHBBkuTAAw/Mcccdl759+5YyJvHEBQAAAPXM+PHjV5YWSfLMM88kSU466aSVY61bt671XKyd4gIAAIB6paysbLVfv/nmm2ndunXat2+/2nhFRUVtxmIdFBcAAADUK5WVlVm2bFmS5O9//3smT56c7t27rzZn+vTpadOmTSni8W8UFwAAANQrPXr0yPnnn5+pU6fmtNNOS2Vl5WqvicyYMSPHHntsLrvsshKm5AuKCwAAAOqVQYMGZebMmenSpUvGjBmTSy65JD179kySHH744dlxxx0zYcKEXHTRRSVOSmJXEQAAAOqZpk2b5tFHH015eXkaNmyYzTbbbOWx2267LZWVlUmSRo18ZC4CfwsAAADUK/fff//KNS4aNWqU448/PnPmzMlpp52WF154Idtuu23OPffcnHnmmSVOSuJVEQAAAOqZqVOnpn///nnppZeycOHCLF++PH369Mmzzz6bIUOGZPjw4XnooYfyu9/9rtRRiScuAAAAqIdGjx6d3r17J0lGjRqVyZMn5/LLL88FF1yQJDnwwANz3HHHpW/fvqWMSTxxAQAAQD0zfvz4laVFkjzzzDNJstrOIq1bt671XKyd4gIAAIB6paysbLVfv/nmm2ndunXat2+/2nhFRUVtxmIdFBcAAADUK5WVlSsX5/z73/+eyZMnp3v37qvNmT59etq0aVOKePwbxQUAAAD1So8ePXL++edn6tSpOe2001JZWbnaayIzZszIsccem8suu6yEKfmC4gIAAIB6ZdCgQZk5c2a6dOmSMWPG5JJLLknPnj2TJEcccUR23HHHTJgwIRdddFGJk5LYVQQAAIB6pmnTpnn00UdTXl6eBg0apEWLFiuP3XLLLamsrEySNGnSpFQRWYXiAgAAgHpp8803X2OsXbt2JUhCVbwqAgAAQL20ZMmSvPjiixk7duzKsSlTpuTjjz8uYSr+neICAACAeufuu+9O27Zt07179/z85z9fOb5kyZKceuqpGTFiRAnTsSrFBQAAAPXKmDFj8pOf/CQHHHBArrvuumy99dYrj3Xt2jWjR4/OlClT8sILL5QwJV9QXAAAAFCvXHPNNRk5cmQef/zxnH322astzvmFYcOG5aabbipBOv6d4gIAAIB6paKiIscdd1yVc5o2bZrFixfXUiKqorgAAACgXtliiy02aN78+fNrOAkbQnEBAABAvbJixYr85S9/qXLOrbfemu233752AlElxQUAAAD1ys9//vMcfPDBefDBB1NRUbFyfP78+RkzZkz69euXM888M+eff34JU/KFRqUOAAAAALWpb9++eemll3LCCSekQYMGKSsrS/PmzbN06dKsWLEiZWVlGT58eLp27VrqqMQTFwAAANRDN9xwQ+65557ssMMOWbZsWZYsWZIVK1akS5cuefLJJ3P22WeXOiL/orgAAACgXjrppJPy3nvvZdq0aXn11VczY8aMTJ48Ob17906SPPbYYyVOSKK4qFUvvvhinnzyyVLHAAAAYBUdOnTIfvvtl/bt2682fsUVV5QoEauyxkUtmDRpUi666KI899xzGTJkSA4//PBSRwIAANikLVy4MMOHD09ZWdlGnb9gwYJMnTq1mlOxMRQXNWjBggX5zW9+k7lz5+a1114rdRwAAIB6Y8WKFbn00ku/0jU2tvSgeikuatAWW2yxcvucWbNm5be//W2JEwEAANQPLVu2TOPGjXP22Wfn0EMP/dIlRHl5eY4//vgaSseXobioJU2bNi11BAAAgHplq622ymWXXbbRn8c6d+5czYnYGBbnBAAAYJP03HPPfaX/RL733nurMQ0bS3EBAADAJumrPjExZcqUakrCV6G4AAAAgLW48sorSx2BWOMCAACAeuijjz7Ks88+m7/97W+prKxc47jtUItDcQEAAEC98tprr6VXr1755JNPqpxnO9RiUFwAAABQrwwePDidOnVK3759s+2226Zhw4ZrzCkvL8+FF15YgnT8O8VFAb2dt9M4jVcba5u2aZd2JUoEAADw5czKrMzO7NXGFmdxidKsbt68eXnzzTfTqFHVH4nvu+++WkpEVRQXBdQ5nbNltix1DAAAgI3W7l9fq5qZmZmUSSVK9D86dOiw3tIiSW6++eZaSMP62FUEAACAeqVjx46ZMWPGeue99dZbtZCG9VFcAAAAUK8MGTIkF198cSZOnFjlvOuvv76WElEVr4rUksWL//ku1/Lly0ucBAAAoH67884706lTpxx22GFp3759dtpppzRp0mS1OeXl5XnnnXdKlJBVKS5qwfz58zNu3Lgkybhx47Js2bK1rloLAABAzbv22mszb968JMncuXPzxhtvrHWe7VCLQXFRg5YvX5599903f/7zn1NRUZGysrK8+OKL2W677XLAAQfkscceK3VEAACAemebbbbJ/vvvn4EDB67zP5XLy8tz/PHH13Iy1kZxUYMaNGiwzuYOAACA0mjdunUGDBiQ7t27Vzmvc+fOtZSIqiguAAAAqFfuvPPOtGnTZr3z7r333lpIw/ooLgAAAKhXOnbsuEHzdtpppxpOwoZQXAAAAFAvLVu2LL/73e/y2GOPZdasWdl2221z6KGH5uSTT06zZs1KHY9/UVwAAABQ78ycOTM/+MEP8vrrr682/vjjj+eGG27I448/nh133LFE6ViV4gIAAIB6ZdGiRendu3eWL1+ewYMHp3379mncuHHmzZuXadOm5cknn0zv3r0zadKktGzZstRx6z3FBQAAAPXKjTfemN122y333XdfysrK1ji+bNmyXHjhhbn++uvzq1/9qgQJWVWDUgcAAACA2jR69OjcdNNNay0tkqRhw4a5+uqr88ILL9RyMtZGcQEAAEC90qxZs7Rq1arKOY0aNUqjRl5SKALFBQAAAPXK4sWLN2je0qVLazgJG0JxAQAAQL3Svn37PP3001XOef755/P1r3+9lhJRFcUFAAAA9cqFF16YE044Ibfffnvmz5+/2rG//vWvueaaa9KvX7+ce+65JUrIqrywAwAAQL2y77775rLLLsuAAQMyYMCANG3aNE2aNElFRUUqKyuTJEOHDs1+++1X4qQknrgAAACgHjrjjDMyZsyY7LbbblmyZEnKy8tTWVmZTp065YEHHshFF11U6oj8iycuAAAAqJcOPfTQHHrooZk5c2ZmzZqVNm3aZIcddih1LP6N4gIAAIB6rX379mnfvv0a4xMmTMg+++xTgkSsyqsiAAAAsBann356qSMQT1wAAACwiXr11VfzyCOP5PTTT8/OO++cJPnkk09yww03pKysrMpzy8vLM2XKlNqIyXooLgAAANgk9e3bNx999FEmTZqUl156KUlSWVmZSy+9dIPOX1+5Qe1QXAAAALBJOvDAA/PYY4/lgAMOWDnWqlWrlJWV5YILLsghhxyShg0brvXcBQsW5Pjjj6+tqFRBcQEAAMAm6ZFHHsn8+fOz9dZbrxxr2LBhtthii1x88cVp2bJlled37ty5piOyASzOCQAAwCZr1dLiC9OmTVtvaZEkDzzwQE1E4ktSXAAAAFCvtGrVaoPmdezYsYaTsCEUFwAAANQr999/f+69996MGDFi5VMVc+bMyRFHHJHNNtss22+/fX7961+XOCVfqBNrXCxbtiyzZs3KggULsnDhwjRr1iytWrVK+/bt06hRnfgRAAAAKIipU6fmuuuuy4knnpiuXbtm+fLl6dOnT955551cfvnl2WGHHTJ8+PC0a9cuffv2LXXceq+Qn/o///zzvPDCCxk9enTGjx+fP/3pT/n888/XmNegQYPsuuuu+d73vpejjjqqyhVhAQAA4AujR49O7969kySjRo3K5MmTc/nll+eCCy5I8s8dSY477jjFRQEUqrhYtGhRbr755gwfPjzl5eXZe++9061bt5x66qlp27ZtWrRokaZNm2bp0qVZuHBhZs+enWnTpmXy5Mm55557svXWW+eMM87ImWeemebNm5f6xwEAAKCAxo8fn6uuumrlr5955pkkyUknnbRyrHXr1rWei7UrTHHxwgsv5OSTT853vvOd3HbbbenRo0c222yzDT5/4cKFeeaZZ3LHHXfk1ltvzW233ZZevXrVYGIAAADqorKystV+/eabb6Z169Zp3779auMVFRW1GYt1KERxMXTo0Dz99NMZNWpU9tlnn426RosWLXL00Ufn6KOPzmuvvZZzzjknEydOzC9/+ctqTgsAAEBdVllZmWXLlqVhw4b5+9//nsmTJ+cHP/jBanOmT5+eNm3alCghqyr5riJXX311Fi1alJdffnmjS4t/17Vr17zyyitZvHhxrrjiimq5JgAAAJuGHj165Pzzz8/UqVNz2mmnpbKycrXXRGbMmJFjjz02l112WQlT8oWSFxcdOnTIlVdeWe2LajZs2DBDhw7NrrvuWq3XBQAAoG4bNGhQZs6cmS5dumTMmDG55JJL0rNnzyTJEUcckR133DETJkzIRRddVOKkJAV4VeSYY46p0ev369evRq8PAABA3dK0adM8+uijKS8vT4MGDdKiRYuVx2655ZZUVlYmSZo0aVKqiKyi5E9cVJeHH3641BEAAACoQzbffPPVSoskadeuXbbffvtsv/32+cMf/lCiZKxqkykuhg0bVuoIAAAAbEKuvPLKUkcgBXhVZEN88MEHGTNmTD766KMsW7ZsjeMLFizI1KlTS5AMAACAuuijjz7Ks88+m7/97W8rXw1Zlc+ZxVH44mLcuHHp1atXFi1aVOW8f9+HFwAAANbmtddeS69evfLJJ59UOc/nzGIofHHxi1/8Irvsskv69u2b1q1br3X3kfLy8lx44YUlSAcAAEBdM3jw4HTq1Cl9+/bNtttu63NmwRW+uJgzZ07eeeedNG7cuMp5I0eOrKVEAAAA1GXz5s3Lm2++mUaNqv5IfN9999VSIqpS+MU5O3XqtN7SIkmGDx9eC2kAAACo6zp06LDe0iJJbr755lpIw/oUvrho165d5syZs955GzIHAAAAOnbsmBkzZqx33ltvvVULaVifwhcXQ4YMyVlnnbXem8p2qAAAAGyIIUOG5OKLL87EiROrnHf99dfXUiKqUvg1LrbbbrsMGTIk3bp1y957752dd945TZo0WW2ObWoAAADYUHfeeWc6deqUww47LO3bt89OO+20xufM8vLyvPPOOyVKyKoKX1y8/vrr6dmzZxYsWFDlUxe2qQEAAGBDXHvttZk3b16SZO7cuXnjjTfWOs/nzGIofHExePDg7LjjjrapAQAAoFpss8022X///TNw4MC1fsZM/vk58/jjj6/lZKxN4YuLuXPnZsqUKbapAQAAoFq0bt06AwYMSPfu3auc17lz51pKRFUKX1zYpgYAAIDqdOedd6ZNmzbrnXfvvffWQhrWp/C7itimBgAAgOrUsWPHtGjRIkuWLMmLL76YsWPHrjw2ZcqUfPzxx0mSnXbaqVQRWUXhi4tLL73UNjUAAABUq7vvvjtt27ZN9+7d8/Of/3zl+JIlS3LqqadmxIgRJUzHqgr/qohtagAAAKhOY8aMyU9+8pP06dMnBx10UO6///6Vx7p27ZrRo0fn3HPPzQsvvLDedTCoeYUvLmxTAwAAQHW65pprMnLkyBx33HFJkscff3yNOcOGDcsPf/hDxUUBFL64sE0NAAAA1amiomJlabEuTZs2zeLFi2spEVUpfHFhmxoAAACq0xZbbLFB8+bPn1/DSdgQhV+c8ze/+U2++93vrnde0bapmTZtWk466aTsueee+d73vpe99tord955Z6ljAQAA1HsrVqzIX/7ylyrn3Hrrrdl+++1rJxBVKnxx0alTp3zta1/LJ598ssaxadOmZdq0aUmKtU3Nm2++mT333DNlZWWZMGFC/vCHP+TGG2/MOeeck5/+9KeljgcAAFCv/fznP8/BBx+cBx98MBUVFSvH58+fnzFjxqRfv34588wzc/7555cwJV8o/KsiM2fOzP/6X/8rM2fOzCOPPJLvf//7K481a9Ysl1xySdq0aZOhQ4eWMOX/WLBgQY444og0adIkt9xyy8p1Ofbff/9ccMEFGTJkSPbff/+cfPLJJU4KAABQP/Xt2zcvvfRSTjjhhDRo0CBlZWVp3rx5li5dmhUrVqSsrCzDhw9P165dSx2V1IEnLq699tp84xvfyPLly/OPf/xjtWNt27bNnXfemW222aYwr4rcdtttmTVrVo4++uhsttlmqx370Y9+lCT55S9/mcrKylLEAwAAIMkNN9yQe+65JzvssEOWLVuWJUuWZMWKFenSpUuefPLJnH322aWOyL8Uvrh4991389xzz2XixIn58Y9/vNY5Z511Vh5++OFaTrZ2X6xj0a1btzWOtWvXLh06dMjs2bPz/PPP13IyAAAAVnXSSSflvffey7Rp0/Lqq69mxowZmTx5cnr37p0khfmcWd8VvrhYtmxZmjRpkj322GOdcxo0aLDae0mlMm/evEybNi1lZWX51re+tdY5X+x+8uyzz9ZmNAAAANahQ4cO2W+//dK+ffvVxocNG1aiRKyq8GtcLFy4cL1zlixZkrlz59ZCmqq98847K79v27btWudst912a8wFAACgdn3wwQcZM2ZMPvrooyxbtmyN4wsWLMjUqVNLkIx/V/jiomPHjrnqqqsyePDgdc4577zz8u1vf7sWU63dqmtwtGzZcq1zNt988yTJRx99VCuZAAAAWN24cePSq1evLFq0qMp5ZWVltZSIqhS+uBg8eHC6du2acePG5dRTT83uu++eVq1a5eOPP85rr72WW265Ja+//npeffXVUkdd7XWVxo0br3VO06ZNk2S9/0AAAACoGb/4xS+yyy67pG/fvmnduvXK3SBXVV5engsvvLAE6fh3hS8uunTpkt/85jfp379/nn766dUarxUrVqRhw4a59dZbs/fee5cw5T+2DPsBAAAgAElEQVR97WtfW/l9ZWVlGjVa84/3888/T5I0b9681nIBAADwP+bMmZN33nlnnf/h/IWRI0fWUiKqUvjiIklOPPHEdO7cOZdddlmefvrpfP7552nQoEEOOeSQXHLJJfnud79b6ohJkq9//esrv1+4cGG23HLLNeZ8sWZHmzZt1nmdt/N2Gmf1f0Bt0zbt0q6akgIAANSsWZmV2Zm92tjiLC5RmtV16tRpvaVFkgwfPrwW0rA+daK4SJI99tgjo0aNyvLlyzNv3rxsvfXWa32ioZR23XXXld9/8MEHay0uPvzwwySpck2OzumcLbPmuQAAAHVFu399rWpmZmZSJpUo0f9o165d5syZk//4j/+oct6cOXNqKRFVKfx2qP+uQYMGadOmTeFKiyRp1apVunTpkhUrVuS///u/1zrni91EDjrooNqMBgAAwL8MGTIkZ511VmbMmFHlPNuhFkPJP/1/8skna30yoa5c/9/98Ic/zJQpU/LKK6/k6KOPXu3Y3Llz895772XrrbdOjx49ai0TAAAA/2O77bbLkCFD0q1bt+y9997Zeeed06RJk9Xm2A61OEpeXPTv3z9DhgxJ586dq/3aEydOzOWXX57Ro0dX+7XX5bTTTst1112X3/72t7nqqqtWW7Dz7rvvzooVK3Leeeet3F0EAACA2vX666+nZ8+eWbBgQZVPXdgOtRhKXlzccccdOeqoo3LCCSfkpz/9abVcc/ny5bnpppvy4IMP5umnn66Wa26oVq1aZeTIkfn+97+fgQMH5vbbb0+jRo0yYcKEXHXVVenTp08GDRpUq5kAAAD4H4MHD86OO+6Yvn37Ztttt7UdasGVvLjYaqutMnbs2Pz4xz/O7bffnl/96lc54ogj1nrjrE9lZWUeeeSRXHnllfn2t7+d559/PptttlkNpK5ajx498sc//jFDhw7Nfvvtl+bNm2fRokW5/PLLM3DgQK0dAABACc2dOzdTpkxZ79qJ9913Xy0loiolLy6SZLPNNstDDz2UJ554IoMGDcrpp5+eww47LN26dUuXLl2y/fbbZ/PNN1/jvE8//TTvv/9+Jk6cmBdffDFjx45NmzZtctVVV+Xwww8vwU/yP77zne/koYceKmkGAAAA1tShQ4cN2vDh5ptvroU0rE8hiosvHHHEETnssMPy5JNPZuTIkfnZz36WioqKJP98t2jLLbdMixYt8tlnn2XhwoVZtGhRkn8WH3369MmIESPSp0+fUv4IAAAAFFzHjh0zY8aMfPOb36xy3ltvvZV99tmnllKxLoUqLpJ/bnd65JFH5sgjj8znn3+eyZMn56233sr06dPz8ccfZ8mSJWnWrFm22mqrdOjQIbvttlt23333Qm6PCgAAQPFceumlGThwYM4555zstdde65x3/fXX58c//nEtJmNtCv1pv3Hjxtl3332z7777ljoKAAAAm4g777wznTp1ymGHHZb27dtnp512WmM71PLy8rzzzjslSsiqCl1cAAAAQHW79tprM2/evCT/XKjzjTfeWOs8GysUg+ICAACAemWbbbbJ/vvvn4EDB65zR8vy8vIcf/zxtZyMtVFcAAAAUK+0bt06AwYMSPfu3auc17lz51pKRFUUFwAAANQrd955Z9q0abPeeffee28tpGF9FBcAAADUKx07dtygeQsWLKjhJGyIBqUOAAAAAEV0+umnlzoC8cQFAAAAm6hXX301jzzySE4//fTsvPPOSZJPPvkkN9xww3p3DCkvL8+UKVNqIybrobgAAABgk9S3b9989NFHmTRpUl566aUkSWVlZS699NINOt92qMWguAAAAGCTdOCBB+axxx7LAQccsHKsVatWKSsrywUXXJBDDjlknduhLliwwHaoBaG4AAAAYJP0yCOPZP78+dl6661XjjVs2DBbbLFFLr744rRs2bLK822HWgwW5wQAAGCTtWpp8YVp06att7RIkgceeKAmIvElKS4AAACoV1q1arXeOZ9++mmWLl1aC2lYH8UFAAAA/JtJkyZl4MCBpY5BrHEBAADAJmjx4sV5+OGHN2pnkMrKytx7772ZP39+DSTjy1JcAAAAsMn57LPPcuqpp36la2yzzTbVlIavQnEBAADAJmfzzTdPw4YNc8wxx+R//+//vdqTFytWrMjQoUPTrVu3tGvXbo1zJ06cmFmzZqVfv361GZl1UFwAAACwySkrK0urVq1y++23p0WLFqsdu+OOO9K/f/8MHjx4neefffbZ6datWw2nZEMUfnHO8847r9QRAAAAqIPuuOOONUqLJLnvvvtywQUXVHnuFVdckeuuu66movElFL64uPXWW/Phhx+WOgYAAAB1zFFHHbXOYw0bNqzy3BYtWuSTTz6p7khshMIXF0uWLEm3bt3y6KOPZtmyZaWOAwAAQB1XUVGx3s+XK1asSHl5eS0loiqFLy6aNGmSwYMH569//WsOOuigXHzxxZk+fXqpYwEAAFBH7bHHHrn00kurnHPTTTflG9/4Ri0loiqFX5zz7rvvznHHHZckOf/88/P73/8+F110URYuXJgf/ehHOeKII9b7iA8AAAB84bzzzsuee+6ZN954I/37988ee+yRVq1aZenSpXn77bczcuTIPPDAAxk3blypo5I6UFx8UVok/1wVtnv37unevXvmzp2be+65J7vttlv69u2bn/zkJ9owAAAA1muXXXbJXXfdlVNOOSXPPPPMGlulNmzYMDfffHP23XffEqbkC4V/VWRtFi1alNGjR+e3v/1t3n333QwdOjQHHHBAjjjiiDzxxBOljgcAAEDBHXfccRk3blx69+6dBg0aZMWKFWnQoEF69eqVl19+OaeddlqpI/IvhS8uzjnnnJXfT548Oaeffnq+/vWv52c/+1mmTp2aI488MmPHjs306dNz6623ZtKkSTnooIPy/PPPlzA1AAAARbfPPvvkqaeeypIlS/LBBx9k8eLFGTNmTL773e+WOhqrKPyrInfddVe+8Y1v5KGHHsqECROSJO3atcv555+f/v37Z7vttls5t23bthkyZEg+/fTT9O/fPwsWLEi/fv1KFR0AAIA6oGHDhvmP//iPUsdgHQpfXCxcuDDnnXfeykd2Tj/99PTp0ycNGqz7YZGWLVtmxIgR6d69u+ICAACgnvnkk0+y5ZZb1tnrs7rCvyqSJGeffXbef//9jBkzJocffniVpUVFRUUGDhyYUaNGpVGjwvcyAAAAVLP+/fvn7bffrpFrT5w4MaecckqNXJu1K3xxscsuu+S6667b4B1Dxo8fn1tuuSU/+tGPsvfee9dwOgAAAIrmjjvuyIABA3L77bdX2zWXL1+eX//61xk4cGDuvvvuarsu61f44uLCCy/8UvMPOuig3HLLLRk5cmSGDx9eQ6kAAAAoqq222ipjx47Niy++mD333DOjRo3KsmXLNupalZWVefDBB9OlS5e8+uqref7559OqVatqTkxVCv8uxZd9BKdBgwY5/fTTayYMAAAAdcJmm22Whx56KE888UQGDRqU008/PYcddli6deuWLl26ZPvtt8/mm2++xnmffvpp3n///UycODEvvvhixo4dmzZt2uSqq67K4YcfXoKfhMIXFwAAALCxjjjiiBx22GF58sknM3LkyPzsZz9LRUVFkqSsrCxbbrllWrRokc8++ywLFy7MokWLkvyz+OjTp09GjBiRPn36lPJHqPcUFwAAAGzSGjRokCOPPDJHHnlkPv/880yePDlvvfVWpk+fno8//jhLlixJs2bNstVWW6VDhw7Zbbfdsvvuu9vwoSD8LQAAAFBvNG7cOPvuu2/23XffUkdhAxV+cU4AAACg/lJcAAAAAIWluAAAAAAKS3EBAAAAFJbiAgAAACgsxQUAAABQWIoLAAAAoLAUFwAAAEBhKS4AAACAwlJcAAAAAIWluAAAAAAKS3EBAAAAFJbiAgAAACgsxUUtmTx5cu67775SxwAAAIA6RXFRw/7yl7/khz/8Yfbee+/8/ve/L3UcAAAAqFMalTrApqqysjI333xzPvjgg7z66qtZsWJFqSMBAABAnaO4qCGNGjXKWWedlSRp0KBBrr766hInAgAAgLrHqyK1oGnTpqWOAAAAAHWS4gIAAAAoLMUFAAAAUFiKCwAAAFiLQYMGlToCUVwAAADAWo0cObLUEYjiAgAAANawaNGifPTRR6WOQWyHCgAAwCbqyiuvTGVl5UadO3Xq1CxfvryaE7ExFBdrcdttt2XAgAFf+rxBgwZl2LBhX/n3fztvp3EarzbWNm3TLu2+8rUBAABqw6zMyuzMXm1scRbXaobZs2fn1ltv3ejzy8rKqjENG0txsRZbbbVVdt555y99k7Zp06Zafv/O6Zwts2W1XAsAAKAU2v3ra1UzMzOTMqnWMtx8881555130rJly+y1115f6tx33303jzzySA0l48tQXKzFMccck2OOOabUMQAAAPiKfvnLX+ahhx7KkCFDvtR5FRUVeeyxx2omFF+KxTkBAADYZHXr1i1//vOfv/R5zZs3r7an6vlqFBe1YPHif77HZWEXAACA2tWoUaPsvvvuG3Xu8ccfX81p2BiKixq2ePHiPPfcc0mS119/fWWJAQAAQO248cYbN+q8a6+9tpqTsDEUFzXosMMOS9u2bTNlypSUlZXlz3/+c7bbbrt897vfLXU0AAAAqBMszlmDnnrqqVJHAAAAgDrNExcAAABAYSkuAAAAgMJSXAAAAACFpbgAAAAACktxAQAAABSW4gIAAAAoLMUFAAAAUFiKCwAAAFiLxx57rNQRiOICAAAA1uqKK64odQSSNCp1AAAAAKhuCxcuzPDhw1NWVrZR5y9YsCBTp06t5lRsDMUFAAAAm5wVK1bk0ksv/UrX2NjSg+qluAAAAGCT07JlyzRu3Dhnn312Dj300C9dQpSXl+f444+voXR8GYoLAAAANklbbbVVLrvssjRt2nSjzu/cuXM1J2JjWJwTAACATdJzzz230aVFktx7773VmIaNpbgAAABgk/RVn5jYaaedqikJX4VXRQAAAKiXli1blt/97nd57LHHMmvWrGy77bY59NBDc/LJJ6dZs2aljse/KC4AAACod2bOnJkf/OAHef3111cbf/zxx3PDDTfk8ccfz4477liidKxKcQEAAEC9smjRovTu3TvLly/P4MGD0759+zRu3Djz5s3LtGnT8uSTT6Z3796ZNGlSWrZsWeq49Z7iAgAAgHrlxhtvzG677Zb77rtvrdukLlu2LBdeeGGuv/76/OpXvypBQlZlcU4AAADqldGjR+emm25aa2mRJA0bNszVV1+dF154oZaTsTaKCwAAAOqVZs2apVWrVlXOadSoURo18pJCESguAAAAqFcWL168QfOWLl1aw0nYEIoLAAAA6pX27dvn6aefrnLO888/n69//eu1lIiqKC4AAACoVy688MKccMIJuf322zN//vzVjv31r3/NNddck379+uXcc88tUUJW5YUdAAAA6pV99903l112WQYMGJABAwakadOmadKkSSoqKlJZWZkkGTp0aPbbb78SJyXxxAUAAAD10BlnnJExY8Zkt912y5IlS1JeXp7Kysp06tQpDzzwQC666KJSR+RfPHEBAADAJum9997LTjvttM7jhx56aA499NDMnDkzs2bNSps2bbLDDjvUYkI2hOICAACATVK/fv0yderU9c5r37592rdvXwuJ2BheFQEAAGCT9M477+Stt94qdQy+IsUFAAAAm6yePXvmxhtvzMcff1zqKGwkxQUAAACbrOOOOy4ffPBB9tlnn/zgBz/I008/neXLl5c6Fl+C4gIAAIBNUseOHXPddddl2LBhee+99/KTn/wk9913X3bccccMGjQof/rTn0odkQ2guAAAAGCTNHbs2JXfN2jQID169MgDDzyQSZMmZYcddsiPf/zj7Lfffrn99ttTXl5ewqRURXEBAADAJqlTp05rHd9iiy3y05/+NH/4wx8yYsSITJ8+PXvttVeOP/74PPvss1mxYkUtJ6UqigsAAADqrZ133jnDhg3Ln//855x00km5++67s9NOO+Xiiy/OX/7yl1LHI4oLAAAAyGeffZZ58+Zl7ty5ef/99zNs2LDssssuuf3220sdrd5rVOoAAAAAUCrjxo3L3XffnUcffTSffvrpyvG2bdvmxBNPzOGHH17CdCSKCwAAADZRf/zjH7PffvutMT5z5syMGDEiI0aMyPvvv79yTYumTZvm+9//fk455ZQccsghKSsrq+3IrIXiAgAAgE3SGWeckQkTJiRJlixZksceeyz33HNP/t//+39ZtmzZynldu3bNKaeckh/+8IfZYostShWXdVBcAAAAsEn67//+7zz++OMZM2ZMHn744dW2PN1uu+1y4okn5pRTTsnOO+9cwpSsj+ICAACATdLixYvTt2/f1V4FOeqoo1a+CtKggf0q6gLFBQAAAJusFStWZN99980pp5yS4447zqsgdZDiAgAAgE1Sw4YN88orr6x1gU7qDs/FAAAAsEn69re/rbTYBCguAAAA2CSdeuqppY5ANVBcAAAAsEk666yzSh2BaqC4AAAAAApLcQEAAAAUluICAAAAKCzFBQAAAFBYigsAAACgsBQXNWDkyJHZb7/90qJFizRv3jxdu3bNyJEjSx0LAAAA6hzFRTU799xzc/LJJ2fixIn57LPPsnTp0kyYMCEnn3xyzj///FLHAwAAgDpFcVGNnn322Tz88MN58skns3jx4lRUVOTll1/OHnvskSS57rrr8sYbb5Q4JQAAANQdiotqdN1112XUqFHp06dPGjVqlEaNGuV73/texo4dmy233DJJ8vjjj5c4JQAAANQdiotqsmjRorRu3Tr77LPPGsdat26dXr16JUn+8Y9/1HY0AAAAqLMUF9WkefPmueWWW9Z5vH379kmSb37zm7UVCQAAAOo8xUU1KSsrS4sWLdZ5fM6cOUmSww8/vLYiAQAAQJ2nuKglf/zjH9OjR4/suuuupY4CAAAAdUajUgeoD8aPH58ZM2bkqaeeKnUUAAAAqFM8cVHDli9fnrPOOit33HFHOnXqVOo4AAAAUKd44mIVt912WwYMGPClzxs0aFCGDRu21mOXXXZZevbsmRNPPHGDr/d23k7jNF5trG3apl3afelsAAAApTArszI7s1cbW5zFJUpDXaa4WMVWW22VnXfeOWVlZV/qvDZt2qx1/L777svcuXNz6623fqnrdU7nbJktv9Q5AAAARdLuX1+rmpmZmZRJJUpEXaW4WMUxxxyTY445plquNXbs2Dz77LO59957q+V6AAAAUB9Z46IGvPLKK7nrrrty9913r/W4RToBAABgwyguqtmkSZNy9dVXZ+TIkWnYsOFqxz777LPcddddeeONN0qUDgAAAOoWr4pUoz/96U/p2bNnPv7447Rs2XKN48uXL09ZWVmmTZtWgnQAAABQ9yguqsn8+fPTo0eP/OMf/1jnnLKyshx88MHZfvvtay8YAAAA1GGKi2qy9dZb529/+1upYwAAAMAmxRoXAAAAQGEpLgAAAIDCUlwAAAAAhaW4AAAAAApLcQEAAAAUluICAAAAKCzFBQAAAFBYigsAAACgsBQXAAAAQGEpLgAAAIDCUlwAAAAAhaW4AAAAAApLcQEAAAAUluICAAAAKCzFBQAAAFBYigsAAACgsBQXAAAAQGEpLgAAAIDCUlwAAAAAhaW4AAAAAApLcQEAAMD/b+/Oo2u+E/+Pv24WJBKVqKVjX4ZWbK0lCUUZpGqLLcoYqlpjSYuWY2jHzGEISqszqlFMpw21NIOxJG0tLZnTChmECpMRRREJIiQ3QST5/dGv/IrEUsn9vK88H44j577f935e1/mce+7nlc/n/QGMRXEBAAAAAACMRXEBAAAAAACMRXEBAAAAAACMRXEBAAAAAACMRXEBAAAAAACMRXEBAAAAAACMRXEBAAAAAACMRXEBAAAAAACMRXEBAAAAAACMRXEBAAAAAACMRXEBAAAAAACMRXEBAAAAAACMRXEBAAAAAACMRXEBAAAAAACMRXEBAAAAAACMRXEBAAAAAACMRXEBAAAAAACMRXEBAAAAAACMRXEBAAAAAACMRXEBAAAAAACMRXEBAAAAAACMRXEBAAAAAACMRXEBAAAAAACMRXEBAAAAAACMRXEBAAAAAACMRXEBAAAAAACMRXEBAAAAAACMRXEBAAAAAACMRXEBAAAAAACMRXEBAAAAAACMRXFRQg4ePKi+ffvK19dX3t7eatOmjdasWWN1LAAAAAAAnArFRQnYu3evAgIC9OWXX+qxxx5TTk6O4uLiNHjwYM2aNcvqeAAAAAAAOA2Ki2KWlZWlIUOGKCwsTJcvX9YPP/ygCxcuaOjQoZKkuXPnKjc31+KUAAAAAAA4B4qLYrZq1SrNmTNH48ePl7u7uyTJy8tLS5Yskaurq+x2u9LS0ixOCQAAAACAc3CzOsCjJiAgQH5+fnc87uHhIR8fH9lsNlWuXNmCZAAAAAAAOB+Ki2JWWGkhSadOndKFCxe0ePFiBycCAAAAAMB5camIA+Tm5mrSpElasGCBRo8ebXUcAAAAAACcBsVFCYuNjVWHDh20bt067du3T+fPn7c6EgAAAAAAToPiogRNmzZNkyZN0pEjR5SXl6eVK1fK39+fxTkBAAAAALhPFBclaPbs2YqJiVFqaqqWL18uDw8PnThxQvPnz7c6GgAAAAAAToHFOW8THh6usWPHPvDzpkyZorCwsELH3NzcNGLECLm5uWn48OHasWPHXV/re30vd7nf8lh1VVcN1XjgXAAAAABghdM6rTM6c8tj2cq2KA2cGcXFbXx9fdWoUSPZbLYHel7VqlXvOWfIkCF6+eWXlZ6eftd5TdREFVXxgbYPAAAAACap8X9/fu5H/ah92mdRIjgriovbhISEKCQkpERe29XVVT4+PqpevXqJvD4AAAAAAI8a1rhwoPT0dF24cEG9evWyOgoAAAAAAE6B4qKYpaSkaPfu3YWOzZ8/X40aNdLo0aMdnAoAAAAAAOdEcVHMhgwZorZt26p169b64osvlJOTo+zsbC1cuFBbt27Vjh07VK5cOatjAgAAAADgFFjjopiNHz9eqampSkhI0IABA1SjRg21adNGffr0UWxsrNXxAAAAAABwKhQXxax3797q3bu31TEAAAAAAHgkcKkIAAAAAAAwFsUFAAAAAAAwFsUFAAAAAAAwFsUFAAAAAAAwFsUFAAAAAAAwFsUFAAAAAAAwFsUFAAAAAAAwFsUFAAAAAAAwFsUFAAAAAAAwFsUFAAAAAAAwFsUFAAAAAAAwFsUFAAAAAAAwFsUFAAAAAAAwFsUFAAAAAAAwFsUFAAAAAAAwFsUFAAAAAAAwFsUFAAAAAAAwFsUFAAAAAAAwFsUFAAAAAAAwFsUFAAAAAAAwFsUFAAAAAAAwFsUF4IRO67TVEeAE2E9wP9hPcD/YT3A/2E8AlBSKC8AJndEZqyPACbCf4H6wn+B+sJ/gfrCfACgpFBcAAAAAAMBYFBcAAAAAAMBYFBcAAAAAAMBYblYHwJ0ylGF1BBguRzlKV7rVMWA49hPcD/YT3A/2E9wP9hPcj0xlStJD7SscL5U+tvz8/HyrQ+AnycnJ6ty5s44ePWp1FAAAAAAwWmJion79619bHQMOQHFhmOTkZCUnJ1sdAwAAAACK3aVLl7R//34FBATI09PzF7+Ot7c3pUUpQnEBAAAAAACMxeKcAAAAAADAWBQXAAAAAADAWBQXAAAAAADAWBQXTigtLU1ffvmlFi1apGPHjlkdBwY6ceKEvL299cknn1gdBQAAlDJ79uyRm5ubdu3aZXUUGC45OVmbN2/W3/72N6WmplodBwajuHAia9asUWBgoPr376+MjAy99NJLatCggdWxYKBXX31VdrtdNpvN6igwTEREhAICAuTl5SVPT0/5+/srIiLC6liwQFJSkoYNG6ZnnnlG7dq1U8uWLbVs2TKrY8Egubm5WrhwoVq0aCEPDw9VqFBBnTp1UlRUlNXRYLDr169rxIgRYv1/FOXGjRsKDw9XixYtNHr0aLm6uurVV19VlSpVrI4Gg7lZHQD3lpycrIEDB+rQoUNatmyZBg4caHUkGGzZsmX8hgOFeuONN7Rw4UK5urrKZrMpNzdXe/fu1fDhwxUfH6/58+dbHREOcuDAAXXs2FHBwcHau3evXF1d9e233yooKEh79+7VkiVLrI4Ii+Xn52vQoEFat26d3N3dlZubq+vXr2vnzp3auXOn/vrXvyo0NNTqmDDQjBkzdOzYMYoLFOro0aPq37+/0tPTtXLlSj333HNWR4KT4IwLw/33v/9VQECAEhISFBMTQ2mBuzpz5oyWLl2qfv36WR0Fhvnqq6+0du1abdq0SdnZ2crKytKuXbv09NNPS5LeffddxcXFWZwSjnD58mX17t1bZcqU0eLFi+Xq6ipJatu2rSZPnqylS5dymRm0dOlSHTlyRDt37lR2drYyMzO1efNm1atXT5I0efJknT171uKUMM2BAwcUGxurwMBAq6PAQN9++63atm0ru92u2NhYSgs8EIoLg6Wnp6tnz546ffq0Vq5cqWbNmlkdCYYbO3asFixYoLJly1odBYZ59913tX79evXo0UNubm5yc3NTu3btFB0drYoVK0qS/vWvf1mcEo4QHh6u06dPa8CAASpfvvwtYy+//LIk6e2339aNGzesiAdDhIeHKzo6Wu3bt5eLi4vKlSun7t27a+PGjXJ3d9e1a9cUHR1tdUwY5MaNGxo3bpzCw8OtjgIDnTx5Un369FFWVpY2btyoGjVqWB0JTobiwmATJ05UUlKS+vTpo+7du1sdB4ZbsWKFatSooWeffdbqKDCM3W5XlSpV1Lp16zvGqlSpUvD5kpaW5uhosMDNdSwK+01XjRo1VLduXZ05c0bbtm1zcFXCx+YAAA+rSURBVDKYIjExUUFBQapVq9YdY40bN1arVq0k8ZmBW82ZM0fBwcGqX7++1VFgoJdeekkXL17U2LFj+WUsfhGKC0MlJiYqIiJCNptNr732mtVxYLiUlBQtWLBA8+bNszoKDOTp6anFixcXOV6zZk1JUu3atR0VCRY5f/68kpKSZLPZ1Lhx40LnNGnSRNJPlxehdKpXr56mT59e5DifGbhdQkKCoqOjNWnSJKujwEDbt2/Xzp07Oa7BQ2FxTkOtXLlSeXl5cnd318mTJzV06FClpaXp5MmTatiwoUaMGKHevXtbHROGCA0N1ezZs+847RuQJJvNJi8vryLHz507J0nq1auXoyLBIocPHy74uXr16oXO+dWvfnXHXJQuNy8nK8q5c+dUrlw5de3a1YGpYKrc3FyNHj1a4eHh3M0Mhfr0008lSdWqVdPWrVv19ddf6/z580pJSVGTJk00btw4zhjGPXHGhaG2bt0qSXJ3d5eXl5dWrFihqKgobd68WRcuXFBwcLCmTJlicUqYIDIysuDaY+CX2L17t7p166annnrK6igoYT8/td/b27vQORUqVJAkpaamOiQTnMvVq1d14MABDRs2TD4+PlbHgQHee+89dezYUU2bNrU6Cgx187gmLy9PDRo00KpVq7Rt2zatWLFC8fHx6tix413PDAUkigtjHT9+XJI0adIkDRgwoODxunXrasOGDfL29tY777yjb775xqKEMEFaWppmzJih999/3+oocFLfffedTp48qUWLFlkdBQ6QlZVV8LO7u3uhc24u7mu32x2SCc5l/fr1KleunMLCwqyOAgP873//06pVq+56aRFKt6tXrxac2RkWFqbOnTsXjDVv3lzr1q2TzWbThAkTdOzYMatiwglQXBjq4sWLstlshS6mV6lSJfXs2VOS9Pe//93R0WCQ119/XW+99ZZ8fX2tjgInlJeXp/Hjx+ujjz5SgwYNrI4DB/Dw8Cj4uai7huTk5Ej6aW0U4OfsdrumT5+uVatWcbYFlJ+fr1GjRmnRokVFFqHAxYsXJanI45onn3xS/v7+unHjRsElJUBhKC5KSHh4uFxcXB7479SpUyX9/994FXVby+bNm0uSDh065Jg3hBLxMPvJli1blJGRoUGDBhX5+vn5+Q58NyhJD/uZUpgZM2YoKChIv/vd7xz4TmClJ554ouDnzMzMQufcfLxq1aoOyQTnERoaqilTpqhTp05WR4EBPvjgAzVt2lSBgYFFzuF7CH5+LMNxDR4Gi3OWEF9fXzVq1OiBFym6+UWxdu3aOnLkiC5dulTk60tSdnb2wwWFpR5mP/n888+1adMmubgU3T+OGDFCI0aMUO3atfXDDz88bFxY6GE/U263YsUKpaSk6MMPPyyOeHASP1/H5OzZs6pYseIdc5KTkyVJfn5+DssF8/3lL39Ro0aN9Morr1gdBYaIjIzUrl277nqp4c2Sq2PHjvr6668dFQ0GqVSpksqXL6+srCyOa/BQKC5KSEhIiEJCQn7x89u1a6cjR47o6NGjhY5fuXJF0k+r88J5Pcx+Mm3aND355JOFjp09e1ZXrlzRE088occee6zIuwfAeTzsZ8rPRUdH66uvvuKUzFLIx8dHzZs3V3x8vBISEgq9JerNu4nwW3XctGzZMmVkZGju3LlWR4FBateuXeT3kJMnTyo7O1u1atWSp6cnt84txWw2mwIDA7Vt2zYdPXq00MtFOK7B/eBSEUPdPP1/+/bthY6fOnVKktShQweHZYJZZs+erYSEhEL/BgcHS/ppEaSEhISC1ZyBmJgYLV++XB9//HGh45s3b3ZwIjjaiy++KOmnfeF2KSkpSkxMVKVKldStWzdHR4OB1q5dq7i4uCJLCz4zSq9PPvmkyO8hNw9OP/30UyUkJOgf//iHtWFhKY5rUBwoLgz1m9/8RoGBgYqJiVF8fPwtY3l5eVq/fr0qVKigMWPGWJQQgLPZt2+f5s6dq4iICLm6ut4ydv36dS1fvlxxcXEWpYOjjBo1SpUrV9aaNWvuOC33448/Vn5+vt58880ir0VG6REdHa2NGzcWepvCrKwszZw5k9vmArinoUOHqk6dOoqMjCy4w8hNGRkZ2rp1q2rWrKnBgwdblBDOgEtFDBYREaH27dtr8ODB2rJli+rWrStJmjNnjlJSUhQZGXnLQmsAUJSjR48qKChIly5dkre39x3jeXl5stlsSkpKsiAdHMnHx0cRERHq27evQkNDtWTJErm5uWnv3r2aM2eOevTooSlTplgdExaLiYlR//79lZOTo9WrV98xnpeXJy8vrzsOQgDgdmXLltWqVasUFBSkgQMHav369Xr88ceVl5enyZMnq0yZMoqMjLzlzlfA7SguDFavXj3t27dPs2bN0vPPP6/KlSsrPz9fNWvWVFxcnJo0aWJ1RBjKZrM98CKOeHRdvHhR3bp1U1paWpFzbDabOnfurDp16jguGCzTrVs37d69W7NmzVJAQIA8PT1lt9s1c+ZMhYaG8vlRyiUmJqpXr166du1akXNsNpsGDRrEbXNRKL6H4Hb+/v6Ki4vT7Nmz1bZtW1WrVk3Xr19XkyZNFB8fr1q1alkdEYaz5XOfIgAAAAAAYCjWuAAAAAAAAMaiuAAAAAAAAMaiuAAAAAAAAMaiuAAAAAAAAMaiuAAAAAAAAMaiuAAAAAAAAMaiuAAAAAAAAMaiuAAAAAAAAMaiuAAAAAAAAMaiuAAAAAAAAMaiuAAAAAAAAMaiuAAAAAAAAMaiuAAAAAAAAMaiuAAAAAAAAMaiuAAAoBRJS0vTgAEDlJ6ebnWUAmvXrtXcuXOtjgEAAAxFcQEAQClht9sVHBysP//5z6pYsaLVcQqEhITo8uXLmjVrltVRAACAgSguAAAoJUaOHKnf/va3atKkidVR7jBz5kxFRUVp+/btVkcBAACGobgAAKAU2LhxoxITE/X73//e6iiFcnV11cKFCzV8+HDZ7Xar4wAAAINQXAAA8IjLy8vTlClT9Mc//tHqKHfVunVrNW3aVB988IHVUQAAgEEoLgAAeMRt2rRJaWlp6t27t9VR7mnUqFFasGCBcnJyrI4CAAAMQXEBAMAjLiIiQj179pSrq6vVUe6pW7duunLlCmtdAACAAhQXAAA8wnJycvTFF1/oueeeszrKfSlfvrxatWqlDRs2WB0FAAAYguICAIASFhYWpsaNG8vFxUUuLi5yc3PT3LlzJUnHjx+Xh4dHwVidOnUUGRlZbNvev3+/srKy1Lx583vOjY+P1+DBg9WmTRt17txZXbt21euvv64ff/xRknTs2DF16tRJfn5+qlq1qubPn6/09HSNHz9ePXv2lJ+fnzp37qw9e/ZIks6ePatRo0bphRdeUMOGDdWhQwf9+9//vmeOZ555Rt99993DvXEAAPDIoLgAAKCETZ06VQkJCVq9erVsNptat26tKVOmSJLq1aunyZMnq169etq5c6dOnDihAQMGFNu2Dx48KEmqU6fOXedFRETI399fzZs31549e7Rjxw5t2bJF8fHx6tChg3Jzc1WtWjVNmzZNDRs21Pnz55WZmanQ0FC98cYb2rx5s+Lj45WZmamgoCAdOXJEEydO1IwZMxQVFaXDhw8rOztb3bt319mzZ++apW7dujp69Khyc3OL678BAAA4MYoLAAAcJCQkRBMnTlRsbKyWLl0qScrKytKOHTu0Y8cOtW/fvti3eeLECdlsNlWoUKHIOfv379crr7yiLl266A9/+EPB44cPH1ZMTIx+/PFHZWRkyMvLS127dlVoaKgkacmSJZo4caJq164tSXJzc1O/fv10+fJlvfDCC5o3b56qVasmSXJ3d1e/fv1kt9u1ZcuWu2auXr26cnJydPr06Yd9+wAA4BHgZnUAAABKk7CwMO3cuVMTJkzQs88+q3feeUdTp05VrVq1SmR7ly5dUsWKFe86Z8aMGcrJydGIESNuefzpp5/W0qVL5evre8tr3Fzks2bNmmrZsuUtz6lcubIkqVWrVgWFxk1VqlSRJKWmpt41j5eXlyTp8uXLd50HAABKB864AADAgdzd3bV69Wq5ubmpU6dOqlSpknr06FFi27t69WpBEVCYvLw8RUVFyWazqUWLFneMjxw5Un379i30uQ0bNrzjsZulRqNGjYocu9clIGXLlpUkZWZm3nUeAAAoHSguAABwsPr162v69OlKTU1VdnZ2iW6rXLlyun79epHj58+fV05OjiTJx8fngV67TJkyv2jsXq5duybpp+wAAAAUFwAAOJjdbteGDRvUq1cvLV68WJs2bSqxbfn6+t71zIVKlSrJxeWnrwOXLl0qsRwP4mbeBy1SAADAo4niAgAABxs7dqymTZumFStWqG7duho5cqSSk5NLZFt169aV3W5XRkZGoeNubm7q0qWL8vPzFRsbW+icM2fOKCkpqUTyFbU9FxcX1axZ02HbBAAA5qK4AADAgZYvX64qVaqoe/fu8vb21meffab09HQNGzasRLbXrFkzSdLx48eLnPOnP/1Jrq6uWrx4cZHjjpSUlKSnnnpKbm6sIQ4AACguAABwiOvXr+v999/XmDFjNGTIkILH/f39NXLkSG3fvl1vv/12sW+3RYsWKl++vP7zn/8UOScwMFAffvih9uzZo3Hjxunq1auSflq487333lPVqlVVv379gvlXrly55d+fu/lYYXcEudvYz+3fv1/t2rW7xzsDAAClhS0/Pz/f6hAAADzKxowZozVr1ig9PV02m03t27fXN998I0naunWrgoODdfXqVeXn56tWrVpq27atPvvss2Lb/osvvih3d3dFRETcdV5cXJzmzZunw4cPq2rVqvL09FRISEjB2SCJiYkaNmyYvv/+e2VnZys/P19+fn6aMGGCmjVrpnHjxungwYPKycmRzWZT06ZNNXXqVFWrVk1vvvmmDh06dMdYSEjILRkyMzP1+OOPa8OGDXr++eeL7f8AAAA4L4oLAAAecVu2bNHw4cN17tw54y+/iIyM1Pjx43Xq1KmC26cCAIDSjUtFAAB4xPXo0UNVq1bV559/bnWUe/roo4/02muvUVoAAIACnHEBAEApsGnTJk2bNk3x8fEFtz81TWxsrEJCQnTkyBF5enpaHQcAABjCzG8uAACgWPXq1Ut+fn5atGiR1VEKlZubq4kTJyo8PJzSAgAA3IIzLgAAKCXsdru6dOmiRYsWqWXLllbHucVbb70lDw+PErmzCgAAcG6ccQEAQClRvnx5RUVFaebMmUpPT7c6ToF//vOflBYAAKBInHEBAAAAAACMxRkXAAAAAADAWBQXAAAAAADAWBQXAAAAAADAWBQXAAAAAADAWBQXAAAAAADAWP8PryiXsS9N0uoAAAAASUVORK5CYII=\"><br>"
       ],
       "metadata": {},
       "output_type": "display_data",
       "text": [
        "<yt.visualization.plot_window.AxisAlignedSlicePlot at 0x26331810>"
       ]
      }
     ],
     "prompt_number": 98
    },
    {
     "cell_type": "code",
     "collapsed": false,
     "input": [],
     "language": "python",
     "metadata": {},
     "outputs": []
    }
   ],
   "metadata": {}
  }
 ]
}
