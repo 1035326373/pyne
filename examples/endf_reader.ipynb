{
 "metadata": {
  "name": "",
  "signature": "sha256:ab0d9dd9ddc7a95260d4ca7a687bde9853447d2b2130cd2c29eec7e866289591"
 },
 "nbformat": 3,
 "nbformat_minor": 0,
 "worksheets": [
  {
   "cells": [
    {
     "cell_type": "markdown",
     "metadata": {},
     "source": [
      "# ENDF Reader\n",
      "\n",
      "Below is an example of how to grab and graph cross section data from ENDF files."
     ]
    },
    {
     "cell_type": "code",
     "collapsed": false,
     "input": [
      "from pyne.endf import Library\n",
      "import matplotlib.pyplot as plt\n",
      "%matplotlib inline\n",
      "import os"
     ],
     "language": "python",
     "metadata": {},
     "outputs": [],
     "prompt_number": 5
    },
    {
     "cell_type": "code",
     "collapsed": false,
     "input": [
      "if not os.path.isfile(\"U235-VII.txt\"):\n",
      "    from urllib import urlretrieve\n",
      "    urlretrieve(\"http://t2.lanl.gov/nis/data/data/ENDFB-VII-neutron/U/235\", \"U235-VII.txt\")"
     ],
     "language": "python",
     "metadata": {},
     "outputs": [],
     "prompt_number": 6
    },
    {
     "cell_type": "code",
     "collapsed": false,
     "input": [
      "u235 = Library(\"U235-VII.txt\")\n",
      "xs_data = u235.get_xs(922350000, 16)[0]"
     ],
     "language": "python",
     "metadata": {},
     "outputs": [],
     "prompt_number": 7
    },
    {
     "cell_type": "code",
     "collapsed": false,
     "input": [
      "fig = plt.figure()\n",
      "Eints, sigmas = xs_data['e_int'], xs_data['xs']\n",
      "plt.step(Eints, sigmas, where = \"pre\")\n",
      "plt.suptitle(r'(n, 2n) Reaction in $^{235}$U')\n",
      "plt.ylabel(r'$\\sigma(E)$ (barns)')\n",
      "plt.xlabel(r'$E_{int} (eV)$')\n",
      "plt.xscale('log')\n",
      "plt.yscale('log')\n",
      "plt.savefig('u235_2n.eps')"
     ],
     "language": "python",
     "metadata": {},
     "outputs": [
      {
       "metadata": {},
       "output_type": "display_data",
       "png": "[encoded data removed]",
       "text": [
        "<matplotlib.figure.Figure at 0x7fd07b7fa150>"
       ]
      }
     ],
     "prompt_number": 8
    },
    {
     "cell_type": "code",
     "collapsed": false,
     "input": [
      "if not os.path.isfile(\"U238-VII.txt\"):\n",
      "    from urllib import urlretrieve\n",
      "    urlretrieve(\"http://t2.lanl.gov/nis/data/data/ENDFB-VII-neutron/U/238\", \"U238-VII.txt\")"
     ],
     "language": "python",
     "metadata": {},
     "outputs": [],
     "prompt_number": 9
    },
    {
     "cell_type": "code",
     "collapsed": false,
     "input": [
      "u238 = Library(\"U238-VII.txt\")\n",
      "xs_data = u238.get_xs(922380000, 1)[0]"
     ],
     "language": "python",
     "metadata": {},
     "outputs": [],
     "prompt_number": 10
    },
    {
     "cell_type": "code",
     "collapsed": false,
     "input": [
      "fig = plt.figure()\n",
      "Eints, sigmas = xs_data['e_int'], xs_data['xs']\n",
      "plt.step(Eints, sigmas, where = \"pre\")\n",
      "plt.suptitle(r'Total Cross Section for $^{238}$U')\n",
      "plt.ylabel(r'$\\sigma(E)$ (barns)')\n",
      "plt.xlabel(r'$E_{int} (eV)$')\n",
      "plt.xlim(xmin = 10000)\n",
      "plt.xscale('log')\n",
      "plt.yscale('log')"
     ],
     "language": "python",
     "metadata": {},
     "outputs": [
      {
       "metadata": {},
       "output_type": "display_data",
       "png": "[encoded data removed]",
       "text": [
        "<matplotlib.figure.Figure at 0x7fd07b4cd090>"
       ]
      }
     ],
     "prompt_number": 11
    },
    {
     "cell_type": "code",
     "collapsed": false,
     "input": [],
     "language": "python",
     "metadata": {},
     "outputs": []
    }
   ],
   "metadata": {}
  }
 ]
}