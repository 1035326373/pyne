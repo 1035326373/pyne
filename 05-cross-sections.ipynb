{
 "metadata": {
  "name": ""
 },
 "nbformat": 3,
 "nbformat_minor": 0,
 "worksheets": [
  {
   "cells": [
    {
     "cell_type": "markdown",
     "source": [
      "# Cross Section Interface\n",
      "\n",
      "PyNE provides a top-level interface for computing (and caching) multigroup neutron cross sections.\n",
      "These cross sections will be computed from a variety of available data sources (stored in nuc_data.h5).\n",
      "This interface remains the same across all data sources, allowing the user to easily swap out which \n",
      "cross section library they wish to use.\n",
      "\n",
      "The following cross section formats are included with PyNE.\n",
      "\n",
      "* The ENDF file format (experimental), \n",
      "* The ACE file format, \n",
      "* EAF 175-group cross section,\n",
      "* CINDER 63-group cross sections,\n",
      "* A two-point fast/thermal interpolation (using 'simple_xs' data from KAERI),\n",
      "* Physical models, and\n",
      "* Null data.\n",
      "\n",
      "This functionality may be be found in the `xs` sub-package.  This package is \n",
      "separated out into the following modules:\n",
      "\n",
      "    models\n",
      "    data_source\n",
      "    cache\n",
      "    channels"
     ]
    },
    {
     "cell_type": "markdown",
     "source": [
      "## Data Sources\n",
      "\n",
      "Data sources are classes which provide the common interface for grabbing cross section data from a data source.  Unless otherwise specified this is lazily evaluated.  The data source object itself then acts as an in-memory cache, making further look ups of the raw data very quick! \n",
      "\n",
      "To get a sense of how this works, let's pull in some data that we know about.  "
     ]
    },
    {
     "cell_type": "markdown",
     "source": [
      "### EAF Data Source"
     ]
    },
    {
     "cell_type": "code",
     "collapsed": false,
     "input": [
      "from pyne.xs.data_source import EAFDataSource, SimpleDataSource, NullDataSource"
     ],
     "language": "python",
     "outputs": [],
     "prompt_number": 1
    },
    {
     "cell_type": "code",
     "collapsed": false,
     "input": [
      "eds = EAFDataSource()\n",
      "gamma = eds.reaction('U235', 'gamma')\n",
      "gamma"
     ],
     "language": "python",
     "outputs": [
      {
       "output_type": "pyout",
       "prompt_number": 15,
       "text": [
        "array([  3.40601000e-04,   4.13527000e-04,   4.52339000e-04,\n",
        "         5.35260000e-04,   7.79656000e-04,   9.12824000e-04,\n",
        "         1.05027000e-03,   1.20057000e-03,   1.33202000e-03,\n",
        "         1.46200000e-03,   1.60595000e-03,   1.67206000e-03,\n",
        "         1.76457000e-03,   1.90211000e-03,   2.03703000e-03,\n",
        "         2.12614000e-03,   2.15500000e-03,   2.15923000e-03,\n",
        "         2.17015000e-03,   2.19708000e-03,   2.24992000e-03,\n",
        "         2.34009000e-03,   2.47761000e-03,   2.65621000e-03,\n",
        "         2.80624000e-03,   2.93429000e-03,   3.18937000e-03,\n",
        "         3.54963000e-03,   3.99022000e-03,   4.53866000e-03,\n",
        "         5.21324000e-03,   6.05776000e-03,   7.06523000e-03,\n",
        "         9.26177000e-03,   1.27481000e-02,   1.75162000e-02,\n",
        "         2.23344000e-02,   2.54474000e-02,   2.88533000e-02,\n",
        "         3.21686000e-02,   3.59024000e-02,   4.03127000e-02,\n",
        "         4.31805000e-02,   4.57085000e-02,   4.57084000e-02,\n",
        "         4.57112000e-02,   4.87787000e-02,   5.18315000e-02,\n",
        "         5.62859000e-02,   6.08943000e-02,   6.55405000e-02,\n",
        "         7.01358000e-02,   7.41851000e-02,   7.78783000e-02,\n",
        "         8.13216000e-02,   8.57563000e-02,   8.88694000e-02,\n",
        "         9.13386000e-02,   9.53971000e-02,   9.82263000e-02,\n",
        "         1.00158000e-01,   1.04962000e-01,   1.08964000e-01,\n",
        "         1.11877000e-01,   1.14201000e-01,   1.16384000e-01,\n",
        "         1.19622000e-01,   1.23457000e-01,   1.27270000e-01,\n",
        "         1.31726000e-01,   1.35999000e-01,   1.40273000e-01,\n",
        "         1.44433000e-01,   1.49346000e-01,   1.55223000e-01,\n",
        "         1.60902000e-01,   1.69406000e-01,   1.83582000e-01,\n",
        "         1.92772000e-01,   1.99107000e-01,   2.07917000e-01,\n",
        "         2.18980000e-01,   2.24834000e-01,   2.28807000e-01,\n",
        "         2.28834000e-01,   2.28851000e-01,   2.32272000e-01,\n",
        "         2.47665000e-01,   2.60721000e-01,   2.69491000e-01,\n",
        "         2.77787000e-01,   2.86525000e-01,   2.95251000e-01,\n",
        "         3.03786000e-01,   3.12412000e-01,   3.20788000e-01,\n",
        "         3.28606000e-01,   3.35689000e-01,   3.45583000e-01,\n",
        "         3.55016000e-01,   3.64635000e-01,   3.74740000e-01,\n",
        "         3.83871000e-01,   3.96374000e-01,   4.20446000e-01,\n",
        "         4.36756000e-01,   4.49877000e-01,   4.66706000e-01,\n",
        "         4.97313000e-01,   5.05926000e-01,   5.32346000e-01,\n",
        "         5.64841000e-01,   5.50892000e-01,   5.98351000e-01,\n",
        "         6.17782000e-01,   6.72248000e-01,   6.96237000e-01,\n",
        "         6.99460000e-01,   7.01140000e-01,   7.19296000e-01,\n",
        "         7.33180000e-01,   7.24884000e-01,   7.69404000e-01,\n",
        "         7.77250000e-01,   8.32799000e-01,   9.33925000e-01,\n",
        "         1.01020000e+00,   1.07310000e+00,   1.21651000e+00,\n",
        "         1.27445000e+00,   1.30837000e+00,   1.52976000e+00,\n",
        "         1.62957000e+00,   1.69051000e+00,   1.74094000e+00,\n",
        "         1.83856000e+00,   1.95794000e+00,   1.97871000e+00,\n",
        "         2.60955000e+00,   2.70133000e+00,   2.82330000e+00,\n",
        "         3.85308000e+00,   4.03064000e+00,   3.91338000e+00,\n",
        "         4.59505000e+00,   4.20223000e+00,   5.61362000e+00,\n",
        "         7.39548000e+00,   8.33983000e+00,   1.02707000e+01,\n",
        "         1.11389000e+01,   1.29232000e+01,   8.42540000e+00,\n",
        "         2.31086000e+01,   1.80067000e+01,   3.46571000e+01,\n",
        "         1.94390000e+01,   4.63772000e+01,   1.76541000e+01,\n",
        "         6.54149000e+01,   3.43397000e+01,   2.86602000e+01,\n",
        "         2.89308000e+01,   1.97519000e+01,   1.58082000e+01,\n",
        "         3.79141000e+00,   1.33372000e+01,   3.45039000e+00,\n",
        "         1.42551000e+01,   1.37460000e+01,   7.05691000e+00,\n",
        "         8.53781000e+00,   1.27605000e+01,   3.89028000e+01,\n",
        "         9.05356000e+01])"
       ]
      }
     ],
     "prompt_number": 15
    },
    {
     "cell_type": "markdown",
     "source": [
      "The data source also provides a method to re-discretize this data to another group structure."
     ]
    },
    {
     "cell_type": "code",
     "collapsed": false,
     "input": [
      "import numpy as np\n",
      "dst_e_g = np.logspace(1, -7, 11)\n",
      "eds.dst_group_struct = dst_e_g\n",
      "gamma_c = eds.discretize('U235', 'gamma')\n",
      "print gamma_c"
     ],
     "language": "python",
     "outputs": [
      {
       "output_type": "stream",
       "stream": "stdout",
       "text": [
        "[  2.52625773e-02   1.50668227e-01   3.94173552e-01   8.29069757e-01\n",
        "   2.08402584e+00   5.56199103e+00   1.73480167e+01   3.37415300e+01\n",
        "   1.01908466e+01   2.15494273e+01]\n"
       ]
      }
     ],
     "prompt_number": 3
    },
    {
     "cell_type": "markdown",
     "source": [
      "Now let's plot it!"
     ]
    },
    {
     "cell_type": "code",
     "collapsed": false,
     "input": [
      "from pyne.bins import stair_step\n",
      "import matplotlib.pyplot as plt\n",
      "import matplotlib\n",
      "matplotlib.rc('font', family='serif', size=14)\n"
     ],
     "language": "python",
     "outputs": [],
     "prompt_number": 4
    },
    {
     "cell_type": "code",
     "collapsed": false,
     "input": [
      "fig = plt.figure(figsize=(7,7))\n",
      "plt.loglog(*stair_step(eds.src_group_struct, gamma), figure=fig)\n",
      "plt.loglog(*stair_step(eds.dst_group_struct, gamma_c), figure=fig)\n",
      "plt.xlabel('E [MeV]')\n",
      "plt.ylabel('Cross Section [barns]')"
     ],
     "language": "python",
     "outputs": [
      {
       "output_type": "pyout",
       "prompt_number": 5,
       "text": [
        "<matplotlib.text.Text at 0x2a71a90>"
       ]
      },
      {
       "output_type": "display_data",
       "png": "[encoded data removed]",
       "text": [
        "<matplotlib.figure.Figure at 0x2a6e150>"
       ]
      }
     ],
     "prompt_number": 5
    },
    {
     "cell_type": "markdown",
     "source": [
      "### Simple Data Source\n",
      "\n",
      "This same interface is independent of where the data came from. As it should be!"
     ]
    },
    {
     "cell_type": "code",
     "collapsed": false,
     "input": [
      "sds = SimpleDataSource(dst_group_struct=dst_e_g)\n",
      "print sds.exists\n",
      "rx = sds.reaction('U233', 'absorption')\n",
      "rxc = sds.discretize('U233', 'absorption')"
     ],
     "language": "python",
     "outputs": [
      {
       "output_type": "stream",
       "stream": "stdout",
       "text": [
        "True\n"
       ]
      }
     ],
     "prompt_number": 6
    },
    {
     "cell_type": "code",
     "collapsed": false,
     "input": [
      "fig = plt.figure(figsize=(7,7))\n",
      "plt.loglog(sds.src_group_struct[:-1], rx, figure=fig)\n",
      "plt.loglog(sds.dst_group_struct[:-1], rxc, figure=fig)\n",
      "plt.xlabel('E [MeV]')\n",
      "plt.ylabel('Cross Section [barns]')"
     ],
     "language": "python",
     "outputs": [
      {
       "metadata": null,
       "output_type": "pyout",
       "prompt_number": 7,
       "text": [
        "<matplotlib.text.Text at 0x3e8ba10>"
       ]
      },
      {
       "metadata": null,
       "output_type": "display_data",
       "png": "[encoded data removed]",
       "text": [
        "<matplotlib.figure.Figure at 0x3e8c190>"
       ]
      }
     ],
     "prompt_number": 7
    },
    {
     "cell_type": "markdown",
     "source": [
      "Since data sources are caches, which means that subsequent requests for \n",
      "the same data are very fast! "
     ]
    },
    {
     "cell_type": "code",
     "collapsed": false,
     "input": [
      "%time sds.reaction('U238', 'fiss')\n",
      "print\n",
      "%time sds.reaction('U238', 'fission')\n",
      "print\n",
      "%time sds.reaction('U238', 'fiss')\n",
      "print"
     ],
     "language": "python",
     "outputs": [
      {
       "output_type": "stream",
       "stream": "stdout",
       "text": [
        "CPU times: user 22.2 ms, sys: 99 \u00b5s, total: 22.3 ms\n",
        "Wall time: 21 ms\n",
        "\n",
        "CPU times: user 46 \u00b5s, sys: 2 \u00b5s, total: 48 \u00b5s\n",
        "Wall time: 52 \u00b5s\n",
        "\n",
        "CPU times: user 24 \u00b5s, sys: 1 \u00b5s, total: 25 \u00b5s\n",
        "Wall time: 27.9 \u00b5s\n",
        "\n"
       ]
      }
     ],
     "prompt_number": 8
    },
    {
     "cell_type": "markdown",
     "source": [
      "## Cross Section Caching\n",
      "\n",
      "Now suppose you want to perform the same discretization and wish to pull cross sections from many sources (with some precednce) based on whether the data is available or not.  Enter `XSCache`.  This is an class to do exactly that.  \n",
      "\n",
      "This class acts like a dictionary whose keys are `(nuclide, rx)` or `(nuclide, rx, temp)` tuples for the nuclide, reaction id, and temperature that you wish to know.  "
     ]
    },
    {
     "cell_type": "code",
     "collapsed": false,
     "input": [
      "from pyne.xs.cache import XSCache"
     ],
     "language": "python",
     "outputs": [],
     "prompt_number": 9
    },
    {
     "cell_type": "code",
     "collapsed": false,
     "input": [
      "xscache = XSCache(group_struct=dst_e_g, data_source_classes=[EAFDataSource, SimpleDataSource, NullDataSource])"
     ],
     "language": "python",
     "outputs": [],
     "prompt_number": 10
    },
    {
     "cell_type": "code",
     "collapsed": false,
     "input": [
      "xscache['U235', 'abs']"
     ],
     "language": "python",
     "outputs": [
      {
       "metadata": null,
       "output_type": "pyout",
       "prompt_number": 11,
       "text": [
        "array([   1.94057774,    1.71230641,    2.02444418,    3.24912017,\n",
        "          7.42318537,   20.15919429,   51.8621376 ,   77.11455565,\n",
        "         46.99610069,  155.69532222])"
       ]
      }
     ],
     "prompt_number": 11
    },
    {
     "cell_type": "code",
     "collapsed": false,
     "input": [
      "xscache['H42', 'gamma']"
     ],
     "language": "python",
     "outputs": [
      {
       "metadata": null,
       "output_type": "pyout",
       "prompt_number": 12,
       "text": [
        "array([ 0.,  0.,  0.,  0.,  0.,  0.,  0.,  0.,  0.,  0.])"
       ]
      }
     ],
     "prompt_number": 12
    },
    {
     "cell_type": "markdown",
     "source": [
      "## Reading ACE Files\n",
      "\n",
      "To load data from an ACE file, one needs to simply initialize an instance of the Library class specifying the path to the Library file:\n",
      "\n",
      "    from pyne import ace\n",
      "    libFile = ace.Library('endf70a')\n",
      "    libFile.read()\n",
      "    "
     ]
    },
    {
     "cell_type": "markdown",
     "source": [
      "## Reading ENDF Files\n",
      "Similarly, though there is currently no processing that is done on them, ENDF file reading is supported.\n"
     ]
    },
    {
     "cell_type": "code",
     "collapsed": false,
     "input": [
      "from pyne.xs.data_source import ENDFDataSource\n",
      "from pyne import nucname\n",
      "endf = ENDFDataSource(\"Ni59.txt\")\n",
      "nuc = nucname.id(\"Ni59\")\n",
      "endf._load_reaction(nuc, 3, nuc)\n",
      "xs = endf.rxcache[nuc, 3, nuc]['xs']\n",
      "xs"
     ],
     "language": "python",
     "outputs": [
      {
       "output_type": "pyout",
       "prompt_number": 5,
       "text": [
        "array([  7.64460000e+02,   2.41830000e+02,   7.64672000e+01,\n",
        "         6.24362000e+01,   5.40713000e+01,   5.12170000e+01,\n",
        "         4.83627000e+01,   4.41492000e+01,   4.08752000e+01,\n",
        "         3.82347000e+01,   3.60486000e+01,   3.41990000e+01,\n",
        "         3.26071000e+01,   3.12197000e+01,   2.99946000e+01,\n",
        "         2.89033000e+01,   2.79234000e+01,   2.70368000e+01,\n",
        "         2.62301000e+01,   2.54909000e+01,   2.48114000e+01,\n",
        "         2.41835000e+01,   1.97463000e+01,   1.71023000e+01,\n",
        "         1.52976000e+01,   1.39645000e+01,   1.29294000e+01,\n",
        "         1.20947000e+01,   1.14038000e+01,   1.08193000e+01,\n",
        "         1.03163000e+01,   9.87761000e+00,   9.49048000e+00,\n",
        "         9.14575000e+00,   8.83602000e+00,   8.55588000e+00,\n",
        "         8.30093000e+00,   8.06737000e+00,   7.85259000e+00,\n",
        "         7.65413000e+00,   6.25261000e+00,   5.41758000e+00,\n",
        "         4.84795000e+00,   4.42773000e+00,   4.10134000e+00,\n",
        "         3.83830000e+00,   3.62059000e+00,   3.43642000e+00,\n",
        "         3.27812000e+00,   3.14008000e+00,   3.01845000e+00,\n",
        "         2.91010000e+00,   2.81278000e+00,   2.72480000e+00,\n",
        "         2.64470000e+00,   2.57146000e+00,   2.50417000e+00,\n",
        "         2.44195000e+00,   2.00362000e+00,   1.74383000e+00,\n",
        "         1.56752000e+00,   1.43802000e+00,   1.33800000e+00,\n",
        "         1.25789000e+00,   1.19185000e+00,   1.13638000e+00,\n",
        "         1.08899000e+00,   1.04790000e+00,   1.01189000e+00,\n",
        "         9.80040000e-01,   9.51639000e-01,   9.26130000e-01,\n",
        "         9.03075000e-01,   8.82145000e-01,   8.63038000e-01,\n",
        "         8.45529000e-01,   7.27401000e-01,   6.64674000e-01,\n",
        "         6.28206000e-01,   6.06938000e-01,   5.95693000e-01,\n",
        "         5.91760000e-01,   5.93598000e-01,   6.00349000e-01,\n",
        "         6.11531000e-01,   6.26929000e-01,   6.46520000e-01,\n",
        "         6.70449000e-01,   6.98998000e-01,   7.32583000e-01,\n",
        "         7.71809000e-01,   8.17439000e-01,   8.70453000e-01,\n",
        "         9.32119000e-01,   1.30526000e+00,   1.61637000e+00,\n",
        "         2.08243000e+00,   2.82443000e+00,   3.37185000e+00,\n",
        "         4.11027000e+00,   5.13959000e+00,   6.63420000e+00,\n",
        "         8.91981000e+00,   1.26564000e+01,   1.93250000e+01,\n",
        "         3.26778000e+01,   6.30160000e+01,   1.27787000e+02,\n",
        "         1.41978000e+02,   1.52855000e+02,   1.58146000e+02,\n",
        "         1.56506000e+02,   1.48315000e+02,   1.35416000e+02,\n",
        "         1.20225000e+02,   1.04777000e+02,   9.03687000e+01,\n",
        "         7.76114000e+01,   3.77215000e+01,   2.08890000e+01,\n",
        "         1.29508000e+01,   8.71248000e+00,   6.21889000e+00,\n",
        "         4.64012000e+00,   3.58248000e+00,   2.84179000e+00,\n",
        "         2.30415000e+00,   1.90225000e+00,   1.59450000e+00,\n",
        "         1.35393000e+00,   1.16257000e+00,   1.00787000e+00,\n",
        "         8.81239000e-01,   7.76338000e-01,   6.88516000e-01,\n",
        "         6.14313000e-01,   5.51087000e-01,   4.96805000e-01,\n",
        "         4.49882000e-01,   4.09061000e-01,   3.73352000e-01,\n",
        "         3.41936000e-01,   3.14181000e-01,   2.89529000e-01,\n",
        "         2.67562000e-01,   2.47898000e-01,   2.30234000e-01,\n",
        "         2.14312000e-01,   1.99918000e-01,   1.86861000e-01,\n",
        "         1.74994000e-01,   1.64163000e-01,   1.54273000e-01,\n",
        "         1.45205000e-01,   1.36868000e-01,   1.29215000e-01,\n",
        "         5.09670000e-02,   2.61423000e-02,   1.55317000e-02,\n",
        "         1.01467000e-02,   5.20614000e-03,   3.97848000e-03,\n",
        "         3.14023000e-03,   2.54735000e-03,   2.11615000e-03,\n",
        "         1.79586000e-03,   1.55426000e-03,   1.37024000e-03,\n",
        "         1.22986000e-03,   1.12373000e-03,   1.04565000e-03,\n",
        "         9.91813000e-04,   9.60482000e-04,   9.52040000e-04,\n",
        "         9.69577000e-04,   1.02054000e-03,   1.12050000e-03,\n",
        "         1.30314000e-03,   1.64901000e-03,   2.39061000e-03,\n",
        "         4.45126000e-03,   1.50205000e-02,   4.39438000e+00,\n",
        "         1.64928000e-02,   4.76977000e-03,   2.84527000e-03,\n",
        "         2.39999000e-03,   2.50833000e-03,   3.07111000e-03,\n",
        "         4.34688000e-03,   7.27051000e-03,   1.52228000e-02,\n",
        "         2.95034000e-02,   3.24843000e-02,   3.56529000e-02,\n",
        "         3.89232000e-02,   4.21609000e-02,   4.51828000e-02,\n",
        "         4.77648000e-02,   4.22639000e-02,   1.63124000e-02,\n",
        "         7.34649000e-03,   4.14054000e-03,   2.72383000e-03,\n",
        "         2.00124000e-03,   1.60133000e-03,   1.37486000e-03,\n",
        "         1.25502000e-03,   1.21100000e-03,   1.23086000e-03,\n",
        "         1.31550000e-03,   1.47849000e-03,   1.75128000e-03,\n",
        "         2.19742000e-03,   2.94769000e-03,   4.29160000e-03,\n",
        "         6.93434000e-03,   1.26800000e-02,   2.42551000e-02,\n",
        "         2.87016000e-02,   2.96927000e-02,   3.03005000e-02,\n",
        "         2.94829000e-02,   1.72186000e-02,   8.80925000e-03,\n",
        "         5.02963000e-03,   3.21129000e-03,   2.23455000e-03,\n",
        "         1.66034000e-03,   1.29918000e-03,   1.06072000e-03,\n",
        "         8.98123000e-04,   7.85424000e-04,   7.07594000e-04,\n",
        "         6.55680000e-04,   6.24429000e-04,   6.11034000e-04,\n",
        "         6.14559000e-04,   6.35741000e-04,   6.77222000e-04,\n",
        "         7.44162000e-04,   8.45674000e-04,   9.97573000e-04,\n",
        "         1.22829000e-03,   1.59224000e-03,   2.20335000e-03,\n",
        "         3.33353000e-03,   5.77039000e-03,   1.26518000e-02,\n",
        "         4.78051000e-02,   1.19836000e-01,   1.90873000e-01,\n",
        "         3.31396000e-01,   5.93910000e-01,   8.06053000e-01,\n",
        "         5.91538000e-01,   3.29438000e-01,   1.89500000e-01,\n",
        "         1.18818000e-01,   4.72132000e-02,   1.23454000e-02,\n",
        "         5.54725000e-03,   3.14387000e-03,   2.02758000e-03,\n",
        "         1.42004000e-03,   1.05311000e-03,   8.14489000e-04,\n",
        "         6.31690000e-04,   5.00000000e-04,   1.81900000e-01,\n",
        "         1.38203000e-01,   9.45060000e-02,   6.31150000e-02,\n",
        "         6.33270000e-02,   5.79420000e-02,   5.51570000e-02,\n",
        "         5.63870000e-02,   3.91171000e-02,   3.41771000e-02,\n",
        "         4.49371000e-02,   7.05971000e-02,   8.02572000e-02,\n",
        "         8.12172000e-02,   9.64772000e-02,   1.14037000e-01,\n",
        "         1.32397000e-01,   1.47872000e-01,   1.73447000e-01,\n",
        "         1.94222000e-01,   2.19897000e-01,   2.51348000e-01,\n",
        "         2.90298000e-01,   3.09948000e-01,   3.58398000e-01,\n",
        "         4.04876000e-01,   4.36128000e-01,   4.50794000e-01,\n",
        "         4.71046000e-01,   4.72578000e-01,   5.08938000e-01,\n",
        "         5.61908000e-01,   6.11256000e-01,   6.14958000e-01,\n",
        "         6.60208000e-01,   6.82197000e-01,   6.91065000e-01,\n",
        "         7.07048000e-01,   7.25088000e-01,   7.99548000e-01,\n",
        "         8.91258000e-01,   9.55379000e-01,   1.01285000e+00,\n",
        "         1.06117000e+00,   1.10130000e+00,   1.13518000e+00,\n",
        "         1.16489000e+00,   1.19218000e+00,   1.21837000e+00,\n",
        "         1.24433000e+00,   1.27054000e+00,   1.28099000e+00,\n",
        "         1.29873000e+00,   1.31241000e+00,   1.32724000e+00,\n",
        "         1.35459000e+00,   1.38180000e+00,   1.40864000e+00,\n",
        "         1.43491000e+00,   1.46049000e+00,   1.48545000e+00,\n",
        "         1.50996000e+00,   1.53420000e+00])"
       ]
      }
     ],
     "prompt_number": 5
    },
    {
     "cell_type": "code",
     "collapsed": false,
     "input": [
      "# The ENDF data source can also discretize your data:"
     ],
     "language": "python",
     "outputs": []
    },
    {
     "cell_type": "code",
     "collapsed": false,
     "input": [
      "# endf.discretize(nuc, 3, nuc) "
     ],
     "language": "python",
     "outputs": [
      {
       "output_type": "pyout",
       "prompt_number": 6,
       "text": [
        "array([   0.81983558,  139.03256572])"
       ]
      }
     ],
     "prompt_number": 6
    },
    {
     "cell_type": "markdown",
     "source": [
      "Now let's plot it!!"
     ]
    },
    {
     "cell_type": "code",
     "collapsed": false,
     "input": [
      "from pyne.bins import stair_step\n",
      "import matplotlib.pyplot as plt\n",
      "import matplotlib"
     ],
     "language": "python",
     "outputs": [],
     "prompt_number": 8
    },
    {
     "cell_type": "code",
     "collapsed": false,
     "input": [
      "fig = plt.figure(figsize=(7,7))\n",
      "E_g = np.concatenate(endf.src_group_struct)\n",
      "plt.loglog(*stair_step(E_g, xs[:-1]), figure=fig)\n",
      "plt.xlabel('E [MeV]')\n",
      "plt.ylabel('Cross Section [barns]')"
     ],
     "language": "python",
     "outputs": [
      {
       "output_type": "pyout",
       "prompt_number": 14,
       "text": [
        "<matplotlib.text.Text at 0x38e0650>"
       ]
      },
      {
       "output_type": "display_data",
       "png": "[encoded data removed]",
       "text": [
        "<matplotlib.figure.Figure at 0x3914710>"
       ]
      }
     ],
     "prompt_number": 14
    },
    {
     "cell_type": "markdown",
     "source": [
      "## Cross Section Channels\n",
      "\n",
      "PyNE also provides an easy interface to very quickly grab multigroup cross sections from the cross section cache and collapse them to the appropriate group structure. This is done in the `pyne.xs.channels` module.  This contains functions such as `sigma_f()` for computing the fission cross section.\n",
      "\n",
      "The functions in the channels module are extended from what you would normally be able to see from the cache.  For example, you may compute cross sections for materials, fission energy spectra, metastable ratios, etc."
     ]
    },
    {
     "cell_type": "code",
     "collapsed": false,
     "input": [
      "from pyne.xs import channels\n",
      "from pyne.material import Material, from_atom_frac"
     ],
     "language": "python",
     "outputs": [],
     "prompt_number": 13
    },
    {
     "cell_type": "code",
     "collapsed": false,
     "input": [
      "fuel = from_atom_frac({'U235': 0.045, 'U238': 0.955, 'O16': 2.0}, mass=1.0, density=10.7)\n",
      "channels.sigma_f(fuel, group_struct=dst_e_g)"
     ],
     "language": "python",
     "outputs": [
      {
       "metadata": null,
       "output_type": "pyout",
       "prompt_number": 14,
       "text": [
        "array([ 0.21399873,  0.11453048,  0.10468654,  0.11530639,  0.16821274,\n",
        "        0.30209576,  0.61828301,  0.74475957,  0.62181338,  2.61053832])"
       ]
      }
     ],
     "prompt_number": 14
    }
   ]
  }
 ]
}