{
 "metadata": {
  "name": "",
  "signature": "sha256:3c4f2e1067e07600e79aae903f6625a7d158c91fc5631f268dfffa6ef74bde6c"
 },
 "nbformat": 3,
 "nbformat_minor": 0,
 "worksheets": [
  {
   "cells": [
    {
     "cell_type": "markdown",
     "metadata": {},
     "source": [
      "# Neutron Diffusion in Python \n",
      "\n",
      "This notebook is an entirely self-contained solution to a basic [neutron diffision](http://mragheb.com/NPRE%20402%20ME%20405%20Nuclear%20Power%20Engineering/One%20Group%20Reactor%20Theory.pdf) equation for a reactor *rx* made up of a single fuel rod. The one-group diffusion equation that we will be stepping through time and space is, \n",
      "\n",
      "$\\frac{1}{v}\\frac{\\partial \\phi}{\\partial t} = D \\nabla^2 \\phi + (k - 1) \\Sigma_a \\phi + S$\n",
      "\n",
      "where \n",
      "\n",
      "* $\\phi$ is the neutron flux [n/cm$^2$/s],\n",
      "* $D$ is the diffusion coefficient [cm],\n",
      "* $k$ is the multiplication factor of the material [unitless],\n",
      "* $S$ is a static source term [n/cm$^2$/s], and\n",
      "* $v$ is the neutron velocity, which for [thermal neutrons](http://en.wikipedia.org/wiki/Neutron_temperature) is 2.2e5 [cm/s]"
     ]
    },
    {
     "cell_type": "markdown",
     "metadata": {},
     "source": [
      "## First, Make a Mesh\n",
      "\n",
      "PyNE Meshes will be used to compute all of the nuclear data needs here and for a semi-structured MOAB Hex8 meshes. The simulation, analysis, and visulaization here takes place entirely within memory."
     ]
    },
    {
     "cell_type": "code",
     "collapsed": false,
     "input": [
      "from itertools import product \n",
      "from pyne.mesh import Mesh, IMeshTag\n",
      "from pyne.xs.cache import XSCache\n",
      "from pyne.xs.data_source import CinderDataSource, SimpleDataSource, NullDataSource\n",
      "from pyne.xs.channels import sigma_a, sigma_s\n",
      "from pyne.material import Material, from_atom_frac\n",
      "import numpy as np\n",
      "from yt.config import ytcfg; ytcfg[\"yt\",\"suppressStreamLogging\"] = \"True\"\n",
      "from yt.frontends.moab.api import PyneMoabHex8Dataset\n",
      "from yt.mods import SlicePlot\n",
      "from itaps import iBase, iMesh\n",
      "from matplotlib import animation\n",
      "from JSAnimation import IPython_display\n",
      "import matplotlib.pyplot as plt\n",
      "from matplotlib.backends.backend_agg import FigureCanvasAgg\n",
      "from IPython.display import HTML"
     ],
     "language": "python",
     "metadata": {},
     "outputs": [
      {
       "output_type": "stream",
       "stream": "stderr",
       "text": [
        "/Users/bates26/venv/pyne/lib/python2.7/site-packages/pyne/mesh.py:12: QAWarning: pyne.mesh is not yet QA compliant.\n",
        "  warn(__name__ + \" is not yet QA compliant.\", QAWarning)\n",
        "/Users/bates26/venv/pyne/lib/python2.7/site-packages/pyne/mesh.py:20: QAWarning: pyne.data is not yet QA compliant.\n",
        "  from pyne.material import Material, MaterialLibrary, MultiMaterial\n",
        "/Users/bates26/venv/pyne/lib/python2.7/site-packages/pyne/mesh.py:20: QAWarning: pyne.material is not yet QA compliant.\n",
        "  from pyne.material import Material, MaterialLibrary, MultiMaterial\n",
        "/Users/bates26/venv/pyne/lib/python2.7/site-packages/pyne/xs/cache.py:15: QAWarning: pyne.xs.models is not yet QA compliant.\n",
        "  from pyne.xs.models import partial_energy_matrix, phi_g\n"
       ]
      },
      {
       "output_type": "stream",
       "stream": "stderr",
       "text": [
        "/Users/bates26/venv/pyne/lib/python2.7/site-packages/pyne/openmc.py:18: QAWarning: pyne.openmc is not yet QA compliant.\n",
        "  warn(__name__ + \" is not yet QA compliant.\", QAWarning)\n",
        "/Users/bates26/venv/pyne/lib/python2.7/site-packages/pyne/xs/data_source.py:22: QAWarning: pyne.rxname is not yet QA compliant.\n",
        "  from pyne import rxname\n",
        "/Users/bates26/venv/pyne/lib/python2.7/site-packages/pyne/rxdata.py:5: QAWarning: pyne.rxdata is not yet QA compliant.\n",
        "  warn(__name__ + \" is not yet QA compliant.\", QAWarning)\n",
        "/Users/bates26/venv/pyne/lib/python2.7/site-packages/pyne/xs/data_source.py:23: QAWarning: pyne.endf is not yet QA compliant.\n",
        "  from pyne import endf\n",
        "/Users/bates26/venv/pyne/lib/python2.7/site-packages/pyne/xs/data_source.py:24: QAWarning: pyne.bins is not yet QA compliant.\n",
        "  from pyne import bins\n",
        "/Users/bates26/venv/pyne/lib/python2.7/site-packages/pyne/xs/data_source.py:25: QAWarning: pyne.ace is not yet QA compliant.\n",
        "  from pyne import ace\n",
        "/Users/bates26/venv/pyne/lib/python2.7/site-packages/pyne/xs/data_source.py:29: QAWarning: pyne.xs.data_source is not yet QA compliant.\n",
        "  warn(__name__ + \" is not yet QA compliant.\", QAWarning)\n",
        "/Users/bates26/venv/pyne/lib/python2.7/site-packages/pyne/xs/cache.py:19: QAWarning: pyne.xs.cache is not yet QA compliant.\n",
        "  warn(__name__ + \" is not yet QA compliant.\", QAWarning)\n",
        "/Users/bates26/venv/pyne/lib/python2.7/site-packages/pyne/xs/channels.py:26: QAWarning: pyne.xs.channels is not yet QA compliant.\n",
        "  warn(__name__ + \" is not yet QA compliant.\", QAWarning)\n"
       ]
      }
     ],
     "prompt_number": 1
    },
    {
     "cell_type": "code",
     "collapsed": false,
     "input": [
      "xsc = XSCache([0.026e-6, 0.024e-6], (SimpleDataSource, NullDataSource))"
     ],
     "language": "python",
     "metadata": {},
     "outputs": [],
     "prompt_number": 2
    },
    {
     "cell_type": "markdown",
     "metadata": {},
     "source": [
      "### The Laplacian\n",
      "\n",
      "The functions in the following cell solve for the laplacian ($\\nabla^2$) for any index in in the mesh using a [3 point stencil](http://en.wikipedia.org/wiki/Five-point_stencil) along each axis. This implements reflecting boundary conditions along the edges of the domain."
     ]
    },
    {
     "cell_type": "code",
     "collapsed": false,
     "input": [
      "def lpoint(idx, n, coords, shape, m):\n",
      "    lidx = list(idx)\n",
      "    lidx[n] += 1 if idx[n] == 0 else -1\n",
      "    left = m.structured_get_hex(*lidx)\n",
      "    l = m.mesh.getVtxCoords(left)[n]\n",
      "    if idx[n] == 0:\n",
      "        l = 2*coords[n] - l \n",
      "    return left, l\n",
      "\n",
      "def rpoint(idx, n, coords, shape, m):\n",
      "    ridx = list(idx)\n",
      "    ridx[n] += -1 if idx[n] == shape[n]-2 else 1\n",
      "    right = m.structured_get_hex(*ridx)\n",
      "    r = m.mesh.getVtxCoords(right)[n]\n",
      "    if idx[n] == shape[n]-2:\n",
      "        r = 2*coords[n] - r\n",
      "    return right, r\n",
      "\n",
      "def laplace(tag, idx, m, shape):\n",
      "    ent = m.structured_get_hex(*idx)\n",
      "    coords = m.mesh.getVtxCoords(ent)\n",
      "    lptag = 0.0\n",
      "    for n in range(3):\n",
      "        left, l = lpoint(idx, n, coords, shape, m)\n",
      "        right, r = rpoint(idx, n, coords, shape, m)\n",
      "        c = coords[n]\n",
      "        lptag += (((tag[right] - tag[ent])/(r-c)) - ((tag[ent] - tag[left])/(c-l))) / ((r-l)/2)\n",
      "    return lptag"
     ],
     "language": "python",
     "metadata": {},
     "outputs": [],
     "prompt_number": 3
    },
    {
     "cell_type": "markdown",
     "metadata": {},
     "source": [
      "### Solve in space\n",
      "\n",
      "The ``timestep()`` function sweeps through the entire mesh and computes the new flux everywhere.  This operation takes place entirely on the mesh object."
     ]
    },
    {
     "cell_type": "code",
     "collapsed": false,
     "input": [
      "def timestep(m, dt):\n",
      "    nx = len(m.structured_get_divisions(\"x\"))\n",
      "    ny = len(m.structured_get_divisions(\"y\"))\n",
      "    nz = len(m.structured_get_divisions(\"z\"))\n",
      "    shape = (nx, ny, nz)\n",
      "    D = m.mesh.getTagHandle(\"D\")\n",
      "    k = m.mesh.getTagHandle(\"k\")\n",
      "    S = m.mesh.getTagHandle(\"S\")\n",
      "    Sigma_a = m.mesh.getTagHandle(\"Sigma_a\")\n",
      "    phi = m.mesh.getTagHandle(\"phi\")\n",
      "    phi_next = m.mesh.getTagHandle(\"phi_next\")\n",
      "    for idx in product(*[range(xyz-1) for xyz in shape]):\n",
      "        ent = m.structured_get_hex(*idx)\n",
      "        phi_next[ent] = (max(D[ent] * laplace(phi, idx, m, shape) + \n",
      "                                    (k[ent] - 1.0) * Sigma_a[ent] * phi[ent], 0.0) + S[ent])*dt*2.2e5 + phi[ent]\n",
      "    ents = m.mesh.getEntities(iBase.Type.region)\n",
      "    phi[ents] = phi_next[ents]"
     ],
     "language": "python",
     "metadata": {},
     "outputs": [],
     "prompt_number": 4
    },
    {
     "cell_type": "markdown",
     "metadata": {},
     "source": [
      "### Solve in time\n",
      "\n",
      "The ``render()`` function steps through time calling the ``timestep()`` function and then creating an image.  The images that are generated are then dumped into a movie."
     ]
    },
    {
     "cell_type": "code",
     "collapsed": false,
     "input": [
      "def render(m, dt, axis=\"z\", field=\"phi\", frames=100):\n",
      "    pf = PyneMoabHex8Dataset(m)\n",
      "    s = SlicePlot(pf, axis, field, origin='native')\n",
      "    fig = s.plots['gas', field].figure\n",
      "    fig.canvas = FigureCanvasAgg(fig)\n",
      "    axim = fig.axes[0].images[0]\n",
      "\n",
      "    def init():\n",
      "        axim = s.plots['gas', 'phi'].image\n",
      "        return axim\n",
      "\n",
      "    def animate(i):\n",
      "        s = SlicePlot(pf, axis, field, origin='native')\n",
      "        axim.set_data(s._frb['gas', field])\n",
      "        timestep(m, dt)\n",
      "        return axim\n",
      "\n",
      "    return animation.FuncAnimation(fig, animate, init_func=init, frames=frames, interval=100, blit=False)"
     ],
     "language": "python",
     "metadata": {},
     "outputs": [],
     "prompt_number": 10
    },
    {
     "cell_type": "markdown",
     "metadata": {},
     "source": [
      "### Reactor\n",
      "\n",
      "This setups up a simple light water reactor fuel pin in a water cell.  Note that our cells are allowed to have varing aspect ratios.  This allows us to be coarsely refined inside of the pin, finely refined around the edge of the pin, and then have a different coarse refinement out in the coolant."
     ]
    },
    {
     "cell_type": "code",
     "collapsed": false,
     "input": [
      "def isinrod(ent, rx, radius=0.4):\n",
      "    \"\"\"returns whether an entity is in a control rod\"\"\"\n",
      "    coord = rx.mesh.getVtxCoords(ent)\n",
      "    return (coord[0]**2 + coord[1]**2) <= radius**2\n",
      "\n",
      "def create_reactor(multfact=1.0, radius=0.4):\n",
      "    fuel = from_atom_frac({'U235': 0.045, 'U238': 0.955, 'O16': 2.0}, density=10.7)\n",
      "    cool = from_atom_frac({'H1': 2.0, 'O16': 1.0}, density=1.0)\n",
      "    xpoints = [0.0, 0.075, 0.15, 0.225] + list(np.arange(0.3, 0.7, 0.025)) + list(np.arange(0.7, 1.201, 0.05))\n",
      "    ypoints = xpoints\n",
      "    zpoints = np.linspace(0.0, 1.0, 8)\n",
      "    # Make Mesh\n",
      "    rx = Mesh(structured_coords=[xpoints, ypoints, zpoints], structured=True)\n",
      "    # Add Tags\n",
      "    rx.D = IMeshTag(size=1, dtype=float)\n",
      "    rx.k = IMeshTag(size=1, dtype=float)\n",
      "    rx.S = IMeshTag(size=1, dtype=float)\n",
      "    rx.Sigma_a = IMeshTag(size=1, dtype=float)\n",
      "    rx.phi = IMeshTag(size=1, dtype=float)\n",
      "    rx.phi_next = IMeshTag(size=1, dtype=float)\n",
      "    # Assign initial conditions\n",
      "    Ds = []; Sigma_as = []; phis = []; ks = [];\n",
      "    for i, mat, ent in rx:\n",
      "        if isinrod(ent, rx, radius=radius):\n",
      "            Ds.append(1.0 / (3.0 * fuel.density * 1e-24 * sigma_s(fuel, xs_cache=xsc)))\n",
      "            Sigma_as.append(fuel.density * 1e-24 * sigma_a(fuel, xs_cache=xsc))\n",
      "            phis.append(4e14)\n",
      "            ks.append(multfact)\n",
      "        else:\n",
      "            Ds.append(1.0 / (3.0 * cool.density * 1e-24 * sigma_s(cool, xs_cache=xsc)))\n",
      "            Sigma_as.append(cool.density * 1e-24 * sigma_a(cool, xs_cache=xsc))\n",
      "            r2 = (rx.mesh.getVtxCoords(ent)[:2]**2).sum()\n",
      "            phis.append(4e14 * radius**2 / r2 if r2 < 0.7**2 else 0.0)\n",
      "            ks.append(0.0)\n",
      "    rx.D[:] = np.array(Ds)[:,0]\n",
      "    rx.Sigma_a[:] = np.array(Sigma_as)[:,0]\n",
      "    rx.phi[:] = phis\n",
      "    rx.k[:] = ks\n",
      "    rx.S[:] = 0.0\n",
      "    rx.phi_next[:] = 0.0\n",
      "    return rx"
     ],
     "language": "python",
     "metadata": {},
     "outputs": [],
     "prompt_number": 11
    },
    {
     "cell_type": "code",
     "collapsed": false,
     "input": [
      "rx."
     ],
     "language": "python",
     "metadata": {},
     "outputs": [
      {
       "ename": "SyntaxError",
       "evalue": "invalid syntax (<ipython-input-12-dcbfd70a3450>, line 1)",
       "output_type": "pyerr",
       "traceback": [
        "\u001b[0;36m  File \u001b[0;32m\"<ipython-input-12-dcbfd70a3450>\"\u001b[0;36m, line \u001b[0;32m1\u001b[0m\n\u001b[0;31m    rx.\u001b[0m\n\u001b[0m       ^\u001b[0m\n\u001b[0;31mSyntaxError\u001b[0m\u001b[0;31m:\u001b[0m invalid syntax\n"
       ]
      }
     ],
     "prompt_number": 12
    },
    {
     "cell_type": "code",
     "collapsed": false,
     "input": [
      "rx = create_reactor()"
     ],
     "language": "python",
     "metadata": {},
     "outputs": [],
     "prompt_number": 14
    },
    {
     "cell_type": "code",
     "collapsed": false,
     "input": [
      "render(rx, dt=2.5e-31, frames=10)"
     ],
     "language": "python",
     "metadata": {},
     "outputs": [
      {
       "output_type": "stream",
       "stream": "stderr",
       "text": [
        "yt : [INFO     ] 2015-02-13 10:35:35,487 Parameters: current_time              = 0.0\n"
       ]
      },
      {
       "output_type": "stream",
       "stream": "stderr",
       "text": [
        "yt : [INFO     ] 2015-02-13 10:35:35,489 Parameters: domain_dimensions         = [ 1.2  1.2  1. ]\n"
       ]
      },
      {
       "output_type": "stream",
       "stream": "stderr",
       "text": [
        "yt : [INFO     ] 2015-02-13 10:35:35,494 Parameters: domain_left_edge          = [ 0.  0.  0.]\n"
       ]
      },
      {
       "output_type": "stream",
       "stream": "stderr",
       "text": [
        "yt : [INFO     ] 2015-02-13 10:35:35,496 Parameters: domain_right_edge         = [ 1.2  1.2  1. ]\n"
       ]
      },
      {
       "output_type": "stream",
       "stream": "stderr",
       "text": [
        "yt : [INFO     ] 2015-02-13 10:35:35,497 Parameters: cosmological_simulation   = 0.0\n"
       ]
      },
      {
       "output_type": "stream",
       "stream": "stderr",
       "text": [
        "yt : [INFO     ] 2015-02-13 10:35:35,545 Loading field plugins.\n"
       ]
      },
      {
       "output_type": "stream",
       "stream": "stderr",
       "text": [
        "yt : [INFO     ] 2015-02-13 10:35:35,546 Loaded angular_momentum (8 new fields)\n"
       ]
      },
      {
       "output_type": "stream",
       "stream": "stderr",
       "text": [
        "yt : [INFO     ] 2015-02-13 10:35:35,546 Loaded astro (15 new fields)\n"
       ]
      },
      {
       "output_type": "stream",
       "stream": "stderr",
       "text": [
        "yt : [INFO     ] 2015-02-13 10:35:35,547 Loaded cosmology (22 new fields)\n"
       ]
      },
      {
       "output_type": "stream",
       "stream": "stderr",
       "text": [
        "yt : [INFO     ] 2015-02-13 10:35:35,548 Loaded fluid (64 new fields)\n"
       ]
      },
      {
       "output_type": "stream",
       "stream": "stderr",
       "text": [
        "yt : [INFO     ] 2015-02-13 10:35:35,549 Loaded fluid_vector (96 new fields)\n"
       ]
      },
      {
       "output_type": "stream",
       "stream": "stderr",
       "text": [
        "yt : [INFO     ] 2015-02-13 10:35:35,550 Loaded geometric (112 new fields)\n"
       ]
      },
      {
       "output_type": "stream",
       "stream": "stderr",
       "text": [
        "yt : [INFO     ] 2015-02-13 10:35:35,552 Loaded local (112 new fields)\n"
       ]
      },
      {
       "output_type": "stream",
       "stream": "stderr",
       "text": [
        "yt : [INFO     ] 2015-02-13 10:35:35,553 Loaded magnetic_field (120 new fields)\n"
       ]
      },
      {
       "output_type": "stream",
       "stream": "stderr",
       "text": [
        "yt : [INFO     ] 2015-02-13 10:35:35,554 Loaded my_plugins (120 new fields)\n"
       ]
      },
      {
       "output_type": "stream",
       "stream": "stderr",
       "text": [
        "yt : [INFO     ] 2015-02-13 10:35:35,555 Loaded species (122 new fields)\n"
       ]
      },
      {
       "output_type": "stream",
       "stream": "stderr",
       "text": [
        "yt : [INFO     ] 2015-02-13 10:35:35,717 xlim = 0.000000 1.200000\n"
       ]
      },
      {
       "output_type": "stream",
       "stream": "stderr",
       "text": [
        "yt : [INFO     ] 2015-02-13 10:35:35,717 ylim = 0.000000 1.200000\n"
       ]
      },
      {
       "output_type": "stream",
       "stream": "stderr",
       "text": [
        "yt : [INFO     ] 2015-02-13 10:35:35,718 Making a fixed resolution buffer of (('pyne', 'phi')) 800 by 800\n"
       ]
      },
      {
       "output_type": "stream",
       "stream": "stderr",
       "text": [
        "yt : [INFO     ] 2015-02-13 10:35:35,738 Making a fixed resolution buffer of (phi) 800 by 800\n"
       ]
      },
      {
       "output_type": "stream",
       "stream": "stderr",
       "text": [
        "yt : [INFO     ] 2015-02-13 10:35:35,758 xlim = 0.000000 1.200000\n"
       ]
      },
      {
       "output_type": "stream",
       "stream": "stderr",
       "text": [
        "yt : [INFO     ] 2015-02-13 10:35:35,759 ylim = 0.000000 1.200000\n"
       ]
      },
      {
       "output_type": "stream",
       "stream": "stderr",
       "text": [
        "yt : [INFO     ] 2015-02-13 10:35:35,766 Making a fixed resolution buffer of (phi) 800 by 800\n"
       ]
      },
      {
       "output_type": "stream",
       "stream": "stderr",
       "text": [
        "yt : [INFO     ] 2015-02-13 10:35:35,790 Making a fixed resolution buffer of (('pyne', 'phi')) 800 by 800\n"
       ]
      },
      {
       "output_type": "stream",
       "stream": "stderr",
       "text": [
        "yt : [INFO     ] 2015-02-13 10:35:35,809 Making a fixed resolution buffer of (phi) 800 by 800\n"
       ]
      },
      {
       "output_type": "stream",
       "stream": "stderr",
       "text": [
        "yt : [INFO     ] 2015-02-13 10:35:35,839 Making a fixed resolution buffer of (('pyne', 'phi')) 800 by 800\n"
       ]
      },
      {
       "ename": "YTFieldNotFound",
       "evalue": "Could not find field '('gas', 'phi')' in pyne_mesh_4752024400.",
       "output_type": "pyerr",
       "traceback": [
        "\u001b[0;31m---------------------------------------------------------------------------\u001b[0m\n\u001b[0;31mYTFieldNotFound\u001b[0m                           Traceback (most recent call last)",
        "\u001b[0;32m<ipython-input-15-0acd58eb692c>\u001b[0m in \u001b[0;36m<module>\u001b[0;34m()\u001b[0m\n\u001b[0;32m----> 1\u001b[0;31m \u001b[0mrender\u001b[0m\u001b[0;34m(\u001b[0m\u001b[0mrx\u001b[0m\u001b[0;34m,\u001b[0m \u001b[0mdt\u001b[0m\u001b[0;34m=\u001b[0m\u001b[0;36m2.5e-31\u001b[0m\u001b[0;34m,\u001b[0m \u001b[0mframes\u001b[0m\u001b[0;34m=\u001b[0m\u001b[0;36m10\u001b[0m\u001b[0;34m)\u001b[0m\u001b[0;34m\u001b[0m\u001b[0m\n\u001b[0m",
        "\u001b[0;32m<ipython-input-10-15ce89ebcc87>\u001b[0m in \u001b[0;36mrender\u001b[0;34m(m, dt, axis, field, frames)\u001b[0m\n\u001b[1;32m      2\u001b[0m     \u001b[0mpf\u001b[0m \u001b[0;34m=\u001b[0m \u001b[0mPyneMoabHex8Dataset\u001b[0m\u001b[0;34m(\u001b[0m\u001b[0mm\u001b[0m\u001b[0;34m)\u001b[0m\u001b[0;34m\u001b[0m\u001b[0m\n\u001b[1;32m      3\u001b[0m     \u001b[0ms\u001b[0m \u001b[0;34m=\u001b[0m \u001b[0mSlicePlot\u001b[0m\u001b[0;34m(\u001b[0m\u001b[0mpf\u001b[0m\u001b[0;34m,\u001b[0m \u001b[0maxis\u001b[0m\u001b[0;34m,\u001b[0m \u001b[0mfield\u001b[0m\u001b[0;34m,\u001b[0m \u001b[0morigin\u001b[0m\u001b[0;34m=\u001b[0m\u001b[0;34m'native'\u001b[0m\u001b[0;34m)\u001b[0m\u001b[0;34m\u001b[0m\u001b[0m\n\u001b[0;32m----> 4\u001b[0;31m     \u001b[0mfig\u001b[0m \u001b[0;34m=\u001b[0m \u001b[0ms\u001b[0m\u001b[0;34m.\u001b[0m\u001b[0mplots\u001b[0m\u001b[0;34m[\u001b[0m\u001b[0;34m'gas'\u001b[0m\u001b[0;34m,\u001b[0m \u001b[0mfield\u001b[0m\u001b[0;34m]\u001b[0m\u001b[0;34m.\u001b[0m\u001b[0mfigure\u001b[0m\u001b[0;34m\u001b[0m\u001b[0m\n\u001b[0m\u001b[1;32m      5\u001b[0m     \u001b[0mfig\u001b[0m\u001b[0;34m.\u001b[0m\u001b[0mcanvas\u001b[0m \u001b[0;34m=\u001b[0m \u001b[0mFigureCanvasAgg\u001b[0m\u001b[0;34m(\u001b[0m\u001b[0mfig\u001b[0m\u001b[0;34m)\u001b[0m\u001b[0;34m\u001b[0m\u001b[0m\n\u001b[1;32m      6\u001b[0m     \u001b[0maxim\u001b[0m \u001b[0;34m=\u001b[0m \u001b[0mfig\u001b[0m\u001b[0;34m.\u001b[0m\u001b[0maxes\u001b[0m\u001b[0;34m[\u001b[0m\u001b[0;36m0\u001b[0m\u001b[0;34m]\u001b[0m\u001b[0;34m.\u001b[0m\u001b[0mimages\u001b[0m\u001b[0;34m[\u001b[0m\u001b[0;36m0\u001b[0m\u001b[0;34m]\u001b[0m\u001b[0;34m\u001b[0m\u001b[0m\n",
        "\u001b[0;32m/Users/bates26/venv/pyne/lib/python2.7/site-packages/yt/visualization/plot_container.pyc\u001b[0m in \u001b[0;36m__getitem__\u001b[0;34m(self, item)\u001b[0m\n\u001b[1;32m    164\u001b[0m     \u001b[0;32mdef\u001b[0m \u001b[0m__getitem__\u001b[0m\u001b[0;34m(\u001b[0m\u001b[0mself\u001b[0m\u001b[0;34m,\u001b[0m \u001b[0mitem\u001b[0m\u001b[0;34m)\u001b[0m\u001b[0;34m:\u001b[0m\u001b[0;34m\u001b[0m\u001b[0m\n\u001b[1;32m    165\u001b[0m         return defaultdict.__getitem__(\n\u001b[0;32m--> 166\u001b[0;31m             self, self.data_source._determine_fields(item)[0])\n\u001b[0m\u001b[1;32m    167\u001b[0m \u001b[0;34m\u001b[0m\u001b[0m\n\u001b[1;32m    168\u001b[0m     \u001b[0;32mdef\u001b[0m \u001b[0m__setitem__\u001b[0m\u001b[0;34m(\u001b[0m\u001b[0mself\u001b[0m\u001b[0;34m,\u001b[0m \u001b[0mitem\u001b[0m\u001b[0;34m,\u001b[0m \u001b[0mvalue\u001b[0m\u001b[0;34m)\u001b[0m\u001b[0;34m:\u001b[0m\u001b[0;34m\u001b[0m\u001b[0m\n",
        "\u001b[0;32m/Users/bates26/venv/pyne/lib/python2.7/site-packages/yt/data_objects/data_containers.pyc\u001b[0m in \u001b[0;36m_determine_fields\u001b[0;34m(self, fields)\u001b[0m\n\u001b[1;32m    492\u001b[0m                     \u001b[0;32mraise\u001b[0m \u001b[0mYTFieldNotParseable\u001b[0m\u001b[0;34m(\u001b[0m\u001b[0mfield\u001b[0m\u001b[0;34m)\u001b[0m\u001b[0;34m\u001b[0m\u001b[0m\n\u001b[1;32m    493\u001b[0m                 \u001b[0mftype\u001b[0m\u001b[0;34m,\u001b[0m \u001b[0mfname\u001b[0m \u001b[0;34m=\u001b[0m \u001b[0mfield\u001b[0m\u001b[0;34m\u001b[0m\u001b[0m\n\u001b[0;32m--> 494\u001b[0;31m                 \u001b[0mfinfo\u001b[0m \u001b[0;34m=\u001b[0m \u001b[0mself\u001b[0m\u001b[0;34m.\u001b[0m\u001b[0mds\u001b[0m\u001b[0;34m.\u001b[0m\u001b[0m_get_field_info\u001b[0m\u001b[0;34m(\u001b[0m\u001b[0mftype\u001b[0m\u001b[0;34m,\u001b[0m \u001b[0mfname\u001b[0m\u001b[0;34m)\u001b[0m\u001b[0;34m\u001b[0m\u001b[0m\n\u001b[0m\u001b[1;32m    495\u001b[0m             \u001b[0;32melse\u001b[0m\u001b[0;34m:\u001b[0m\u001b[0;34m\u001b[0m\u001b[0m\n\u001b[1;32m    496\u001b[0m                 \u001b[0mfname\u001b[0m \u001b[0;34m=\u001b[0m \u001b[0mfield\u001b[0m\u001b[0;34m\u001b[0m\u001b[0m\n",
        "\u001b[0;32m/Users/bates26/venv/pyne/lib/python2.7/site-packages/yt/data_objects/static_output.pyc\u001b[0m in \u001b[0;36m_get_field_info\u001b[0;34m(self, ftype, fname)\u001b[0m\n\u001b[1;32m    484\u001b[0m                     \u001b[0mself\u001b[0m\u001b[0;34m.\u001b[0m\u001b[0m_last_finfo\u001b[0m \u001b[0;34m=\u001b[0m \u001b[0mself\u001b[0m\u001b[0;34m.\u001b[0m\u001b[0mfield_info\u001b[0m\u001b[0;34m[\u001b[0m\u001b[0;34m(\u001b[0m\u001b[0mftype\u001b[0m\u001b[0;34m,\u001b[0m \u001b[0mfname\u001b[0m\u001b[0;34m)\u001b[0m\u001b[0;34m]\u001b[0m\u001b[0;34m\u001b[0m\u001b[0m\n\u001b[1;32m    485\u001b[0m                     \u001b[0;32mreturn\u001b[0m \u001b[0mself\u001b[0m\u001b[0;34m.\u001b[0m\u001b[0m_last_finfo\u001b[0m\u001b[0;34m\u001b[0m\u001b[0m\n\u001b[0;32m--> 486\u001b[0;31m         \u001b[0;32mraise\u001b[0m \u001b[0mYTFieldNotFound\u001b[0m\u001b[0;34m(\u001b[0m\u001b[0;34m(\u001b[0m\u001b[0mftype\u001b[0m\u001b[0;34m,\u001b[0m \u001b[0mfname\u001b[0m\u001b[0;34m)\u001b[0m\u001b[0;34m,\u001b[0m \u001b[0mself\u001b[0m\u001b[0;34m)\u001b[0m\u001b[0;34m\u001b[0m\u001b[0m\n\u001b[0m\u001b[1;32m    487\u001b[0m \u001b[0;34m\u001b[0m\u001b[0m\n\u001b[1;32m    488\u001b[0m     \u001b[0;32mdef\u001b[0m \u001b[0m_setup_classes\u001b[0m\u001b[0;34m(\u001b[0m\u001b[0mself\u001b[0m\u001b[0;34m)\u001b[0m\u001b[0;34m:\u001b[0m\u001b[0;34m\u001b[0m\u001b[0m\n",
        "\u001b[0;31mYTFieldNotFound\u001b[0m: Could not find field '('gas', 'phi')' in pyne_mesh_4752024400."
       ]
      }
     ],
     "prompt_number": 15
    },
    {
     "cell_type": "markdown",
     "metadata": {},
     "source": [
      "### Exercises:\n",
      "\n",
      "Left to the reader is to modify this notebook to diffuse\n",
      "\n",
      "* a point source, or\n",
      "* a line source."
     ]
    }
   ],
   "metadata": {}
  }
 ]
}