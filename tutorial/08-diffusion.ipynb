{
 "metadata": {
  "name": "",
  "signature": "sha256:b73545cba6eefe6974c040b5d15c164ed54a0b29738613e3a29ed3d33252f5c4"
 },
 "nbformat": 3,
 "nbformat_minor": 0,
 "worksheets": [
  {
   "cells": [
    {
     "cell_type": "markdown",
     "metadata": {},
     "source": [
      "# Neutron Diffusion in Python \n",
      "\n",
      "This notebook is an entirely self-contained solution to a basic [neutron diffision](http://mragheb.com/NPRE%20402%20ME%20405%20Nuclear%20Power%20Engineering/One%20Group%20Reactor%20Theory.pdf) equation for a reactor *rx* made up of a single fuel rod. The one-group diffusion equation that we will be stepping through time and space is, \n",
      "\n",
      "$\\frac{1}{v}\\frac{\\partial \\phi}{\\partial t} = D \\nabla^2 \\phi + (k - 1) \\Sigma_a \\phi + S$\n",
      "\n",
      "where \n",
      "\n",
      "* $\\phi$ is the neutron flux [n/cm$^2$/s],\n",
      "* $D$ is the diffusion coefficient [cm],\n",
      "* $k$ is the multiplication factor of the material [unitless],\n",
      "* $S$ is a static source term [n/cm$^2$/s], and\n",
      "* $v$ is the neutron velocity, which for [thermal neutrons](http://en.wikipedia.org/wiki/Neutron_temperature) is 2.2e5 [cm/s]"
     ]
    },
    {
     "cell_type": "markdown",
     "metadata": {},
     "source": [
      "## First, Make a Mesh\n",
      "\n",
      "PyNE Meshes will be used to compute all of the nuclear data needs here and for a semi-structured MOAB Hex8 meshes. The simulation, analysis, and visulaization here takes place entirely within memory."
     ]
    },
    {
     "cell_type": "code",
     "collapsed": false,
     "input": [
      "%pylab inline"
     ],
     "language": "python",
     "metadata": {},
     "outputs": [
      {
       "output_type": "stream",
       "stream": "stdout",
       "text": [
        "Populating the interactive namespace from numpy and matplotlib\n"
       ]
      }
     ],
     "prompt_number": 1
    },
    {
     "cell_type": "code",
     "collapsed": false,
     "input": [
      "from itertools import product \n",
      "from pyne.mesh import Mesh, IMeshTag\n",
      "from pyne.xs.cache import XSCache\n",
      "from pyne.xs.data_source import CinderDataSource, SimpleDataSource, NullDataSource\n",
      "from pyne.xs.channels import sigma_a, sigma_s\n",
      "from pyne.material import Material, from_atom_frac\n",
      "import numpy as np\n",
      "from yt.config import ytcfg; ytcfg[\"yt\",\"suppressStreamLogging\"] = \"True\"\n",
      "from yt.frontends.moab.api import PyneMoabHex8Dataset\n",
      "from yt.mods import *\n",
      "from itaps import iBase, iMesh\n",
      "from JSAnimation import IPython_display\n",
      "from matplotlib import animation\n",
      "import matplotlib.pyplot as plt\n",
      "from matplotlib.backends.backend_agg import FigureCanvasAgg\n",
      "from IPython.display import HTML"
     ],
     "language": "python",
     "metadata": {},
     "outputs": [
      {
       "output_type": "stream",
       "stream": "stderr",
       "text": [
        "/Users/pyne/venv/pyne/lib/python2.7/site-packages/pyne/mesh.py:12: QAWarning: pyne.mesh is not yet QA compliant.\n",
        "  warn(__name__ + \" is not yet QA compliant.\", QAWarning)\n",
        "/Users/pyne/venv/pyne/lib/python2.7/site-packages/pyne/mesh.py:20: QAWarning: pyne.data is not yet QA compliant.\n",
        "  from pyne.material import Material, MaterialLibrary, MultiMaterial\n",
        "/Users/pyne/venv/pyne/lib/python2.7/site-packages/pyne/mesh.py:20: QAWarning: pyne.material is not yet QA compliant.\n",
        "  from pyne.material import Material, MaterialLibrary, MultiMaterial\n",
        "/Users/pyne/venv/pyne/lib/python2.7/site-packages/pyne/xs/cache.py:15: QAWarning: pyne.xs.models is not yet QA compliant.\n",
        "  from pyne.xs.models import partial_energy_matrix, phi_g\n"
       ]
      },
      {
       "output_type": "stream",
       "stream": "stderr",
       "text": [
        "/Users/pyne/venv/pyne/lib/python2.7/site-packages/pyne/openmc.py:18: QAWarning: pyne.openmc is not yet QA compliant.\n",
        "  warn(__name__ + \" is not yet QA compliant.\", QAWarning)\n",
        "/Users/pyne/venv/pyne/lib/python2.7/site-packages/pyne/xs/data_source.py:22: QAWarning: pyne.rxname is not yet QA compliant.\n",
        "  from pyne import rxname\n",
        "/Users/pyne/venv/pyne/lib/python2.7/site-packages/pyne/rxdata.py:5: QAWarning: pyne.rxdata is not yet QA compliant.\n",
        "  warn(__name__ + \" is not yet QA compliant.\", QAWarning)\n"
       ]
      },
      {
       "output_type": "stream",
       "stream": "stderr",
       "text": [
        "/Users/pyne/venv/pyne/lib/python2.7/site-packages/pyne/xs/data_source.py:23: QAWarning: pyne.endf is not yet QA compliant.\n",
        "  from pyne import endf\n",
        "/Users/pyne/venv/pyne/lib/python2.7/site-packages/pyne/xs/data_source.py:24: QAWarning: pyne.bins is not yet QA compliant.\n",
        "  from pyne import bins\n",
        "/Users/pyne/venv/pyne/lib/python2.7/site-packages/pyne/xs/data_source.py:25: QAWarning: pyne.ace is not yet QA compliant.\n",
        "  from pyne import ace\n",
        "/Users/pyne/venv/pyne/lib/python2.7/site-packages/pyne/xs/data_source.py:29: QAWarning: pyne.xs.data_source is not yet QA compliant.\n",
        "  warn(__name__ + \" is not yet QA compliant.\", QAWarning)\n",
        "/Users/pyne/venv/pyne/lib/python2.7/site-packages/pyne/xs/cache.py:19: QAWarning: pyne.xs.cache is not yet QA compliant.\n",
        "  warn(__name__ + \" is not yet QA compliant.\", QAWarning)\n",
        "/Users/pyne/venv/pyne/lib/python2.7/site-packages/pyne/xs/channels.py:26: QAWarning: pyne.xs.channels is not yet QA compliant.\n",
        "  warn(__name__ + \" is not yet QA compliant.\", QAWarning)\n"
       ]
      }
     ],
     "prompt_number": 2
    },
    {
     "cell_type": "code",
     "collapsed": false,
     "input": [
      "xsc = XSCache([0.026e-6, 0.024e-6], (SimpleDataSource, NullDataSource))"
     ],
     "language": "python",
     "metadata": {},
     "outputs": [],
     "prompt_number": 3
    },
    {
     "cell_type": "markdown",
     "metadata": {},
     "source": [
      "### The Laplacian\n",
      "\n",
      "The functions in the following cell solve for the laplacian ($\\nabla^2$) for any index in in the mesh using a [3 point stencil](http://en.wikipedia.org/wiki/Five-point_stencil) along each axis. This implements reflecting boundary conditions along the edges of the domain."
     ]
    },
    {
     "cell_type": "code",
     "collapsed": false,
     "input": [
      "def lpoint(idx, n, coords, shape, m):\n",
      "    lidx = list(idx)\n",
      "    lidx[n] += 1 if idx[n] == 0 else -1\n",
      "    left = m.structured_get_hex(*lidx)\n",
      "    l = m.mesh.getVtxCoords(left)[n]\n",
      "    if idx[n] == 0:\n",
      "        l = 2*coords[n] - l \n",
      "    return left, l\n",
      "\n",
      "def rpoint(idx, n, coords, shape, m):\n",
      "    ridx = list(idx)\n",
      "    ridx[n] += -1 if idx[n] == shape[n]-2 else 1\n",
      "    right = m.structured_get_hex(*ridx)\n",
      "    r = m.mesh.getVtxCoords(right)[n]\n",
      "    if idx[n] == shape[n]-2:\n",
      "        r = 2*coords[n] - r\n",
      "    return right, r\n",
      "\n",
      "def laplace(tag, idx, m, shape):\n",
      "    ent = m.structured_get_hex(*idx)\n",
      "    coords = m.mesh.getVtxCoords(ent)\n",
      "    lptag = 0.0\n",
      "    for n in range(3):\n",
      "        left, l = lpoint(idx, n, coords, shape, m)\n",
      "        right, r = rpoint(idx, n, coords, shape, m)\n",
      "        c = coords[n]\n",
      "        lptag += (((tag[right] - tag[ent])/(r-c)) - ((tag[ent] - tag[left])/(c-l))) / ((r-l)/2)\n",
      "    return lptag"
     ],
     "language": "python",
     "metadata": {},
     "outputs": [],
     "prompt_number": 4
    },
    {
     "cell_type": "markdown",
     "metadata": {},
     "source": [
      "### Solve in space\n",
      "\n",
      "The ``timestep()`` function sweeps through the entire mesh and computes the new flux everywhere.  This operation takes place entirely on the mesh object."
     ]
    },
    {
     "cell_type": "code",
     "collapsed": false,
     "input": [
      "def timestep(m, dt):\n",
      "    nx = len(m.structured_get_divisions(\"x\"))\n",
      "    ny = len(m.structured_get_divisions(\"y\"))\n",
      "    nz = len(m.structured_get_divisions(\"z\"))\n",
      "    shape = (nx, ny, nz)\n",
      "    D = m.mesh.getTagHandle(\"D\")\n",
      "    k = m.mesh.getTagHandle(\"k\")\n",
      "    S = m.mesh.getTagHandle(\"S\")\n",
      "    Sigma_a = m.mesh.getTagHandle(\"Sigma_a\")\n",
      "    phi = m.mesh.getTagHandle(\"flux\")\n",
      "    phi_next = m.mesh.getTagHandle(\"phi_next\")\n",
      "    for idx in product(*[range(xyz-1) for xyz in shape]):\n",
      "        ent = m.structured_get_hex(*idx)\n",
      "        phi_next[ent] = (max(D[ent] * laplace(phi, idx, m, shape) + \n",
      "                                    (k[ent] - 1.0) * Sigma_a[ent] * phi[ent], 0.0) + S[ent])*dt*2.2e5 + phi[ent]\n",
      "    ents = m.mesh.getEntities(iBase.Type.region)\n",
      "    phi[ents] = phi_next[ents]"
     ],
     "language": "python",
     "metadata": {},
     "outputs": [],
     "prompt_number": 5
    },
    {
     "cell_type": "markdown",
     "metadata": {},
     "source": [
      "### Solve in time\n",
      "\n",
      "The ``render()`` function steps through time calling the ``timestep()`` function and then creating an image.  The images that are generated are then dumped into a movie."
     ]
    },
    {
     "cell_type": "code",
     "collapsed": false,
     "input": [
      "def render(m, dt, axis=\"z\", field=\"flux\", frames=100):\n",
      "    pf = PyneMoabHex8Dataset(m)\n",
      "    s = SlicePlot(pf, axis, field, origin='native')\n",
      "    fig = s.plots['pyne', field].figure\n",
      "    fig.canvas = FigureCanvasAgg(fig)\n",
      "    axim = fig.axes[0].images[0]\n",
      "\n",
      "    def init():\n",
      "        axim = s.plots['pyne', 'flux'].image\n",
      "        return axim\n",
      "\n",
      "    def animate(i):\n",
      "        s = SlicePlot(pf, axis, field, origin='native')\n",
      "        axim.set_data(s._frb['pyne', field])\n",
      "        timestep(m, dt)\n",
      "        return axim\n",
      "\n",
      "    return animation.FuncAnimation(fig, animate, init_func=init, frames=frames, interval=100, blit=False)"
     ],
     "language": "python",
     "metadata": {},
     "outputs": [],
     "prompt_number": 6
    },
    {
     "cell_type": "markdown",
     "metadata": {},
     "source": [
      "### Reactor\n",
      "\n",
      "This setups up a simple light water reactor fuel pin in a water cell.  Note that our cells are allowed to have varing aspect ratios.  This allows us to be coarsely refined inside of the pin, finely refined around the edge of the pin, and then have a different coarse refinement out in the coolant."
     ]
    },
    {
     "cell_type": "code",
     "collapsed": false,
     "input": [
      "def isinrod(ent, rx, radius=0.4):\n",
      "    \"\"\"returns whether an entity is in a control rod\"\"\"\n",
      "    coord = rx.mesh.getVtxCoords(ent)\n",
      "    return (coord[0]**2 + coord[1]**2) <= radius**2\n",
      "\n",
      "def create_reactor(multfact=1.0, radius=0.4):\n",
      "    fuel = from_atom_frac({'U235': 0.045, 'U238': 0.955, 'O16': 2.0}, density=10.7)\n",
      "    cool = from_atom_frac({'H1': 2.0, 'O16': 1.0}, density=1.0)\n",
      "    xpoints = [0.0, 0.075, 0.15, 0.225] + list(np.arange(0.3, 0.7, 0.025)) + list(np.arange(0.7, 1.201, 0.05))\n",
      "    ypoints = xpoints\n",
      "    zpoints = np.linspace(0.0, 1.0, 8)\n",
      "    # Make Mesh\n",
      "    rx = Mesh(structured_coords=[xpoints, ypoints, zpoints], structured=True)\n",
      "    # Add Tags\n",
      "    rx.D = IMeshTag(size=1, dtype=float)\n",
      "    rx.k = IMeshTag(size=1, dtype=float)\n",
      "    rx.S = IMeshTag(size=1, dtype=float)\n",
      "    rx.Sigma_a = IMeshTag(size=1, dtype=float)\n",
      "    rx.flux = IMeshTag(size=1, dtype=float)\n",
      "    rx.phi_next = IMeshTag(size=1, dtype=float)\n",
      "    # Assign initial conditions\n",
      "    Ds = []; Sigma_as = []; phis = []; ks = [];\n",
      "    for i, mat, ent in rx:\n",
      "        if isinrod(ent, rx, radius=radius):\n",
      "            Ds.append(1.0 / (3.0 * fuel.density * 1e-24 * sigma_s(fuel, xs_cache=xsc)))\n",
      "            Sigma_as.append(fuel.density * 1e-24 * sigma_a(fuel, xs_cache=xsc))\n",
      "            phis.append(4e14)\n",
      "            ks.append(multfact)\n",
      "        else:\n",
      "            Ds.append(1.0 / (3.0 * cool.density * 1e-24 * sigma_s(cool, xs_cache=xsc)))\n",
      "            Sigma_as.append(cool.density * 1e-24 * sigma_a(cool, xs_cache=xsc))\n",
      "            r2 = (rx.mesh.getVtxCoords(ent)[:2]**2).sum()\n",
      "            phis.append(4e14 * radius**2 / r2 if r2 < 0.7**2 else 0.0)\n",
      "            ks.append(0.0)\n",
      "    rx.D[:] = np.array(Ds)[:,0]\n",
      "    rx.Sigma_a[:] = np.array(Sigma_as)[:,0]\n",
      "    rx.flux[:] = np.array(phis)[:]\n",
      "    rx.k[:] = ks\n",
      "    rx.S[:] = 0.0\n",
      "    rx.phi_next[:] = 0.0\n",
      "    return rx"
     ],
     "language": "python",
     "metadata": {},
     "outputs": [],
     "prompt_number": 7
    },
    {
     "cell_type": "code",
     "collapsed": false,
     "input": [
      "rx = create_reactor()"
     ],
     "language": "python",
     "metadata": {},
     "outputs": [],
     "prompt_number": 8
    },
    {
     "cell_type": "code",
     "collapsed": false,
     "input": [
      "render(rx, dt=2.5e-31, frames=10)"
     ],
     "language": "python",
     "metadata": {},
     "outputs": [
      {
       "output_type": "stream",
       "stream": "stderr",
       "text": [
        "yt : [INFO     ] 2015-02-22 18:39:49,211 Parameters: current_time              = 0.0\n"
       ]
      },
      {
       "output_type": "stream",
       "stream": "stderr",
       "text": [
        "yt : [INFO     ] 2015-02-22 18:39:49,212 Parameters: domain_dimensions         = [ 1.2  1.2  1. ]\n"
       ]
      },
      {
       "output_type": "stream",
       "stream": "stderr",
       "text": [
        "yt : [INFO     ] 2015-02-22 18:39:49,213 Parameters: domain_left_edge          = [ 0.  0.  0.]\n"
       ]
      },
      {
       "output_type": "stream",
       "stream": "stderr",
       "text": [
        "yt : [INFO     ] 2015-02-22 18:39:49,214 Parameters: domain_right_edge         = [ 1.2  1.2  1. ]\n"
       ]
      },
      {
       "output_type": "stream",
       "stream": "stderr",
       "text": [
        "yt : [INFO     ] 2015-02-22 18:39:49,216 Parameters: cosmological_simulation   = 0.0\n"
       ]
      },
      {
       "output_type": "stream",
       "stream": "stderr",
       "text": [
        "yt : [INFO     ] 2015-02-22 18:39:49,264 Loading field plugins.\n"
       ]
      },
      {
       "output_type": "stream",
       "stream": "stderr",
       "text": [
        "yt : [INFO     ] 2015-02-22 18:39:49,265 Loaded angular_momentum (8 new fields)\n"
       ]
      },
      {
       "output_type": "stream",
       "stream": "stderr",
       "text": [
        "yt : [INFO     ] 2015-02-22 18:39:49,265 Loaded astro (15 new fields)\n"
       ]
      },
      {
       "output_type": "stream",
       "stream": "stderr",
       "text": [
        "yt : [INFO     ] 2015-02-22 18:39:49,266 Loaded cosmology (22 new fields)\n"
       ]
      },
      {
       "output_type": "stream",
       "stream": "stderr",
       "text": [
        "yt : [INFO     ] 2015-02-22 18:39:49,269 Loaded fluid (64 new fields)\n"
       ]
      },
      {
       "output_type": "stream",
       "stream": "stderr",
       "text": [
        "yt : [INFO     ] 2015-02-22 18:39:49,270 Loaded fluid_vector (96 new fields)\n"
       ]
      },
      {
       "output_type": "stream",
       "stream": "stderr",
       "text": [
        "yt : [INFO     ] 2015-02-22 18:39:49,271 Loaded geometric (112 new fields)\n"
       ]
      },
      {
       "output_type": "stream",
       "stream": "stderr",
       "text": [
        "yt : [INFO     ] 2015-02-22 18:39:49,272 Loaded local (112 new fields)\n"
       ]
      },
      {
       "output_type": "stream",
       "stream": "stderr",
       "text": [
        "yt : [INFO     ] 2015-02-22 18:39:49,273 Loaded magnetic_field (120 new fields)\n"
       ]
      },
      {
       "output_type": "stream",
       "stream": "stderr",
       "text": [
        "yt : [INFO     ] 2015-02-22 18:39:49,274 Loaded my_plugins (120 new fields)\n"
       ]
      },
      {
       "output_type": "stream",
       "stream": "stderr",
       "text": [
        "yt : [INFO     ] 2015-02-22 18:39:49,274 Loaded species (122 new fields)\n"
       ]
      },
      {
       "output_type": "stream",
       "stream": "stderr",
       "text": [
        "yt : [INFO     ] 2015-02-22 18:39:49,490 xlim = 0.000000 1.200000\n"
       ]
      },
      {
       "output_type": "stream",
       "stream": "stderr",
       "text": [
        "yt : [INFO     ] 2015-02-22 18:39:49,491 ylim = 0.000000 1.200000\n"
       ]
      },
      {
       "output_type": "stream",
       "stream": "stderr",
       "text": [
        "yt : [INFO     ] 2015-02-22 18:39:49,492 Making a fixed resolution buffer of (('pyne', 'flux')) 800 by 800\n"
       ]
      },
      {
       "output_type": "stream",
       "stream": "stderr",
       "text": [
        "yt : [INFO     ] 2015-02-22 18:39:49,520 xlim = 0.000000 1.200000\n"
       ]
      },
      {
       "output_type": "stream",
       "stream": "stderr",
       "text": [
        "yt : [INFO     ] 2015-02-22 18:39:49,521 ylim = 0.000000 1.200000\n"
       ]
      },
      {
       "output_type": "stream",
       "stream": "stderr",
       "text": [
        "yt : [INFO     ] 2015-02-22 18:39:49,523 Making a fixed resolution buffer of (('pyne', 'flux')) 800 by 800\n"
       ]
      },
      {
       "output_type": "stream",
       "stream": "stderr",
       "text": [
        "yt : [INFO     ] 2015-02-22 18:39:49,544 Making a fixed resolution buffer of (('pyne', 'flux')) 800 by 800\n"
       ]
      },
      {
       "output_type": "stream",
       "stream": "stderr",
       "text": [
        "yt : [INFO     ] 2015-02-22 18:39:50,467 xlim = 0.000000 1.200000\n"
       ]
      },
      {
       "output_type": "stream",
       "stream": "stderr",
       "text": [
        "yt : [INFO     ] 2015-02-22 18:39:50,468 ylim = 0.000000 1.200000\n"
       ]
      },
      {
       "output_type": "stream",
       "stream": "stderr",
       "text": [
        "yt : [INFO     ] 2015-02-22 18:39:50,470 Making a fixed resolution buffer of (('pyne', 'flux')) 800 by 800\n"
       ]
      },
      {
       "output_type": "stream",
       "stream": "stderr",
       "text": [
        "yt : [INFO     ] 2015-02-22 18:39:50,491 xlim = 0.000000 1.200000\n"
       ]
      },
      {
       "output_type": "stream",
       "stream": "stderr",
       "text": [
        "yt : [INFO     ] 2015-02-22 18:39:50,492 ylim = 0.000000 1.200000\n"
       ]
      },
      {
       "output_type": "stream",
       "stream": "stderr",
       "text": [
        "yt : [INFO     ] 2015-02-22 18:39:50,495 Making a fixed resolution buffer of (('pyne', 'flux')) 800 by 800\n"
       ]
      },
      {
       "output_type": "stream",
       "stream": "stderr",
       "text": [
        "yt : [INFO     ] 2015-02-22 18:39:50,514 Making a fixed resolution buffer of (('pyne', 'flux')) 800 by 800\n"
       ]
      },
      {
       "output_type": "stream",
       "stream": "stderr",
       "text": [
        "/Users/pyne/venv/pyne/lib/python2.7/site-packages/yt/visualization/plot_window.py:623: SyntaxWarning: _frb is deprecated, use frb instead.\n",
        "  SyntaxWarning)\n",
        "/Users/pyne/venv/pyne/lib/python2.7/site-packages/IPython/core/formatters.py:239: FormatterWarning: Exception in text/html formatter: Operation is not defined.\n",
        "  FormatterWarning,\n"
       ]
      },
      {
       "metadata": {},
       "output_type": "pyout",
       "prompt_number": 9,
       "text": [
        "<matplotlib.animation.FuncAnimation at 0x116412a50>"
       ]
      }
     ],
     "prompt_number": 9
    },
    {
     "cell_type": "code",
     "collapsed": false,
     "input": [
      "field= 'flux'\n",
      "axis = 'z'\n",
      "for i in range(2):\n",
      "    timestep(rx,2.5e-31)\n",
      "pf = PyneMoabHex8Dataset(rx)\n",
      "s = SlicePlot(pf, axis, field, origin='native')\n",
      "s.display()\n"
     ],
     "language": "python",
     "metadata": {},
     "outputs": [
      {
       "output_type": "stream",
       "stream": "stderr",
       "text": [
        "yt : [INFO     ] 2015-02-22 18:53:01,001 Parameters: current_time              = 0.0\n"
       ]
      },
      {
       "output_type": "stream",
       "stream": "stderr",
       "text": [
        "yt : [INFO     ] 2015-02-22 18:53:01,001 Parameters: domain_dimensions         = [ 1.2  1.2  1. ]\n"
       ]
      },
      {
       "output_type": "stream",
       "stream": "stderr",
       "text": [
        "yt : [INFO     ] 2015-02-22 18:53:01,003 Parameters: domain_left_edge          = [ 0.  0.  0.]\n"
       ]
      },
      {
       "output_type": "stream",
       "stream": "stderr",
       "text": [
        "yt : [INFO     ] 2015-02-22 18:53:01,004 Parameters: domain_right_edge         = [ 1.2  1.2  1. ]\n"
       ]
      },
      {
       "output_type": "stream",
       "stream": "stderr",
       "text": [
        "yt : [INFO     ] 2015-02-22 18:53:01,005 Parameters: cosmological_simulation   = 0.0\n"
       ]
      },
      {
       "output_type": "stream",
       "stream": "stderr",
       "text": [
        "yt : [INFO     ] 2015-02-22 18:53:01,050 Loading field plugins.\n"
       ]
      },
      {
       "output_type": "stream",
       "stream": "stderr",
       "text": [
        "yt : [INFO     ] 2015-02-22 18:53:01,051 Loaded angular_momentum (8 new fields)\n"
       ]
      },
      {
       "output_type": "stream",
       "stream": "stderr",
       "text": [
        "yt : [INFO     ] 2015-02-22 18:53:01,052 Loaded astro (15 new fields)\n"
       ]
      },
      {
       "output_type": "stream",
       "stream": "stderr",
       "text": [
        "yt : [INFO     ] 2015-02-22 18:53:01,053 Loaded cosmology (22 new fields)\n"
       ]
      },
      {
       "output_type": "stream",
       "stream": "stderr",
       "text": [
        "yt : [INFO     ] 2015-02-22 18:53:01,054 Loaded fluid (64 new fields)\n"
       ]
      },
      {
       "output_type": "stream",
       "stream": "stderr",
       "text": [
        "yt : [INFO     ] 2015-02-22 18:53:01,056 Loaded fluid_vector (96 new fields)\n"
       ]
      },
      {
       "output_type": "stream",
       "stream": "stderr",
       "text": [
        "yt : [INFO     ] 2015-02-22 18:53:01,057 Loaded geometric (112 new fields)\n"
       ]
      },
      {
       "output_type": "stream",
       "stream": "stderr",
       "text": [
        "yt : [INFO     ] 2015-02-22 18:53:01,057 Loaded local (112 new fields)\n"
       ]
      },
      {
       "output_type": "stream",
       "stream": "stderr",
       "text": [
        "yt : [INFO     ] 2015-02-22 18:53:01,058 Loaded magnetic_field (120 new fields)\n"
       ]
      },
      {
       "output_type": "stream",
       "stream": "stderr",
       "text": [
        "yt : [INFO     ] 2015-02-22 18:53:01,059 Loaded my_plugins (120 new fields)\n"
       ]
      },
      {
       "output_type": "stream",
       "stream": "stderr",
       "text": [
        "yt : [INFO     ] 2015-02-22 18:53:01,060 Loaded species (122 new fields)\n"
       ]
      },
      {
       "output_type": "stream",
       "stream": "stderr",
       "text": [
        "yt : [INFO     ] 2015-02-22 18:53:01,284 xlim = 0.000000 1.200000\n"
       ]
      },
      {
       "output_type": "stream",
       "stream": "stderr",
       "text": [
        "yt : [INFO     ] 2015-02-22 18:53:01,284 ylim = 0.000000 1.200000\n"
       ]
      },
      {
       "output_type": "stream",
       "stream": "stderr",
       "text": [
        "yt : [INFO     ] 2015-02-22 18:53:01,286 Making a fixed resolution buffer of (('pyne', 'flux')) 800 by 800\n"
       ]
      },
      {
       "output_type": "stream",
       "stream": "stderr",
       "text": [
        "yt : [INFO     ] 2015-02-22 18:53:01,313 xlim = 0.000000 1.200000\n"
       ]
      },
      {
       "output_type": "stream",
       "stream": "stderr",
       "text": [
        "yt : [INFO     ] 2015-02-22 18:53:01,313 ylim = 0.000000 1.200000\n"
       ]
      },
      {
       "output_type": "stream",
       "stream": "stderr",
       "text": [
        "yt : [INFO     ] 2015-02-22 18:53:01,316 Making a fixed resolution buffer of (('pyne', 'flux')) 800 by 800\n"
       ]
      },
      {
       "output_type": "stream",
       "stream": "stderr",
       "text": [
        "yt : [INFO     ] 2015-02-22 18:53:01,336 Making a fixed resolution buffer of (('pyne', 'flux')) 800 by 800\n"
       ]
      },
      {
       "html": [
        "<img src=\"data:image/png;base64,iVBORw0KGgoAAAANSUhEUgAAAw0AAAKWCAYAAAALN3XUAAAABHNCSVQICAgIfAhkiAAAAAlwSFlzAAALEgAACxIB0t1+/AAAIABJREFUeJzs3X14VNW5///PnoEkg0QRqKQEg4pBYwjlayiJBe1AIw3QqlShKsjxSAptFVCL0FahybHHw69QPJQKaqXyEKlEBBWhQUs6PqeQClViDaggIUIwRmJ4SEhm5vdHTqJjQoBh79kzmffruvZ1Omv2rLlnMnL2vde61zL8fr9fAAAAAHASDrsDAAAAABDeSBoAAAAAtIukAQAAAEC7SBoAAAAAtIukAQAAAEC7SBoAAAAAtIukAQAAAEC7SBoAAAAAtIukAQAAAEC7SBoAAAAAtIukAQAAAEC7SBoAAAAAtIukAQAAAEC7ojppqKys1OzZs7Vo0aJTnvuvf/1L1157rbp3764+ffropz/9qQ4fPhyCKAEAAAB7RW3SUFhYqPvuu0/z589XTU1Nu+d+/PHH+vnPf66JEyfq0Ucf1bBhw/T4449r/PjxIYoWAAAAsE8nuwOwS3Z2tvr376/8/PxTnvvoo49q/fr1uuCCCyRJ48eP15EjR7Rp0ybt27dPSUlJVocLAAAA2CZqRxokyeE4vY8/cuTIloSh2fe//31J0ueff256XAAAAEA4ieqk4XQNHz68Vdvx48fVvXt3paSk2BARAAAAEDokDUEqKirSvffeq5iYGLtDAQAAACxF0hCEf/zjHzp69Khmz55tdygAAACA5aK2EDpY1dXV+u///m8999xzcjqdJz3PMIwQRgUAANCx+f1+u0OIaiQNZ+D48eO65557tHTpUvXo0eOU5z/V2bpYnvVKN548Z6F/+qf/MO5/nVeaYOG/D083Sjdb+K87/dN/OPf/wAnptxbOHLY6/me80i/PNRRj0VyQPx71665zrLuxmVLl1yMW9HunBX3izDA96TSdOHFC06dP13/9138pMTGxpf2DDz5QXV1dyONJsXggI9L7t1qkfz98//b2f0WEf/8DLP7/HJHev9Ui/fuxuv8LLP7vy+r40yzuf4iFNyyssEvSxhC9V11d3UmX4i8tLVV2dnaIIglPUT3SUF9fL0nyer0B7fPmzdPq1atVVFSknj17qrGxUbfccosGDx6sbdu2adu2bZKk2tpaeTwerVixIuSxX2HxPyqR3r/VIv374fvv2P1bLdIvKkkaOnb/kZ40DLRwlFOShsRYf9fCZeJ39K3/Ozb5zOuzLfv379eDDz6oTZs2aeLEiQHPeb1e5eXl6cSJE9YGEeaiNmkoKirSkiVLZBiG1q5dq5SUFI0ZM0bx8fGqrq7WoUOHWpKKO+64Q+vXr9f69esD+jAMQ0888YQd4eMUIv1OeqTj+7dXpF8URzq+f3vx/SMYffr00a233qpNmza1em758uW68cYb9eijj9oQWfgw/FSVWMIwDEtrGgBELoekWC5sALQhxiFd6LKupsFqKVV+rbbg+ufWBusLoT0ej2677TaVl5e3tO3atUs7duxQr169lJubq7///e+WxhDOIvQnCQAAAFjH5/OpoKBA48ePZ+UmRfH0JAAAAJgvzmnBHNWG0F+0P/nkk5o0aVLI3zdckTQAAAAgolVWVmrhwoXq3bu3ZsyY0er5goICbdmyRcnJydq6datycnI0cuTIdvt85plntGDBAknSsWPHVFVVpSuuuEJvv/224uLiLPkc4YykAQAAABGrsLBQq1evVn5+vnJzc1s9v2zZMuXl5amsrEwul0sVFRVKTU3Vxo0bNXTo0Hb7bfbKK69Q02B3AAAAAOg4XA7zj/ZkZ2e3mSxITcvjz5w5U5MmTZLL5ZIkJSYmatSoUZo2bVrLeQcPHtT69etVXV2twsLCVsvx+/1+GUZ0Lw1I0gAAAICI5nC0fUm7efNm1dTUKDMzM6A9IyNDO3bsUGlpqSQpISFBixYt0tGjR5WdnS2nM3DDDLfbraKiImuCjxBMTwIAAIBp4izeoO5MbN++XZKUlJQU0N63b19JUklJiVJTU0MeVyRipAEAAAAdUlVVlSQpPj4+oL1r166SmgqocXoYaQAAAIBp4ky4Jf12o19vN0oHfE1HsGJjYyWpVT1C83SmmJiY4DuPMiQNAAAACCtXdjJ05VeuUq+qCW6fhoSEBEnSkSNHAtqbHycmJgYXYBQiaQAAAIBpzBhpaFbS4FdJY/CvT09PlySVl5drwIABLe379u2TJA0aNOis4osm1DQAAAAgLA3ubOinruCXOs3KylKPHj1UXFwc0F5cXKwhQ4YoOTn5bEOMGiQNAAAACEslDX49evzUU5Pq6+slqdX+Ck6nU3PmzNHKlStVV1cnSTpw4IA2bNiguXPnmh9wB8b0JAAAAJjG5TRvE7SrnYaulvRY3cmroYuKirRkyRIZhqG1a9cqJSVFY8aMaVkxafr06YqNjdWUKVOUlpamkpISrVq1SqNHjzYtzmhg+P3+4CpL0C7DMPRUZ7ujABCOHJJiGecF0IYYh3Shy1BMhP4bkVLl1/s9zQv+Hyf82trg1yPHm3Zlhn0YaQAAAIBpzNzc7bsuQ991GXrk+FmsuwpTkDRYKFLvEgCwlkNSZ/59sJV5kycAc8U4pE4Oycm/EQgzJA0W6jZ7tt0hAAC+xjBYBQRhzJAOOf7vf0SiufNMXXL1jXq/3jzBtKRwQNJgodeNOLndbrndbrtDAQAAsIzH45HH4zG936GxhobGGvr9EaYn2Y1CaIsYhkHBDgAAiCqGYaimj/ljeeft93FdZTNGGgAAABCWXqvz6/V6koVwwEiDRRhpAAAA0YaRho6LkQYAAACYxsxCaIQP/qwAAAAA2sVIAwAAAEwT4zRvuVjPcb88dUxLCgfUNFiEmgYAABBtDMOQ/2ITt4Ru7nePl+sqmzHSAAAAAPMw+b1D4s8KAAAAoF2MNAAAAMA85s9OQhggaQAAAEBY8hzzy3OMWoZwQCG0RSiEBgAA0cYwDPn7W1AIvYtCaLsx0gAAAADzUDHbIfFnBQAAANAuRhoAAABgHm5Jd0j8WQEAAAC0i5EGAAAAmMdp2B0BLMBIAwAAAMKS54hPuZXekLxXXV2d8vPzA9qWLVumkSNH6pJLLtGKFStCEke4YslVi7DkKgAAiDaGYcg/yPyJLMaORkuvq/bv368HH3xQmzZtUnl5uSSptLRUlZWVGjFihHbu3KlrrrlG1dXVlsUQ7hhpAAAAQFTr06ePbr311oC2fv36acSIEZKkxMREXXzxxXaEFjZIGgAAABD1vj6SERcXJ0lqaGjQnDlz9Oijj9oRVtggaQAAAIB5HBYcNvF6vVq6dKm2bdum8ePH69ixY/YFYzOSBgAAAKANTqdT06dPV3FxsZKSkrRlyxa7Q7INS65aKDc3V263W2632+5QAAAALOPxeOTxeJoeOEP//pWVlVq4cKF69+6tGTNmtHq+oKBAW7ZsUXJysrZu3aqcnByNHDnytPs3DEPf+c531KlT9F46R+8nD4Hc3Fy7QwAAALBc803SvLy8kL93YWGhVq9erfz8/DavvZYtW6a8vDyVlZXJ5XKpoqJCqamp2rhxo4YOHXrSfo8cOaK6ujr17NlTkvTJJ5+0FEZHI6YnAQAAwDwhrmnIzs4+6Y3a2tpazZw5U5MmTZLL5ZLUtBLSqFGjNG3atJbzDh48qPXr16u6ulqFhYXyer0qLCzUwIEDlZeXp5UrV+qBBx5QbGxsMN9Ih8BIAwAAACKaw9F2ZrF582bV1NQoMzMzoD0jI0Nr1qxRaWmpUlNTlZCQoEWLFmnRokUt59x000266aabLI07kjDSAAAAAPOE0epJ27dvlyQlJSUFtPft21eSVFJSEnznUYakAQAAAB1SVVWVJCk+Pj6gvWvXrpKaCqhxepieBAAAgLDiqfHJ84Vfe+v82lsffD/NNQiGYQS0N09niomJCb7zKEPSAAAAAPM4jVOfcwru7k65u0uewz55avx6pdYXVD8JCQmSmlZC+qrmx4mJiWcXaBRhehIAAADCkrubQ7l9g9/4IT09XZJUXl4e0L5v3z5J0qBBg4IPLsqQNAAAAMA8TvMOT61PueXeoEPJyspSjx49VFxcHNBeXFysIUOGKDk5Oei+ow1JAwAAAMKSu5tDuRedeqShvr6p8MHrDUwwnE6n5syZo5UrV6qurk6SdODAAW3YsEFz5841P+AOjJoGAAAAmCfEt6SLioq0ZMkSGYahtWvXKiUlRWPGjGlZMWn69OmKjY3VlClTlJaWppKSEq1atUqjR48ObaARzvD7/X67g+iIDMMQXy0AAIgmhmHIP7yzaf15PvfJc9ivvL0+rqtsRtJgEZIGAAAQbQzDkD/LvKShpd+/NXBdZTOmJwEAACAseap98nxOshAOGGmwCCMNAAAg2jDS0HEx0gAAAADzsDZnh8SfFQAAAEC7GGkAAACAeZyGaV15PvPJU+0zrT8Ej5oGi1DTAAAAoo1hGPKPijG/37+e4LrKZow0AAAAwDxMfu+QSBoAAAAQljyf+eT5jOlJ4YDpSRZhehIAAIg2hmHIf50F05NeYHqS3RhAAgAAANAukgYL5ebmyuPx2B0GAACApTwej3Jzc+0OAxZiepJFmJ4EAACijWEY8t9gwfSk55ieZDcKoQEAABCWPJ/65KmiEDocMNJgEUYaAABAtDEMQ/4fWTDSsI6RBrtR0wAAAACgXUxPAgAAgHmcht0RwAKMNAAAAABoFyMNAAAAMI/T7gBgBUYaAAAAALSLkQYAAACEJU+lT55DLLkaDhhpAAAAgHkc5h3ubzqU+63Q3OOuq6tTfn5+QNsjjzyiPn36qFevXvr9738fkjjCFUkDAAAAotr+/fs1Y8YM/epXv2pp27p1q7p166by8nI9/vjjmj17trZv325jlPYiaQAAAIB5nBYcFuvTp49uvfXWgDav16sJEybIMAxdf/31+ta3vqVdu3ZZH0yYImkAAABA1Pv6jtNXXXVVwOMTJ05o8ODBoQwprFAIDQAAAPN0wFvSu3fv1pAhQ9SvXz+7Q7FNB/yzAgAAAObw+Xx67LHHtHjxYrtDsRUjDQAAADCP0wj5W1ZWVmrhwoXq3bu3ZsyY0er5goICbdmyRcnJydq6datycnI0cuTI0+p70aJFuvfee9WlSxezw44oUZ00nOoH9vVz586dq0suuUSffvqpjh07pvnz5+ucc84JUbQAAAD4usLCQq1evVr5+fnKzc1t9fyyZcuUl5ensrIyuVwuVVRUKDU1VRs3btTQoUPb7XvFihXKzs5W79695fV69cILL2js2LEWfZLwFrXTkwoLC3Xfffdp/vz5qqmpaffc2tpajRgxQmlpaZo9e7YWLFigzp07a9y4cSGKFgAAAG3Jzs5uM1mQmq7hZs6cqUmTJsnlckmSEhMTNWrUKE2bNq3lvIMHD2r9+vWqrq5WYWGhvF6v1q9fr5ycHA0cOFCdO3dWbGystm3bFoqPFJaiNmlo7wf2dYsWLdKHH36oO+64o6Xt5z//uQoLC/XCCy9YFCEAAEAEMnFzt5bjVG/paPukzZs3q6amRpmZmQHtGRkZ2rFjh0pLSyVJCQkJWrRokY4ePars7Gw5nU6NHTtWDQ0NLUdjY6MeeuihM/oqOpKoTRqkk//Avu7pp5/WgAEDAuayXXbZZerWrZtWrVplVXgAAAA4C82bsSUlJQW09+3bV5JUUlIS8pgiVVTXNJyO+vp6/fvf/9b111/f6rkLL7wwqoepAAAAWjFhMzbPJ155PvFpb61fe2v9p37BSVRVVUmS4uPjA9q7du0qqalmFaeHpOEUqqur5ff7W/3YpKYf3O7du22ICgAAoONy93bK3fvL7MN4rC6ofmJjY5tebwSu6NQ82yQmJibICKMPScMpnOzHJjX94PixAQAAfIWJk989FU0jDsFKSEiQJB05ciSgvflxYmJi8MFFGZKGU+jevbtiYmJa/dikph9cez82t9utiy66SBdddJHcbrfcbreFkQIAAISWx+ORx+PR3r17tXfvXtP7dyc65U50Kq/EG9Tr09PTJUnl5eUaMGBAS/u+ffskSYMGDTr7IKMEScNp+H//7/+1/Li+qry8XN///vdP+jqPx2NhVAAAAPb6+k1RwzBMqWlo5tnvlaci+JGGrKws9ejRQ8XFxRo1alRLe3FxsYYMGaLk5GQzwowKUb160un68Y9/rJ07d+r48eMtbbt371Z1dbVuu+02GyMDAADouNx9nMrN6HzK8+rr6yVJXm/giITT6dScOXO0cuVK1dU11UUcOHBAGzZs0Ny5c80PuAOL6qThZD+wefPmaeDAgS0V95MnT1avXr20YsWKlnOWLl2qq666qt2RBgAAAATPs9+r3H80tHtOUVGR7r//fhmGobVr1+rpp59WbW1ty/PTp0/XL3/5S02ZMkXz58/X3XffrVWrVmn06NFWh9+hRO30pKKiIi1ZsqTlB5aSkqIxY8YoPj5e1dXVOnToUEtSER8fr1dffVWzZ8/WoUOHdPz4cdXW1uqvf/1rmwXSAAAAUcth3rWRO6mT3ElS3rbjJz1nxIgRGjFiRLv9TJ06VVOnTjUtrmhk+P3+4Be/xUkZhiG+WgAAEE0Mw5B/usv8fv9wnOsqm0XtSAMAAAAsYGYhdLlXnv3BF0LDPIw0WISRBgAAEG0Mw5D/HgtGGh5mpMFujDQAAADAPFG9zE7HRdIAAACAsOQp98pTzvSkcMD0JIswPQkAAEQbwzDkn2XB9KTfMT3JbgwgAQAAAGgXSQMAAACAdlHTAAAAAPOYeEva87FXnn3UNIQDahosQk0DAACINoZhyP9LC2oa5lHTYDdGGgAAAGAeh2F3BLAANQ0AAAAA2sVIAwAAAMzjtDsAWIGkAQAAAGHJs9crz8deu8OAKIS2DIXQAAAg2hiGIX9uF/P7zT3GdZXNqGkAAAAA0C6SBgAAAADtoqbBQrt2vmN3CDhN/VJS5XRSuQUAwFnjlnSHRNJgof456XaHgNNUU/ipzuvWze4wAAAAwhJJg4Vy93jlPseQuyubnAAAgI7L4/HI4/E0PWCkoUPiz2qh3F4OEgYAANDhud1u5ebmmt6v5yOvcrecML3fttTV1Sk/P/+026MNSQMAAADM4zRMO9zJnZQ7MtbykPfv368ZM2boV7/61Wm1RyOSBgAAAES1Pn366NZbbz3t9mhETQMAAADME6GLEZ5s8zg2lWvCSAMAAACAdpE0AAAAAGgX05MAAABgHm5Jd0gkDQAAAIholZWVWrhwoXr37q0ZM2a0er6goEBbtmxRcnKytm7dqpycHI0cOdKGSCMXSQMAAADME+JC6MLCQq1evVr5+flt7hWxbNky5eXlqaysTC6XSxUVFUpNTdXGjRs1dOhQSdLBgwe1fv16VVdXq7CwUNdee62cTudJ26OR4ack3BKGYcifFp0/qkhU82qVzuvWze4wAACIaIZhyP/wOeb3e8/Rdlcx+uijj3TppZcqNzdXc+fObWmvra1VUlKS7rzzTv32t79tab/llltUVlamt99+2/RYOypmnQEAAMA8DguOU72lo+2TNm/erJqaGmVmZga0Z2RkaMeOHSotLT3TTxe1SBoAAADQIW3fvl2SlJSUFNDet29fSVJJSUnIY4pU1DQAAADAPE7jrLvw7GqUZ7dXez/zaW918DPpq6qqJEnx8fEB7V27dpXUVECN00PSAAAAgLDi7t9J7v5fXqYadx0Jqp/Y2Nim1xuBiUzzdKaYmJggI4w+JA0AAAAIS80jDsFKSEiQJB05Eph0ND9OTEwMPrgoQ00DAAAAzGNiAbT78k7K/WFs0KGkp6dLksrLywPa9+3bJ0kaNGhQ0H1HG5IGAAAAhCXPrkblvlgf9OuzsrLUo0cPFRcXB7QXFxdryJAhSk5OPtsQowZJAwAAAMzjNO9wp3RS7vWnHmmor29KLLzewKlMTqdTc+bM0cqVK1VXVydJOnDggDZs2BCwnwNOjZoGAAAAhCVPWaM8u9qvaSgqKtKSJUtkGIbWrl2rlJQUjRkzpmXFpOnTpys2NlZTpkxRWlqaSkpKtGrVKo0ePToUH6HDYEdoi7AjdGRhR2gAAM6eYRjy/6mr+f3+5Ei7O0LDekxPAgAAANAupicBAADAPCZOtPC83yjP+8EvuQrzMD3JIoZh6OX4U5+H8FB5YbLkjNzpZA5D6nT2G3Di/3R2SDEOvlCzdDakGMa1ESJdHFKPbvzg7NKvsFT+P1swPekOpifZjZEGC/3pmDTA0XQgvHX5cLfdIZyVTiQNpopzSi4nX6hZYh2SK3JzckSYrk6pzwX8P95Q8xzxy3OUi/qOjKTBQjfz7QIAgCjg7mrI3dVQ3iFv0/C3STz/ZnpSuCAVBwAAQFhyp3RS7tjgd4SGebgXDgAAAPMwHbFDYqQBAAAAQLsYaQAAAIB5TLwl7XmvUZ5/U9MQDhhpAAAAQFhyX9FJuTdS0xAOGGkAAACAeahp6JAYaQAAAADQLpIGAAAAAO1iehIAAADMY2YhdGmjPKUUQocDRhoAAAAQltypnZQ7nkLocMBIAwAAAMxDIXSHxEgDAAAAgHYx0gAAAADzOAy7I4AFGGkAAAAA0C5GGgAAAGAeaho6JJIGAAAAhCXPu43yvNsYkveqq6vT2rVrNXHixJa2devW6eOPP5bT6ZTT6dSdd94ZkljCkeH3+/12B9ERGYahdawQhhDpZDQdMEecU3I5+ULNEuuQXNx5RIh0dUp9LmD2tV2Md73yv3Cu+f1e94WsvGTdv3+/HnzwQW3atEnl5eWSpN27d2vChAnaunWrJOmGG27QnDlzlJ6eblkc4Yz/qgAAAGAehwWHxfr06aNbb701oG3lypW6+uqrWx5/73vf0+OPP259MGGKpAEAAABR7+sjGTt37lSfPn1aHvfp00fvvvtuqMMKG9Q0AAAAwDwdZDri0aNH1bVr15bH8fHx+vTTT22MyF6MNAAAAABf0717dx05cqTl8dGjR9WjRw8bI7IXIw0WOu6zOwIAwYjzSZ83sEaEWZxhWKgfZuHAZGVHvHaHEDSHIcVE+uZoNtySrqys1MKFC9W7d2/NmDGj1fMFBQXasmWLkpOTtXXrVuXk5GjkyJHt9jlo0CBVVFS0PN6/f78GDRpkeuyRgqTBQs96pRRDuoLxHCCi1JHwd2hOQ4qJ8GsytK8+4v8bjrybFjt9TYcdCgsLtXr1auXn5ys3N7fV88uWLVNeXp7KysrkcrlUUVGh1NRUbdy4UUOHDj1pv+PGjQsojt6yZYt+8YtfWPERIgKXsxa60UnCAAAAOr4BDunm5lvRTsP8ox3Z2dltJguSVFtbq5kzZ2rSpElyuVySpMTERI0aNUrTpk1rOe/gwYNav369qqurVVhYKK/Xq379+mn69OmaP3++HnnkEQ0bNqzdJKOjY6QBAAAAEc3haPsu7ebNm1VTU6PMzMyA9oyMDK1Zs0alpaVKTU1VQkKCFi1apEWLFgWcN2HCBMtijjTcBwcAAECHtH37dklSUlJSQHvfvn0lSSUlJSGPKVIx0gAAAADzhNEt6aqqKklNy6V+VfNSqpWVlSGPKVKRNAAAACCseHY0yrOjUXsP+rT3YPAV1rGxsZIkwwisi2iezhQTExN8kFGGpAEAAADmMWFzN3d6J7nTv7xMNb5bE1Q/CQkJkhSw38JXHycmJgYZYfQJowEkAAAA4Eue7Y3KfbIu6Nenp6dLksrLywPa9+3bJ0lRve/CmSJpAAAAgHkc5h3u9E7KnRwXdChZWVnq0aOHiouLA9qLi4s1ZMgQJScnB913tCFpAAAAQFjybG9U7p9PPdJQX18vSfJ6A3cDdzqdmjNnjlauXKm6uqZ+Dhw4oA0bNmju3LnmB9yBUdMAAAAA85hQ09DMPbiT3IM7Ke/J+pOeU1RUpCVLlsgwDK1du1YpKSkaM2ZMy4pJ06dPV2xsrKZMmaK0tDSVlJRo1apVGj16tHmBRgHD7/dH3l7lEcAwDD3V2e4oAABf5zSkmPY3mAUQpB/VS/43zzOtP8/bjfK83ai8P9eLS1Z7kTRYhKQBAMITSQNgHbOThmbGd2pIGmzG9CQAAACYx0FW3hGRNAAAACAsef7ZIM/bjXaHATE9yTJMTwKA8MT0JMA6P6qX/Nu6md6v8e3DTE+yGUuuAgAAAGhXVE9PKigo0JYtW5ScnKytW7cqJydHI0eOPOn57777rhYvXqx+/frp8OHD2rt3r+bNm6e+ffuGMGoAAIAwZuItaU9Jgzz/ZHpSOIja6UnLli1TXl6eysrK5HK5VFFRodTUVG3cuFFDhw5tdf6nn36qK664Qn/729/0rW99S5K0fPlyLVy4UO+8806r85meBADhielJgHV+VC/5/2nB9KR0pifZLSqnJ9XW1mrmzJmaNGmSXC6XJCkxMVGjRo3StGnT2nzNG2+8oc8++0z9+vVracvIyNDOnTtVXV0dkrgBAADCntOCA7aLyqRh8+bNqqmpUWZmZkB7RkaGduzYodLS0lavueCCCyRJjz32WEvb9u3bdfHFF6t79+7WBgwAAADYKCprGrZv3y5JSkpKCmhvrk0oKSlRampqwHPf+c53dMMNN2jWrFk6duyYvvvd7+rPf/6zNm7cGJqgAQAAooxnW4M8JdQ0hIOoTBqqqqokSfHx8QHtXbt2lSRVVla2+bo1a9Zo8uTJ+s1vfqOuXbvK4/Ho8ssvtzZYAACASGLiPBZ3Rme5Mzor77F68zpFUKIyaYiNjZXUVKz8VQ5H0688JiamzddVV1frxIkT+vWvf61FixZp2LBheuqppzR27Ng2z++c8xMTowYAmMEwJL8kQ03/t6X9LB7b9dqv4zPY9xnCJQ6dwbmWxLHkTyeJBpEuKpOGhIQESdKRI0cC2psfJyYmtnrNF198oauvvlp//OMfNXLkSE2aNEk//OEPNWHCBO3evbvN15Re0Lvlf7vdbrndbhM/BQAAgL08Ho88Hk9go5PlyTqiqEwa0tPTJUnl5eUaMGBAS/u+ffskSYMGDWpaID0iAAAgAElEQVT1mjVr1uizzz5r2cehf//+eu655zRgwABt2LBBP/3pT1u9Jjc314LoAQAAwsPXb4rm5eXZFwwsFZWrJ2VlZalHjx4qLi4OaC8uLtaQIUOUnJzc6jX19fXyer0BbSkpKerZs2fLtCYAAICo5zDv8JQ0KHfJ8VB/ArQhKq92nU6n5syZo5UrV6qurk6SdODAAW3YsEFz586VJM2bN08DBw5sKZq+7rrrZBiGNm3a1NLPhx9+KK/Xq9GjR4f+QwAAAHRw7iGdlXuXy+4woCidniRJ06dPV2xsrKZMmaK0tDSVlJRo1apVLQlAdXW1Dh06pPr6pmr9pKQkbdmyRXl5efrb3/6mHj166IMPPtDLL7+sPn362PlRAAAAwgebsXVIhp89uS1hGAbbnQMAgKhiGIb8u843v9/+n3NdZbOonJ4EAAAA4PRF7fQkAAAAWIBb0h0Sf1YAAAAA7WKkAQAAAOYxsRDaU9wgT3GjeR2exJ/+9CfFxsbqgw8+UN++fTV58mTL3zPSUAhtEQqhAQBAtDEMQ/49FhRCX2xdIfSbb76pefPm6YUXXpAkpaWlafny5S2bAaMJ05MAAABgHodh/mGh559/XpdffnnL42HDhunJJ5+09D0jEUkDAAAAolZ9fb0OHz7c8rh79+7as2ePjRGFJ5IGAAAAmMdpwWGhrKwsbdy4sSVxKC8vV5cuXax90whEITQAAACi1g9+8APdf//9+vnPf6709HSVlZVp3LhxdocVdiiEtgiF0AAAINoYhiH//u7m99unut3rqsrKSi1cuFC9e/fWjBkzWj1fUFCgLVu2KDk5WVu3blVOTo5GjhzZ6ry9e/fqyiuv1K5du9SzZ09TP0OkY6QBAAAA5gnx5PfCwkKtXr1a+fn5ys3NbfX8smXLlJeXp7KyMrlcLlVUVCg1NVUbN27U0KFDW86rra3V7bffrieffJKEoQ0kDQAAAIhY2dnZ6t+/v/Lz81s9V1tbq5kzZ+rOO++Uy+WSJCUmJmrUqFGaNm2a3n77bR0/flzPP/+8XnvtNS1YsECDBw8O9UeICCQNAAAAMI/FhcttcTjaHt7YvHmzampqlJmZGdCekZGhNWvWqLS0VP369dPYsWN18803hyLUiMXqSQAAAOiQtm/fLklKSkoKaO/bt68kqaSkRHFxcYqNjQ15bJGGkQYAAACYJ4xuSVdVVUmS4uPjA9q7du0qqamAGqeHpAEAAABhxfNGgzxvNGjvPq/2lvuC7qd5BMEwAneVbp7OFBMTE3yQUYakAQAAAOZxGqc+5xTc18TIfU2MPK83yPN6g15583hQ/SQkJEiSjhw5EtDe/DgxMfHsAo0iYTSABAAAAHzJPayzcn8Z/O7M6enpkpp2ef6qffv2SZIGDRoUfHBRhqTBQrm5ufJ4PHaHAQAAYCmPx9PmHgln3e/rDcqddyzo12dlZalHjx4qLi4OaC8uLtaQIUOUnJx8tiFGDXaEtgg7QgMAgGhjGIb8h3uY32+3z9q9riorK1NKSormzJmjvLy8gOf+8Ic/6OGHH9a///1vxcXF6cCBA7rsssv09NNPa/To0abH2lFR0wAAAICIVVRUpCVLlsgwDK1du1YpKSkaM2ZMy4pJ06dPV2xsrKZMmaK0tDSVlJRo1apVJAxniJEGizDSAAAAoo1hGPLXmjfS4HmtQZ7XGpT3P8e5rrIZSYNFSBoAAEC0MTtpaOk3vv3pSbAe05MAAABgHhOX2fG82jTSAPsx0mARRhoAAEC0MQxD/qMWjDScw0iD3RhpAAAAgHmcdgcAK5A0AAAAICx5XmmQ51WmJ4UDpidZhOlJAAAg2hiGIX+dBdOT4pieZDdGGgAAAGAeh2F3BLCAifXtAAAAADoiRhoAAABgHhMLoT2eE/K8Qk1DOKCmwSLUNAAAgGhjGIb83p7m9+us4rrKZow0AAAAwDxMfu+Q+LMCAAAAaBcjDQAAADBNg8/uCGAFkgYAAACEpVc8J/QKhdBhgUJoi1AIDQAAoo1hGDphQSF0DIXQtmOkAQAAAKZp8HJx3xFRCA0AAACgXYw0AAAAwDQUQndMjDQAAAAAaBcjDQAAADANNQ0dE0mDhXJzc+V2u+V2u+0OBQAAwDIej0cej8f0ft94tUFvvMaSq+GAJVctwpKrAAAg2hiGoU9qu5veb+/4akuvq5599ll9/vnn8nq92rVrlxYsWCDDMCx7v0hETQMAAACi1vHjx/Xwww8rJydHU6dOVWNjowoLC+0OK+yQNAAAACBqnThxQu+//76qq6slSV988YW6detmc1Thh5oGAAAAmKbBa3cEZ+a8887TxIkT5Xa7lZOTo8zMTF111VV2hxV2GGkAAABAVJs3b57i4uI0e/ZsxcbG2h1OWGKkAQAAAKZp8EXWQjB+v1/jxo3Ts88+q23btmnixInq27evhg8fbndoYYWkAQAAABGtsrJSCxcuVO/evTVjxoxWzxcUFGjLli1KTk7W1q1blZOTo5EjR0qSduzYoYqKCl144YW68MILdffdd2vdunUkDV9D0gAAAADThLqmobCwUKtXr1Z+fr5yc3NbPb9s2TLl5eWprKxMLpdLFRUVSk1N1caNGzV06FD17NlThw8flt/vl2EY+sY3vkEhdBuoaQAAAEDEys7ObjNZkKTa2lrNnDlTkyZNksvlkiQlJiZq1KhRmjZtmiTpwgsv1P3336/Zs2dr+fLlKi8v1/Tp00MVfsRgpAEAAACmsaOmweFo+z745s2bVVNTo8zMzID2jIwMrVmzRqWlpUpNTdXkyZNDEWZEY6QBAAAAHdL27dslSUlJSQHtffv2lSSVlJSEPKZIxUgDAAAAwsq2Nxq07c1GVezz6ZNyX9D9VFVVSZLi4+MD2rt27SqpqYAap4ekAQAAAKYxoxB6UGZnDcrs3PI4vffhoPpp3nPBMIyA9ubpTDExMUFGGH1IGgAAABCWSt5s0D/fbAz69QkJCZKkI0eOBLQ3P05MTAw+uChDTQMAAABM0+Az7/hWZmfdca8r6FjS09MlSeXl5QHt+/btkyQNGjQo+A8aZUgaAAAAEJb++WaD/vT740G/PisrSz169FBxcXFAe3FxsYYMGaLk5OSzDTFqkDQAAADANA1ev2nHwIxOuv3uuFO+Z319vSTJ6w0sqHA6nZozZ45Wrlypuro6SdKBAwe0YcMGzZ071/wP34FR0wAAAICwtP2tRm0vbr+moaioSEuWLJFhGFq7dq1SUlI0ZsyYlhWTpk+frtjYWE2ZMkVpaWkqKSnRqlWrNHr06FB8hA7D8Pv9od+BIwoYhiG+WgAAEE0Mw1DRnvNM73fExTVcV9mM6UkAAAAA2hUR05N8Pp/27Nmj6upqGYahXr16qVevXqytCwAA0IHtKG7UjlNMT0JohO30pMOHD+vJJ5/UunXrVFJSosbGRp1//vlyOp2qrq6W1+vVwIEDdcMNN2jy5Mlht84u05MAAEC0MQxDmz881/R+v9/vC66rbBZ2Iw1+v18LFizQypUr9YMf/EC//vWvNWTIEHXv3j1gN78vvvhC//znP/XKK69ozJgxcrvdeuihh9SlSxcbow9UnxJ2Xy9Ognl6kWV+xRD9+os37Q4DAICoEVZXtcePH9cdd9yhrKwsvf322+rcufNJzz333HM1fPhwDR8+XHPnztW6det0880369FHH1Xv3r1DGPXJzd7nVWaMlBljnPpk2CrOIfFXihy1DV3tDgEA8BUej0cej0eS1OBt/9wz8c4/GvXuP5ieFA7CanrSgw8+qIkTJ+riiy8O6vVVVVV66KGHtHDhQpMjO3OGYWjPBVyGRgqShsiy6HCWHjr+kt1hAAC+xjAMvbjL/OlJP+jP9CS7hVXS0JGQNEQWkobI8r+Hs/Q/JA0AEHYMw9D6981PGsZeTtJgt4ifyv3II4/YHQIAAADQoYVVTUN7Dhw4oI8++ihge3Cfz6elS5fqzjvvtDEyAAAANGvwmjciULq1UaXbTCySQNAiImn4wx/+oHvuuafNYamvrqgEIDrwXz0ARIfUIZ2UOqST1i45YXcoUS8ipie9+uqr+vDDD9XY2Cifz9dyeL1eXXPNNXaHByDEmNUKAEBoRcRIw7e//W1ddNFFrdoNw9D9998f+oAAAADQpgaf3RHAChEx0uDz+VRXV9fmc6WlpSGOBgAAAAjeO++8Y3cIZywiRhruuusu3XfffRo8eHDAHg4+n09PPPGEZsyYYWN0AEKNmgYACF9mbu72722Ner8kMguhx40bp2eeeabN5/Ly8vTss8+GOKKzExFJw/Lly7VkyRIKoQFIoqYBAKJFyrc7KeXbnfT8Y5FXCP3yyy+rqqpKPXv2DGhfu3atNm7caFNUwYuIpOHVV1/VRx99pAsvvFAOx5czqvx+v0aMGGFjZO378CiXNpEiklNPQ1KM0+4oQmt45zdUOKi/3WHgNMU6pHOi7DcK+3QypHM7R/K/6pGvwcf1jyQdPXpUEydO1OOPP66kpCTV19frnnvu0apVqwK2EIgUEZE0DB48WH379m3VbhiGHnzwQRsiOj1fNNodAaJG1P3Wjknv77Y7CJwmn0MSSQNCJMZhqHuc3VEA0iuvvKIrr7xSeXl56tu3r5YuXSqXy6V33nmHmgardOrUSTU1NTrvvPNaPff3v/9dw4YNsyEqAAAAfJ2ZNQ2R7Nvf/rY6d+6sSy+9VHfddZcuv/xyeTwexcXFBdToRoqISBpSUlJ0yy23KDMzM2DpVZ/Pp+XLl2vOnDn2BQcAAAB8zRVXXKHBgwerqKhIzz33nC688ELdfffdmjVrloqKipSTk2N3iGfE8LdVXRxmzjvvPNXW1rb5nGEYYTkvzDAMrYu1OwoAsF+sQ3IxPQkhEuMwlMj0JNtcfMivJdu6mt7vz799pM0FccKZw+GQ2+3WU089pW9+85uSpGPHjum2227Tc889F5bXr+2JiJGGyy67TJs3b9b5558f0G53IXRlZaV27Nihnj17Kj093bY4AAAAwoWZhdC7/+nVB29H1sV1swEDBujll1+W0/nlXZMuXbroqaeeUr9+/WyMLDgRsbnbvHnzWiUMUtPd/Llz5wbdb0FBgaZOnaoFCxZo/Pjxeumll07rdUVFRfre976nxYsX66KLLiJhAAAAsEByulOjfhJj6Xu8+eabcjqdcrlccrlciomJ0a9//euz7nfy5MkBCUOzuLg4/ed//udZ9x9qETHSMGLECL333nu69NJLFRPT9MPZuXOnunTpouHDhwfV57Jly5SXl6eysjK5XC5VVFQoNTVVGzdu1NChQ0/6ut/+9rd64okntGHDBqWlpQX13gAAAB1VpBVC79ixQ4cPH1Z8fLwkadasWfrhD3941v22t/nwBRdccNb9h1pE1DQ8/PDD+sUvfqH/+Z//0ezZsyVJx48f1yOPPKL09PQzThxqa2uVlJSkO++8U7/97W9b2m+55RaVlZXp7bffbvN1ixcv1syZM1VSUnLKhIGaBgBoQk0DQomaBntdfMivBW+eY3q/M79zNGQ1DVdffbVee+21s+7n1VdfbbP90KFDeuCBB/T++++f9XuEUkSMNHz++edasWKFrrnmmpY2l8ulmTNn6oEHHjjjpGHz5s2qqalRZmZmQHtGRobWrFmj0tJSpaamBjy3f/9+zZo1S7fffjsjDAAAACfR4LM7guC99957Sk5ONqUvt9vdZnvnzp3b3EYg3EVETYPP59Ntt93W5gZvDQ0NZ9zf9u3bJUlJSUkB7c39l5SUtHrNE088ofr6ejU0NGj8+PFKSkpSv3799Mgjj5zx+wMAACD8PPfcc7r++utN6at///46evSofD5fy3HgwAEtWrRIa9euNeU9QikikoY9e/aosbH1lre1tbUqLS094/6qqqokqWXuWrOuXZuWCKusrGz1Go/HI6fTqYkTJ6qgoED79u3Tf/zHf2jatGl6+umnzzgGAACAjqjB6zf9CJWXXnpJI0eONKWvxYsXy+VyBbT16tVLP/3pT/XWW2+Z8h6hFBHTk6699loNHjxYU6dOVf/+/RUXF6cdO3Zo0aJFmjVr1hn3FxvbVGxgGEZAu8PRlEM1F1t/1cGDB5WWlhawxOv999+vxx9/XL///e918803t3pNXQQPzwGwVifj1Od0FH6fFGF1kYhgTp9fvrrI/Q/MUHT9+2CWyspKLVy4UL17926zALmgoEBbtmxRcnKytm7dqpycnFbJwSeffKL4+PhWF/rBuvbaa0/6XASUFLcSEUnD7bffrk8//VT33nuv6uvrJTXNB7v//vuD2k0vISFBknTkyJGA9ubHiYmJrV5z7rnntvoDO51ODRw4UG+88Uab7/P0V2ZOXWZIl/OPAABJDkPyR8Q4rzka/NxEQWgdboi8C7JmDkOKjaDrhZ2+psNOhYWFWr16tfLz85Wbm9vq+dNdMfP55583ZdWkZitWrGh1g1qSPvvsMxUXF5v2PqESEUmDJN13332aPHmyXn/9dXm9Xn3nO99Rr169guqreV+F8vJyDRgwoKV93759kqRBgwa1es1ll10mj8fTqv288847aTHL9VF0UQAAAKLPAEfT0azAG/pC6OzsbPXv31/5+fmtnqutrdXMmTN15513towgJCYmatSoUZo2bVrAipkbNmzQsmXLTIurrb0YHA6HLr/8ci1fvty09wmViLqs7d69u6677jqNHTs26IRBkrKystSjR49WWV5xcbGGDBnSZtX8LbfcooqKCu3evTugvaKiQhkZGUHHAgAAgLPTPMX869pbMXPHjh0BtbGbNm3SN7/5TdNiuuyyy1oVQjc2Nmrnzp0aPHiwae8TKmGVNDz00ENtFiGfrqqqKt19992nPM/pdGrOnDlauXKl6urqJEkHDhzQhg0bWnaYnjdvngYOHNhSND1q1ChdddVVWrhwYUs/H374obZv397mUBgAAEA0avD5TT+CFcyKmWZZsGCBafUR4SCspidNmzZNU6dOVXZ2tiZMmNDm1ttt8fv9evbZZ5Wfn69HH330tF4zffp0xcbGasqUKUpLS1NJSYlWrVql0aNHS5Kqq6t16NChlhoKwzD04osvaubMmbr99tuVmJioPXv26KWXXmq1pwMAAACC9/EOr/b9y6eagz7VHAw+aQhmxUyzjBkz5qTPLV26VD/72c8se28rhFXSEB8fr5UrV+qPf/yjrrzySl1//fUaNmyYMjIyWtUNHD16VCUlJfJ4PFq/fr2ysrL0l7/85YwyuqlTp2rq1KltPve73/1Ov/vd7wLazj//fFPnugEAAHQ0DSYsl9Y7zaneaV/ePP79yONB9RPMipnBqK6u1s6dO0/rXJ/PR9Jghk6dOunuu+/W7bffrieffFLz58/Xa6+9JsMwdN5558kwDH3++efyer3KzMzUmDFj9OKLL6pPnz52hw4AAAATlf/Lq/J/BV9ZHcyKmcHYsWOHsrKyTvv8tlZVCndhlzQ069atm+655x7dc889OnHihA4ePKhDhw7J5/PpG9/4hhISEjrUPDEAAICOwMzVkxLSnEpIc+qt/Nab/J6OYFbMDEb37t314x//WE899dRJi7Kb+f3+gH2/IkXYJg1fFRMTo6SkpFZFLAAAAOi49v/Lq/3vBJ+FfHXFzFGjRrW0t7diZjD69eunmTNnnjJhkJpGGZoX3okkYbV6EgAAANCsz7ecyryt8ynPa164xusNLKg4nRUzzRAfH6+//OUv+tGPfqS77rpLL774YrvnDx8+3LT3DpWIGGkAAABAZGjwmrcjd8U7Xn3ybvsjDUVFRVqyZIkMw9DatWuVkpKiMWPGtKyYdKoVM83yv//7v3rppZcicurR6TD8fn/k7rUexgzD0DMpl9gdBoAwZEjqzDgvgDYYhhQTgUWyzbLf/VA/2xhner9Lx9Qp3C9Zr7rqKr311lt2h2EZRhosdNN7H9odAgAAQOgYhqmF0JHkoosuavnfS5cu1bp161RUVKShQ4dq2LBheuihh+wLzgQkDQAAAAhLn7zr1YFTTE8KF3FxX46w/OxnP9PUqVM1cOBA/f3vf2+1YfEbb7yhoUOHhjrEs8IAOQAAAEzT4PWbdnzjCocG/jgy73E7HA5lZGS0ShgkafHixTZEdHZIGgAAAICzVF1d3aqtrR2nfT6f3n333VCEZCoKoS1iGEbYF+wAAACYyTAM3bou1rT+Knf6VLnTp50F3rC/rnI4HKe8/mt+3jCMVsvDhrvIHO8BAABAh9drgEO9Bji0syD8L7BjY2M1fvx4GadY/crv92vt2rUhiso8JA0AAADAWbr22mu1YsWK0zr38OHDFkdjPpIGAAAAmKYh/AcFLPGTn/zktM/NycmxMBJrRERNQ0VFhRITE+0O44xQ0wAAAKKNYRga94x5NQ2HSn36tNSn954J/5qGji4iVk8aP3683SEAAADgNDT4/KYd56cY6n9T6yVLEXoRkTS89dZbuummm7Rz5067QwEAAACiTkQkDZMmTdLKlSv1j3/8Q/fcc4/WrVsnny8ydgcEAACIJg1e8w/YLyIKoZcvXy5Jmjx5siTp9ddf189+9jP169dPP/nJT3T++efbGN3J5ebmyu12y+122x0KAACAZTwejzwej91hwEIRUQhdWVmpXr16SZJKS0u1aNEiPfXUU+revbvGjh2rc845R1OmTNHFF19sc6RfohAaAABEG8MwNDK/s2n9Vb/nU/W//fpovY/rKptFxPSk66+/XuvXr9fw4cOVlpam999/X8uXL9fevXv1hz/8Qb/5zW/0/PPPq7Cw0O5QAQAAYJLuVzh06Y0UQoeDiEgatm7dqgkTJuiSSy7R9u3b9eqrr2rcuHFyOpt+RHFxcbr77rtVUlJic6QAAABAxxMRNQ2XXHKJiouL1bNnzzafr6io0He/+10NGzYsxJEBAADgqyhc7pgiImmYPXv2SRMGSfrGN76hsWPHsp8DAAAAYIGIKISORBRCAwCAaGMYhoY9aV4hdLPX/7OB6yqbRURNAwAAABAKu3bt0q5du+wOI+yQNAAAAMA0DT6/acdn73m1Z31jSOJ+6aWXNGHCBFVVVSk5OTkk7xlJIqKmAQAAANHn3MsdOvdyqeIFaxOHdevWaeHChfJ4POrUicvjtvCtAAAAwDSRtnrS559/rsmTJ5MwnALTkwAAABC1nnnmGTU0NOivf/2rbrrpJo0ePVpVVVV2hxV2SBoAAAAQtd555x394Ac/0C9/+UutXbtWvXr10gMPPGB3WGGHpAEAAACmafCZf1jJMAwlJSW1PB49erTefPNNa980ApE0AAAAIKJVVlZq9uzZWrRoUZvPFxQUaOrUqVqwYIHGjx+vl156qeW5yy67TAcPHmx53KVLF3Xp0sXymCMN1R4AAAAwTYM3tJuwFRYWavXq1crPz1dubm6r55ctW6a8vDyVlZXJ5XKpoqJCqamp2rhxo4YOHapx48Zp4cKFOnHihGJiYvTee+/puuuuC+lniASMNAAAACBiZWdnt5ksSFJtba1mzpypSZMmyeVySZISExM1atQoTZs2TZLUq1cvzZ8/X3fddZeefPJJffHFF5o1a1aowo8YjDQAAADANFbXILTF4Wj7PvjmzZtVU1OjzMzMgPaMjAytWbNGpaWlSk1N1Y033qgbb7wxFKFGLEYaAAAA0CFt375dkgIKnSWpb9++kqSSkpKQxxSpGGkAAACAaUJd09Ce5v0W4uPjA9q7du0qqamAGqeHpAEAAABhpW63X3Uf+NVYLTVWB99PbGyspKZlVb+qeTpTTExM8J1HGZIGAAAAhJW4ZENxyUZL8nDiw+D6SUhIkCQdOXIkoL35cWJi4lnFGU2oaQAAAIBpzNzUzdnP0DnfD/5yNT09XZJUXl4e0L5v3z5J0qBBg4L/oFGGpAEAAAAdUlZWlnr06KHi4uKA9uLiYg0ZMkTJyck2RRZ5SBoslJubK4/HY3cYAAAAlvJ4PC17JTR4zTuO7vLr8F9PvYZrfX29JMnr9Qa0O51OzZkzRytXrlRdXZ0k6cCBA9qwYYPmzp1r7pfQwRl+vz98Stw7EMMwxFcLAACiiWEY6jnf/HvSVff5TnpdVVRUpCVLlmj9+vW6/PLLNWfOHI0ZMyZgxaTHHntMb7zxhtLS0lRSUqJbb71V119/velxdmQkDRYhaQAAANHGMAyd9/8Zpz7xNDV+6FfjR1L938R1lc2YngQAAICw1KmfobhrzUtCEDyWXAUAAIBpGrynPud0eT/yy/uRef0heIw0AAAAICw5LzEUk8VIQzggaQAAAADQLqYnAQAAwDQNPgqWOyKSBgAAAIQl30eSf4/dUUAiaQAAAICJzCyEVt//O/5uYp8ICjUNAAAAANrFSIOFNtx6o90h4DTFkD5HlBiH5LQ7iI4koZeu+d0Su6MA0FH4TLy83OuT9volUSdhN5IGCzWuW2d3CDhNPeIMht0iyDlOqTN/MNP4Lk22OwQAaNtFDukiSa802h1J1CNpAAAAgHm8nS3olKTBbtyrAwAAANAukgYAAAAA7WJ6EgAAAMxjZiH0x43Sx2au4YpgMdIAAACA8NS3k3RNrN1RQIw0AAAAwExeLi87IkYaAAAAALSLVBAAAADmMbOmAWGDkQYAAAAA7SIVBAAAgHks2dwNdiNpsJDXb3cEOF3HGiXDsDuK4BmKrmFDv6ROPruj6Dj8uw7oP5w/sjsMwDSG+AeiwyivbzpCrKqqSj179gz5+4YzkgYL/aVRSjGkK6Lpai5CHToR2RleJ0PqHMFJzxlrsDuAjqZWN3Reb3cQACLYTl/TYboLY5uO4iMWdP6l6upqJSUl6dixY3I4HHrrrbdIGr6GpMFCNzrtjgAAAMB6AxxNR4FXEVkIvWLFCr3//vu64IIL5HA41KlT5H0Gq3EPHAAAAFGrsbFRjz32mGbNmqUXXniBhOEkSBoAAABgHm8n87V8/qkAACAASURBVA8L1dfX695771VsbKxuueUWTZ482dL3i1SG3++P7MncYcowDD3F4gEIkairaQAAhKUf1Uuadon5HS/+SKG4ZC0uLpbb7VZxcbEGDRpk+ftFEkYaAAAAYB5fZ/OPEMnMzNRNN92k999/P2TvGSmYtAUAAICIVllZqYULF6p3796aMWNGq+cLCgq0ZcsWJScna+vWrcrJydHIkSPb7CshIUEJCQlWhxxxSBoAAABgHotrEL6usLBQq1evVn5+vnJzc1s9v2zZMuXl5amsrEwul0sVFRVKTU3Vxo0bNXToUO3du1der1f9+vVTQ0OD9uzZo6uvvjqknyESMD0JAAAAESs7O7vNZEGSamtrNXPmTE2aNEkul0uSlJiYqFGjRmnatGmSpJdfflmZmZm6//77tXTpUi1evFhOJ+vmfx0jDQAAAIhoDkfb98E3b96smpoaZWZmBrRnZPz/7d1/cFT1vf/x18lCQjBRICiYQCLQiCEJjeJNIlhBRcoPZ7S1Ra3CdRDRqyV86WW0rZJLpChTLHesFayFqgmiICVcuCjYJkbbmQZYSVQCRcBCQsREDEICScDN+f6RZi9rwkKWs3v2x/Mxc2bcT85+zvt8iDn73s+vHK1Zs0ZVVVV66KGH9NBDDwUizJBGTwMAAACs09bD+sNHFRUVkqTk5GSP8pSUFEmS0+n0/T4jDD0NftTisjsCRAJDkhzSNyyeDFwQhyFFs0QxENw+b2o/Gk+3Hz46evSoJCk+Pt6jPC4uTlL7BGpcGJIGP2ppszsCRIpmftdCSi/6eG3lMCQX/waA/7gsWCJ1QN/2o8NK33oEYmJiJLXvn3W2juFM0dHRvsUXgUgaAAAAEJyOnJCONPr89o6lU5uamjzKO14nJSX5HluE4bsWAAAAWMfVw7rjin7Sd1N8DmXUqFGSpJqaGo/y6upqSWLX524gaQAAAEBwOnJcqqg5/3nnMH78eCUkJKi8vNyjvLy8XNnZ2UpNTb3YCCMGSQMAAACsY+WqSQMSpO8OOe8lW1tbJUkul+cqNA6HQ/Pnz1dhYaFaWlokSUeOHNGmTZuUn59v/b2HsYie09CdLcW/rb6+XhkZGXI6nZ2W8QIAAEBglJaWatmyZTIMQ+vWrVNaWpqmTJniXjEpLy9PMTExmjVrljIzM+V0OlVUVKTJkyfbHHloMUzTjMiFGs+3pfj53Hnnndq4caMOHjzYZdJgGIZe9EfgAEIeqyfZy2FIPfk3APzivjOSpt9oXYVffC19cVz6uEYR+pE1aETkn80L2VLcmxUrVjAGDgAAoCtWToS+vL+UOczuO4IiNGnwtqV4ZWWlqqqqzvneAwcOaM+ePbr99tv9HSYAAEBkqzsmffxPu6OAIjRp8HVLcZfLpYKCAi1cuJAuMgAAgK609bTuuPwKKeNqu+8IitCkwdctxZcsWaJHHnlEvXv39m+AAAAAQBCJyNWTfNlSfOfOnWpubtbo0aMv+DoZ8cb5TwIQcRz8abCVw5Ci+TdAEHNEhfC3ug1m+1wEq9R/JdU3WFcffBaRSUN3txRvaWnRkiVLVFhY2Kkub8OU/vL/nnL/99ixYzV27FifYwYAAAg277//vt5///3/K1i40NoLXJHQfuzeb2296LaITBrO3lI8IyPDXX6uLcW3bdum4uJi9evXz13WsXlIenq6oqKidOLEiU7Xefrppy2PHQAAIFjceuutuvXWW92vFy5c2L4pG8JORP6rnr2l+KRJk9zl59pSPCcnR7t37/YoKy8v1/3336933nmnU88EAAAAEE5CdsjcxbiQLcUXL16skSNH6ujRo+rVq5eGDh3qcSQmJkpqX3Fp6NChtt0LAABA2Ko/KlXttTsKKEJ7GqTzbyne0NCg+vp6tba2nrOOb0+kBgAAiHiuntbVlXBl+7HnU+vqhE8Mkw0H/MIwDPZyAAAAEcUwDOkHP7S+4uL1fK6yWcT2NAAAAMAPmAgdliJyTgMAAACAC0cqCAAAAOtYubnb0Trpqzrr6oPP6GkAAABAcOo/QBo+0u4oIHoaAAAAYKU2C1dPQtCgpwEAAACAVyQNAAAAALxieBIAAACsY+VEaAQNehoAAAAAeEUqCAAAAOtYublbw+fSsc+tqw8+o6cBAAAAwalfojTs+oBdrqqqShMnTgzY9UIJPQ0AAACwTojOaXC5XCooKNDp06ftDiUo0dMAAACAiPfqq6/qrrvukmmadocSlEIzFQQAAEBwcoXe5m6ffvqp4uPjNWDAALtDCVr0NAAAACBitbW1ae3atZo6dSq9DF6QNAAAACBivfLKK5o+fbrdYQQ9hicBAADAOlYuuXqB6urqtHTpUiUmJmrOnDmdfr527VqVlJQoNTVV27dv18yZMzVhwgRJ0ltvvaXnnntOknTq1CkdPXpUI0aM0M6dO9WrV6+A3kcwI2kAAABAyNqyZYtWr16tVatWacGCBZ1+vnLlShUUFGjv3r2KjY1VbW2t0tPTtXnzZo0ZM0Zbtmxxn/v+++9rwYIFeu+99wJ4B6GB4Ul+tGDBApWVldkdBgAAgF+VlZX93wd2Vw/rDy8mTpzYZbIgSY2NjZo3b56mT5+u2NhYSVJSUpImTZqk2bNndzrfNE0ZhnExTRG2SBr8aMGCBRo3bpzdYQAAAPjVuHHjzvnBPRCiorr+SLt161YdP35cubm5HuU5OTmqrKxUVVWVR/m4ceNUWlrqtzhDGcOTAAAAYJ224FlytaKiQpKUnJzsUZ6SkiJJcjqdSk9PD3hcoYikAQAAAMHl+EHpxCGp9ev2w0dHjx6VJMXHx3uUx8XFSWqfQI0LQ9IAAAAA65xnDsIFiftO+9Fhx3/5VE1MTIwkdZqn0DGcKTo62rf4IhBJAwAAAILTiX9KjQd9fvvAgQMlSU1NTR7lHa+TkpJ8rjvSMBEaAAAAwenSIVLSzT6/fdSoUZKkmpoaj/Lq6mpJUlZWlu+xRRiSBgAAAFinrYd1x/Fq6fD7Pocyfvx4JSQkqLy83KO8vLxc2dnZSk1Nvdi7jRgkDQAAAAhO8UOlxFvPe1pra6skyeVyeZQ7HA7Nnz9fhYWFamlpkSQdOXJEmzZtUn5+vvXxhjHmNAAAAMA6LguXXG08IDUd8HpKaWmpli1bJsMwtG7dOqWlpWnKlCnuFZPy8vIUExOjWbNmKTMzU06nU0VFRZo8ebJ1cUYAwzRN0+4gwpFhGKJpAQBAJDEMQ8r6tfUVVz7O5yqb0dMAAAAA67Tx8TIc8a8KAACA4NS0v/2A7UgaAAAAYB0rNnfrEHtN+1H/rnV1wiesngQAAADAK3oaAAAAEJxO7ms/YDuSBgAAAFjHyonQsWntx5dbrKsTPmF4EgAAAACv6GkAAACAdazc3A1Bg6QBAAAAwenU3vYDtiNpAAAAgHWsnNPQK739aNhkXZ3wCXMaAAAAAHhFTwMAAACsY+Xmbgga/Kv60YFPP7U7BCAsGXYHAISxntHRGnzVVXaHASDIkDT40S9HDFdGlJTBIDDAUn17GurlsDuK8BFlSJfyNMC/1Ay9RoO37bY7DISYsrIylZWVWV9x8x6pZY/19aLbDNM0TbuDCEeGYWh9jN1RAOGJpMFaJA04W93QazSWpAE+MgxDSn7T+oqr7xEfWe3Fd+AAAAAAvOK7JQAAAFjHyiVXETToaQAAAADgFakgAAAArMOSq2GJngYAAAAAXpE0AAAAwDptPaw7WnZLJ9b4PeSVK1dqwoQJGjp0qF577TW/Xy8UkTQAAAAgOEWPlOLu8+slqqqqNGTIEL377rvauHGj5s6d69frhSoGnQEAACBiDRs2TOnp6ZKkpKQkDRkyxOaIghNJAwAAAKzj6ml3BN3Sq1cvSdKZM2c0f/58vfTSSzZHFJwYngQAAICI5nK5tHz5cu3YsUNTp07VqVOn7A4p6JA0AAAAwDpWToTuOPzM4XAoLy9P5eXlSk5OVklJid+vGWoYngQAAICQVldXp6VLlyoxMVFz5szp9PO1a9eqpKREqamp2r59u2bOnKkJEyZ0Os8wDI0ePVo9evAR+dtoEQAAAFgnwJu7bdmyRatXr9aqVau0YMGCTj9fuXKlCgoKtHfvXsXGxqq2tlbp6enavHmzxowZo6amJrW0tKh///6SpM8//1y33HJLQO8hFDA8CQAAACFr4sSJXSYLktTY2Kh58+Zp+vTpio2NldS+QtKkSZM0e/ZsSe1Jx8iRI1VQUKDCwkI99dRTiomJCVT4IYOeBgAAAFinLfCrJ0VFdf09+NatW3X8+HHl5uZ6lOfk5GjNmjWqqqrSj370I/3oRz8KRJghjZ4GAAAAhKWKigpJUnJyskd5SkqKJMnpdAY8plBF0gAAAICwdPToUUlSfHy8R3lcXJyk9gnUuDAMTwIAAIB1rJgI7fqw/Wj7XDKP+FxNx9wEwzA8yjuGM0VHR/seY4QhaQAAAEBwcYxqPzqcyvapmoEDB0qSmpqaPMo7XiclJfkWXwQiaQAAAIB1rNyMzeWU2nyfdzBqVHviUVNTo4yMDHd5dXW1JCkrK+vi4osgzGkAAABAcHJcL/V8xOe3jx8/XgkJCSovL/coLy8vV3Z2tlJTUy82wohB0gAAAADruHpad5yplE7/4byXbG1tbb+0y+VR7nA4NH/+fBUWFqqlpUWSdOTIEW3atEn5+fnW33sYY3iSH735jZQR1X4AAACEq7KyMpWVlVlfcdS/Sfo3qW35OU8pLS3VsmXLZBiG1q1bp7S0NE2ZMsW9YlJeXp5iYmI0a9YsZWZmyul0qqioSJMnT7Y+3jBmmKZp2h1EODIMQ+vZTBDwi749DfVy2B1F+IgypEv5Cgn/Ujf0Go3dttvuMBCiDMOQHHusq9Dc/q/jRfGR1V58Bw4AAIDgZGRLUT+1OwqIpAEAAADAedAhDQAAAOtYsbmb27Z/HbAbPQ0AAAAIUjmS8uwOAqKnAQAAABaKkuv8J3VTm+U1ortIGgAAABCUTG2Tqe12hwGRNAAAAMBChoX9Aoba92lw6UXL6oRvmNMAAAAAwCt6GgAAAGAZf8xpsL5GdBdJgx+xbyHgH22S2vgfzFIu2hP/Yrpc+vrrr+0OA5AktWmHTO2wOwxIMkz25PYLwzD0ek+7owAA+/UwpJ6G3VEACIQftko99Ynl9Z5RpvjIai96GgAAAGAZg8FEYYmJ0AAAAAC8oqcBAAAAlvHHRGjYj6QBAAAAQcklp9r0od1hQBE+PGnt2rV6+OGH9dxzz2nq1Kl69913vZ7/0Ucf6bbbblO/fv00aNAgPfLII6wwAQAAcBZDbZYdPXSdovWQ3bcERXBPw8qVK1VQUKC9e/cqNjZWtbW1Sk9P1+bNmzVmzJhO5x86dEiPPvqoZs2apYceekjr16/Xyy+/rM8+++y8yQYAAAAQyiIyaWhsbNS8efP02GOPKTY2VpKUlJSkSZMmafbs2dq5c2en97z00ksqLi7WFVdcIUmaOnWqmpqa9Pbbb6u6ulrJyckBvQcAAIBgxJyG8BSRw5O2bt2q48ePKzc316M8JydHlZWVqqqq6vSeCRMmuBOGDt///vclSceOHfNfsAAAAIDNIjJpqKiokKROvQMpKSmSJKfT2ek9N998c6ey5uZm9evXT2lpaX6IEgAAAAgOETk86ejRo5Kk+Ph4j/K4uDhJUl1d3QXVU1paqp/97GeKjo62NkAAAIAQxeZu4SkiexpiYmIkSYZheJRHRbU3x4UkAdu2bdPJkyf1xBNPWB8gAAAA9I12qlUr/X6dF198UYMGDdKAAQP0m9/8xu/XC0UR2dMwcOBASVJTU5NHecfrpKQkr+9vaGjQokWLtGHDBjkcjnOe96ezEu00QxoRkSkaAAAIV7va2o+zRamt65N9EK0sSVk6oz9aVue3bd++XX369FFNTY02btyou+66S7fccouuvfZav10zFEVk0jBq1ChJUk1NjTIyMtzl1dXVkqSsrKxzvre5uVlz587V8uXLlZCQ4PU6d507nwAAAAh5GVHtR4e1ITgyyeVy6b777pMk3XHHHfrud7+rTz/9lKThWyLyu+/x48crISFB5eXlHuXl5eXKzs5Wampql+87ffq08vLy9PTTT3v0Ruzfv18tLS1+jRkAACAURMll+eFPN9xwg8fr06dP6/rrr/frNUNRRCYNDodD8+fPV2FhofvD/pEjR7Rp0ybl5+dLkhYvXqyRI0e6J01/8803uvfeezV06FDt2LFD69at07p16/TKK69o4cKF6tWrl233AwAAgIu3b98+ZWdna9iwYXaHEnQicniSJOXl5SkmJkazZs1SZmamnE6nioqKNHnyZEnt8xbq6+vV2toqSZoxY4aKi4tVXFzsUY9hGFqxYkXA4wcAAAhGobp6Ultbm37/+9/rhRdesDuUoGSYpmnaHUQ4MgxDr/e0OwoAsF8PQ+ppnP88AKHvh61SX5VYXu8x3SpvH1nr6uq0dOlSJSYmas6cOZ1+vnbtWpWUlCg1NVXbt2/XzJkzNWHCBI9z/vu//1t33323EhMTLY8/HERsTwMAAABC35YtW7R69WqtWrVKCxYs6PTzlStXqqCgQHv37lVsbKxqa2uVnp6uzZs3a8yYMZKk1157TRMnTlRiYqJcLpc2btyoH/zgBwG+k+AWkXMaAAAA4B+Bngg9ceLELpMFSWpsbNS8efM0ffp0xcbGSmpfWn/SpEmaPXu2JKm4uFgzZ87UyJEj1bNnT8XExGjHjh2Wtkk4oKcBAAAAIa1jg95v27p1q44fP67c3FyP8pycHK1Zs0ZVVVX6wQ9+oDNnzgQizJBGTwMAAAAsY6jN8sNXFRUVkqTk5GSP8pSUFEmS0+n0/UYjDEkDAAAAwlLH0vnx8fEe5XFxcZLaJ1DjwjA8CQAAAJaxYjO20/pYp/WJXKqTS75/sI+JiZHUvqrl2TqGM0VHR/seZIQhaQAAAEBQidZIRWukO3n4Rrt8qmfgwIGSpKamJo/yjtdJSUkXF2gEYXgSAAAALGPIZdkRo3TF6x6fYxk1apQkqaamxqO8urpakpSVleX7jUYYkgYAAAAEpdP6RE1a7fP7x48fr4SEBJWXl3uUl5eXKzs7W6mpqRcbYsQgaQAAAEBQilam4vST857X2toqSXK5POdTOBwOzZ8/X4WFhWppaZEkHTlyRJs2bVJ+fr71AYcx5jQAAADAMlZMhO6O0tJSLVu2TIZhaN26dUpLS9OUKVPcKybl5eUpJiZGs2bNUmZmppxOp4qKijR58uSAxhnqDNM0TbuDCEeGYej1nnZHAQD262FIPY3znwcg9P2wVbpSxZbV16pdOq1datIa8ZHVXvQ0AAAAwDJRF7EZ27fFaoRiNUJNWmNZnfANSQMAAACCUqt2qVVVdocBkTQAAADAQoaFcxp6KU29lKZGrbWsTviG1ZMAAAAAeEVPAwAAACwT6NWTEBgkDQAAAAhKLdqtFu22OwyIpMGvXj8jpUq62u5AAABuDpaARZDrGdX+expKdrdJe/ywImovjVAvjdAJ/cn6ytEtJA1+NMXuAAAAAAJgRJQ0QtL6NmsnQiN4kDQAAAAgKLUPT9pjdxgQSQMAAAAsZOXmbr11jXrrGh23cJdp+IYlVwEAAAB4RU8DAAAALMOchvBETwMAAAAAr+hpAAAAgGWs3NztlP6hZu21rD74jp4GAAAABKXeukYJusPuMCCSBgAAAADnwfAkAAAAWMbKJVcRPOhpAAAAAOAVPQ0AAACwDEuuhid6GgAAAAB4RdIAAAAAy0TJZdnRrD36ShsDEndLS4tWrVoVkGuFIpIGAAAABKVLdLUu1xS/X+fw4cOaM2eOfvGLX/j9WqGKpAEAAACWMeSy/PC3QYMG6Sc/+YnfrxPKSBoAAAAQ8UzTtDuEoEbSAAAAAMArllwFAACAZdjcLTzR0wAAAADAK3oaAAAAYBk7Nnerq6vT0qVLlZiYqDlz5nT6+dq1a1VSUqLU1FRt375dM2fO1IQJEwIeZygjaQAAAEDI2rJli1avXq1Vq1ZpwYIFnX6+cuVKFRQUaO/evYqNjVVtba3S09O1efNmjRkzRpL0xRdfqLi4WA0NDdqyZYtuu+02ORyOAN9JcGN4EgAAACxj5eZuHYc3EydO7DJZkKTGxkbNmzdP06dPV2xsrCQpKSlJkyZN0uzZs93nDRw4UM8//7xOnjypiRMnkjB0gaTBjzZL+tTuIAAAAPxsd5v0p8CPSnKLiur6I+3WrVt1/Phx5ebmepTn5OSosrJSVVVVgQgvLJA0+NEUSVfbHQQAAICfjYiS7vrXl/PBtLlbRUWFJCk5OdmjPCUlRZLkdDp9rjvSMKcBAAAAQaVRn6lJn+m0jum0jvlcz9GjRyVJ8fHxHuVxcXGS2idQ48KQNAAAACCoxGuo4jXU/bpSv/SpnpiYGEmSYRge5R3DmaKjo32MMPKQNAAAAMAyVm7u1qjP1Kh/+vz+gQMHSpKampo8yjteJyUl+R5chGFOAwAAAIJSvIYqUbf6/P5Ro0ZJkmpqajzKq6urJUlZWVm+BxdhSBoAAABgGSuXWm3Sfh3RX3yOZfz48UpISFB5eblHeXl5ubKzs5WamnqxtxsxSBoAAAAQlC7VECXp5vOe19raKklyuTxXWnI4HJo/f74KCwvV0tIiSTpy5Ig2bdqk/Px86wMOY8xpAAAAgGUuZonUbzuhg2rUQa/nlJaWatmyZTIMQ+vWrVNaWpqmTJniXjEpLy9PMTExmjVrljIzM+V0OlVUVKTJkydbFmckMEzTNO0OIhwZhqEX7Q4CANCJw5B6Guc/D7BLz6j239NQdN8Z6d9k/Tf4O/S0+MhqL3oaAAAAYJkoC3saEDxIGgAAABCUTuiQTuiQ3WFAJA1+tfP7z9odAoCgZCpERx4A8DNDpqQQHoaz9SlLq7tUKbpUKarVXy2tF93HnAY/MQyDsXcAACCiGIahXP3C8nrL9Syfq2xGTwMAAACC0nEd0glV2x0GRNIAAAAAC1k5EbqvBqmvBqlWf7OsTviGzd0AAAAAeEVPAwAAACxj5eZuCB4kDQAAAAhKx1Wj46qxOwyIpAEAAAAWilKbZXX1VZL6Kkk1+rtldcI3zGkAAAAA4BVJAwAAAACvGJ4EAAAAy1i55CqCB0kDAAAAgtLXOqyvddjuMCCSBr9asGCBxo0bp3HjxtkdCgAAgN+UlZWprKxMkrVLrvbVleqrK3VI2y2rE74xTNM07Q4iHBmGIZoWAABEEsMwNE6PWV5vmV7kc5XN6GkAAACAZZjTEJ5YPQkAAACAV/Q0AAAAwDKGhZu7IXjQ0wAAAADAK3oaAAAAEJSO6XMd0+d2hwGRNAAAAMBCVk6ETtAAJWiA/qmdltXZlfXr1+vQoUNyOBxyOBx67DHrV4AKdSQNAAAAiFj79u3T4sWLtX17+14Qd955p3JzczVq1CibIwsuzGkAAACAZQy5LD/8qbCwUN/73vfcr2+99Va9/PLLfr1mKCJpAAAAQMTatWuXBg0a5H49aNAgffLJJzZGFJwYngQAAADLhNrmbidPnlRcXJz7dXx8vL788ksbIwpO9DQAAAAgYvXr109NTU3u1ydPnlRCQoKNEQUnehoAAABgGTs2d6urq9PSpUuVmJioOXPmdPr52rVrVVJSotTUVG3fvl0zZ87UhAkTJElZWVmqra11n3v48GFlZWUFLPZQQdIAAACAkLVlyxatXr1aq1at0oIFCzr9fOXKlSooKNDevXsVGxur2tpapaena/PmzRozZox+/OMf6yc/+Yn7/JKSEv3nf/5nAO8gNJA0AAAAIGRNnDhRV199tVatWtXpZ42NjZo3b54ee+wxxcbGSpKSkpI0adIkzZ49Wzt37tSwYcOUl5enJUuWqHfv3rrxxhs1ZsyYQN9G0CNpAAAAgGXsmAgdFdX1NN2tW7fq+PHjys3N9SjPycnRmjVrVFVVpfT0dN13332BCDOkRXTS4G18W1fq6uqUn5+voUOH6ssvv9SpU6e0ZMkSXXLJJQGMGgAAABeioqJCkpScnOxRnpKSIklyOp1KT08PeFyhKGKThvONb/u2xsZG3XLLLfqP//gP/fSnP5UkzZkzRz/+8Y/19ttvBzp8AACAoGRFT8NR1esrfalTOqlTOul7PUePSmpfRvVsHUus1tXV+R5khInIJVc7xrdNnz69y/FtXXn++ed14MABzZgxw1326KOPasuWLdq4cWNA4gYAAIgE/XWFhitd1ypbY3Szz/XExMRIkgzD8CjvGM4UHR3te5ARJiKTBm/j2yorK1VVVdXpPW+++aYyMjLUu3dvd9nw4cPVp08fFRUV+T1mdE9ZWZndIUQ02t9etL+9aH970f72M+Sy7PhKX2ivfN+deeDAgZLksQ/D2a+TkpJ8v9EIE5FJw4WMbztba2ur9uzZ0+l8SRo8eLB27Njhp0jhKx4a9qL97UX724v2txftH17663JdoxE+v3/UqFGSpJqaGo/y6upqSWI/hm6IyKShu+PbGhoaZJpmp/M73lNfX++nSM/N338UQ71+fwv19qH9w7t+fwv19qH9w7v+gwcP+rX+UG+fQPz+R6nNsuMr1WmvOo8AuVDjx49XQkKCysvLPcrLy8uVnZ2t1NTUi73diBGRSUN3x7ed6/yO99gxHi7U/6jw0A7v+v0t1NuH9g/v+v0t1NuHpCG867fa5bpcaUo773mtra2SJJfLcxK2w+HQ/PnzVVhYqJaWFknSkSNHtGnTJuXn51sfcDgzI9CiRYtMwzDMTz75xKN8w4YNpmEY5tq1azu9JyYmxrzrrrs6lWdlZZkjRozoVC6Jg4ODg4ODg4PDouNcSkpKzLvuusuMiooyR4wYYb7xxhvmiRMnPM556aWXzGnTppm//vWvzalTp5obNmy40I+N+JeIXHL17PFtGRkZ7nJv49uuvfZa98/PVlNTo+9///udyk3TtCpcwsb8pwAADpBJREFUAAAAnMMtt9yiW265xes5Dz/8sB5++OEARRSeInJ4ki/j2+6++27t2rVLzc3N7rJ9+/apoaFB06ZN83vMAAAAgF0iMmm4kPFtixcv1siRI92Tph988EENGDBAr732mrue5cuX64YbbuiypwEAAAAIFxE5PEmS8vLyFBMTo1mzZikzM1NOp1NFRUWaPHmypPYVk+rr690Ta+Lj4/XBBx/oiSeeUH19vZqbm9XY2Kh33nmnywnSABCs6urqVFlZqf79+7uHawIA4I1hMvjeJ2vXrlVJSYlSU1O1fft2zZw5UxMmTDjn+XV1dcrPz9fQoUP15Zdf6tSpU1qyZIkuueSSAEYdPrrb/h999JHmzZunDz/8UL1799btt9+uxYsXq0+fPgGMOnx0t/3PVl9fr4yMDDmdzi73PsH5+dr+paWlWrRokW644QZNmzZNw4cPD0C04ae77f/JJ5/ohRde0LBhw/T111/r4MGDWrx4sXtvIFy4uro6LV26VImJiZozZ855z+W5a63utD/P3TBk80TskLRixQpz8ODB5qlTp0zTNM3Dhw+bl112mfm3v/2ty/NPnDhhjhgxwnzhhRfcZXl5eeakSZMCEm+46W77Hzx40Bw9erT56quvmmvWrDHvvvtu0zAM87bbbgtk2GGju+3/bXfccYdpGIZ56NAhf4YZtnxt/4ULF5opKSnmxx9/HIgww1Z327++vt7s37+/WVlZ6S575ZVXzMzMzIDEG07eeecdc9q0aaZhGGZBQYHXc3nuWq877c9zNzyRNHTTiRMnzD59+phPPvmkR/k999xjXnvttV2+Z+HChWZMTIx58uRJd9k//vEP0zAM83/+53/8Gm+48aX9f/7zn5t1dXUeZVOmTOGDqw98af+z/eEPfzDnzZtH2/vI1/b/7W9/a0ZHR5MwXCRf2r+4uNg0DMNsbGx0l+3evds0DMP86quv/BpvODpw4MAFfWjluesfF9r+PHfDU0ROhL4YW7du1fHjx5Wbm+tRnpOTo8rKSlVVdd618M0331RGRoZ69+7tLhs+fLj69OmjoqIiv8ccTnxp/wkTJuiKK67wKOuYvH7s2DH/BRuGfGn/DgcOHNCePXt0++23+zvMsOVL+x8+fFiPP/64HnjgAWVmZgYq1LDkS/t3/O35/e9/7y6rqKjQkCFD1K9fP/8GHIY6NmE9H567/nGh7c9zNzyRNHRTRUWFJHUai90xNtXpdHqUt7a2as+ePV2O3R48eLB27Njhp0jDU3fbX5JuvvnmTmXNzc3q16+f0tLOv8sk/o8v7S+179BZUFCghQsXsofJRfCl/VesWKHW1ladOXNGU6dOVXJysoYNG6YXX3zR/wGHGV/af/To0brzzjv1+OOPa+HChfrggw/0xz/+UZs3b/Z/wBGK5679eO6Gp4hdPclXHUuwxsfHe5THxcVJap8kdLaGhgaZptnp/I737Nu3z0+Rhqfutv+5lJaW6mc/+5mio6OtDTDM+dr+S5Ys0SOPPOLxrR+6z5f2Lysrk8Ph0P333+/e/Ojpp5/W7NmzlZCQoHvuucfPUYcPX3//16xZowcffFD/9V//pbi4OJWVlemaa67xb7ARjOducOK5G/roaeimmJgYSeq0zGpHl923/2c41/kd7+F/nu7pbvt3Zdu2bTp58qSeeOIJ6wMMc760/86dO9Xc3KzRo0f7P8Aw50v7f/HFF8rMzPTYLfXJJ59UYmKifvOb3/gx2vDj69+fhoYGnT59Wr/85S9lmqZuvPFGFRcX+zfYCMZzN/jw3A0PJA3dNHDgQElSU1OTR3nH66SkJI/yfv36KTo6utP5He/59vnwrrvt/20NDQ1atGiRNmzYIIfD4Z8gw1h327+lpUVLlizRU0891akuhil1ny+//5deemmn33WHw6GRI0fq008/9VOk4cmX9j9x4oS+973vacaMGfrVr36lDz/8UIMHD9Z9992n2tpa/wcdgXjuBheeu+GDpKGbOjZCqqmp8Sivrq6WJGVlZXV6z7XXXuv++dlqamq6PB/n5kv7d2hubtbcuXO1fPlyJSQk+C/IMNbd9t+2bZuKi4vVr18/xcfHKz4+3r2BYnp6ui699NIARB0+fPn9Hz58uL744otO5Zdddpkuu+wyP0QZvnxp/zVr1uirr75y7+Nw9dVXa8OGDWptbdWmTZv8HHHk4rkbHHjuhheShm4aP368EhISVF5e7lFeXl6u7OxspaamdnrP3XffrV27dqm5udldtm/fPjU0NGjatGl+jzmc+NL+knT69Gnl5eXp6aef9viWaf/+/WppafFrzOGku+2fk5Oj3bt366OPPnIfK1askCS98847qqysDFjs4cCX3/97771XtbW1ncZx19bWKicnx6/xhhtf2r+1tVUul8ujLC0tTf3797/glWjQfTx37cdzNwzZuuBriHr++efNq666ymxubjZN0zQ///xzMz4+3ty8ebNpmqb57LPPmpmZmeaXX35pmmb72t5XXXWVuXz5cncdc+fONUePHm22tbUF/gZCXHfb/8yZM+YPf/hD85lnnjHfeust9/HHP/7RnD59um33Eaq62/7f9t5777FW90Xobvu3tbWZo0ePNh955BF3Hfv37zfj4uLMXbt2Bf4GQlx32//QoUNmnz593D83zfb2T0hIMGtqagJ/AyGuY6+F/Px8j3Keu4Fxoe3Pczc8sXqSD/Ly8hQTE6NZs2YpMzNTTqdTRUVF7mEXDQ0Nqq+vV2trq6T2lTY++OADPfHEE6qvr1dzc7MaGxv1zjvvdDlRC951t/1nzJih4uLiThMPDcNwf+uNC9fd9u8Kv/e+6277G4ah//3f/9W8efP0wAMPKCkpSf/85z/17rvvKj093c5bCUndbf/k5GSVlJSooKBAf/nLX5SQkKD9+/frz3/+swYNGmTnrYSc0tJSLVu2TIZhaN26dUpLS9OUKVMUHx/PczcAutP+PHfDk2GazEYEAAAAcG4MqAQAAADgFUkDAAAAAK9IGgAAAAB4RdIAAAAAwCuSBgAAAABekTQAAAAA8IqkAQAAAIBXJA0AAAAAvCJpAAAAAOAVSQMAAAAAr0gaACAMNDY26plnngnItRYuXKjm5uaAXAsAEBxIGgAgxH3zzTd6+OGH9eCDDwbkevfff79mzJgh0zQDcj0AgP1IGgAgxP3ud7/TxIkTNWDAgIBcb8iQIRo/fryee+65gFwPAGA/w+SrIgAIWV9//bXGjh2rnTt3yuFwBOy6Z86c0XXXXae//vWv6tOnT8CuCwCwBz0NABDCXnnlFd1xxx0BTRgkqWfPnrr99tv1yiuvBPS6AAB7kDQAQAh7++23deONN9py7Ztuuknr16+35doAgMBieBIA+Nnzzz+vlStXateuXRo2bJh2796tHTt2aOzYsbrkkkt022236a233up2vadPn9all16quro6XXbZZZ1+/uqrr+rPf/6zhgwZoqioKPXt21dz585VaWmpfv7zn2vv3r164403tGfPHn3zzTdyOp266aab9MADD+h3v/udoqKitGPHDt10003Ky8vrVP9XX32lQYMG6eTJk4qK4jsoAAhnJA0AEAAul0u33XabBgwYoDfeeEMtLS268847tWrVKvXv39+nOqurqzV8+PAulz9dsmSJXn/9dTmdTvXo0UNFRUX693//d+3atUsjRozQsWPHlJCQoIkTJ+qNN97QZZddpkOHDmno0KF69NFHtWTJEvXq1UsHDx7UsGHDdPjwYV155ZUe1zBNU9HR0frHP/6hYcOG+XQPAIDQ0MPuAAAgEjgcDr3++uvKysrSypUrtX//fr388ss+JwySVF9f32UPQ0NDg/Lz87V06VL16NH+Z/6mm27Ss88+q+985zuSpL59+0qScnNz3XUMHjxYpmnq+uuvV69evSRJycnJMk1Tn332WaekwTAM9e3bVw0NDSQNABDm6E8GgAC58sorVVhYqJ/+9KdKSUlRcnLyRdXX1tYmwzA6lf/tb39Ta2urrr76andZSkqKnnjiCUVHR3uce9VVV7n/u2OI0ZAhQzqVuVyuLmNwOBxdxgAACC8kDQAQQIMHD9Y111yj5cuXq7W19aLquvzyy3Xs2LFO5R0f8Dt6C/ypoaEhYPtDAADsQ9IAAAFy6tQp/fa3v9Xf//53xcbGau7cuRdV38CBA+VyuXTy5EmP8tGjR6tnz56qrKz0KG9ubtauXbsu6ppnO3HihFwuF0kDAEQAkgYACICWlhZNmzZNjz/+uHr16qU33nhDRUVFWrdunc91xsbGKjc3V06n06N8wIABevLJJ/X888+rsbHRXf7iiy+qd+/ektonMUvtQ5w6XGhZhw8//FAjR47sNOQJABB+HAsWLFhgdxAAEM6efPJJzZgxQ06nUxkZGbruuuv0wQcfaPXq1dqwYYMqKiqUlpbm0zf29fX1OnDggMaNG+dRPnbsWMXGxmrRokX66KOP9P7772vMmDG67rrr9N5772nGjBmqrq7Wxx9/rBMnTsjhcOiBBx5QdXW1nE6nzpw5o6amJs2cOVPV1dXasWOHTNNUdna2+xqvvfaa0tLSNHbs2IttIgBAkGPJVQAIYYcPH9btt9+uioqKgE5Ibmtr03XXXafNmzcrKSkpYNcFANiD4UkAEMIGDRqk8ePH609/+lNAr7t+/XqNGzeOhAEAIgQ9DQAQ4pqbm3XvvfdqxYoVF7Xvw4U6evSoZsyYoTfffNM9RwIAEN7oaQCAEBcbG6uXXnpJv/rVrwJyvWeeeUYvvfQSCQMARBB6GgAAAAB4RU8DAAAAAK9IGgAAAAB4RdIAAAAAwCuSBgAAAABekTQAAAAA8IqkAQAAAIBXJA0AAAAAvCJpAAAAAOAVSQMAAAAAr0gaAAAAAHhF0gAAAADAK5IGAAAAAF6RNAAAAADwiqQBAAAAgFckDQAAAAC8ImkAAAAA4BVJAwAAAACvSBoAAAAAePX/AZ2VcoH/8iBYAAAAAElFTkSuQmCC\"><br>"
       ],
       "metadata": {},
       "output_type": "display_data",
       "text": [
        "<yt.visualization.plot_window.AxisAlignedSlicePlot at 0x11a189310>"
       ]
      }
     ],
     "prompt_number": 9
    },
    {
     "cell_type": "markdown",
     "metadata": {},
     "source": [
      "### Exercises:\n",
      "\n",
      "Left to the reader is to modify this notebook to diffuse\n",
      "\n",
      "* a point source, or\n",
      "* a line source."
     ]
    }
   ],
   "metadata": {}
  }
 ]
}
