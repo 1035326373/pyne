{
 "metadata": {
  "name": "",
  "signature": "sha256:1fa8a77810b2499de2da83e129920371f4aa86473cf5f978d0e4e9f1ed6d703e"
 },
 "nbformat": 3,
 "nbformat_minor": 0,
 "worksheets": [
  {
   "cells": [
    {
     "cell_type": "markdown",
     "metadata": {},
     "source": [
      "# PyNE Meshes\n",
      "\n",
      "The PyNE ```mesh``` module provides generic mesh creation, manipulation, and storage capabilities. Both Cartesian and tetrahedral mesh are supported. PyNE meshes can be tagged with scalar and vector quantities and also PyNE `Material` objects.\n",
      "\n",
      "\n",
      "\n",
      "\n",
      "\n",
      "\n",
      "This is a layer on top of [MOAB](https://trac.mcs.anl.gov/projects/ITAPS/wiki/MOAB) meshes which adds:\n",
      "\n",
      "1. PyNE materials to volume elements\n",
      "2. A generic tagging interface.\n",
      "\n",
      "The PyNE `Mesh` class lives in the `mesh` module. This class houses a MOAB iMesh instance and contains methods for various mesh operations. The following attribute of a `Mesh` object are most important.\n",
      "\n",
      "* **mesh:** iMesh instance\n",
      "\n",
      "* **mats:** MaterialLibrary or dict or Materials or None, This is a mapping of volume element handles to Material objects.\n",
      "\n"
     ]
    },
    {
     "cell_type": "code",
     "collapsed": false,
     "input": [
      "from pyne.xs.channels import sigma_t\n",
      "from pyne.material import Material, from_atom_frac\n",
      "from pyne.mesh import Mesh, IMeshTag, MetadataTag, ComputedTag\n",
      "import numpy as np\n",
      "\n",
      "# import plotting utilities\n",
      "from yt.config import ytcfg; ytcfg[\"yt\",\"suppressStreamLogging\"] = \"True\"\n",
      "from yt.frontends.moab.api import PyneMoabHex8Dataset\n",
      "from yt.mods import SlicePlot"
     ],
     "language": "python",
     "metadata": {},
     "outputs": [],
     "prompt_number": 205
    },
    {
     "cell_type": "heading",
     "level": 1,
     "metadata": {},
     "source": [
      "Basics"
     ]
    },
    {
     "cell_type": "markdown",
     "metadata": {},
     "source": [
      "Let's make a simple Cartesian mesh that is 4 x 3 x 1:"
     ]
    },
    {
     "cell_type": "code",
     "collapsed": false,
     "input": [
      "coords = [[0, 1, 2, 3, 4], [0, 1, 2, 3], [0,1]]\n",
      "m = Mesh(structured=True, structured_coords=coords) # here \"structured\" means Cartesian"
     ],
     "language": "python",
     "metadata": {},
     "outputs": [],
     "prompt_number": 206
    },
    {
     "cell_type": "markdown",
     "metadata": {},
     "source": [
      "Tags -- sometimes known as fields -- are a generic way of storing data on a mesh. Both scalar and vector quantities can be tagged on each volume element of the mesh. \n",
      "\n",
      "Here we create a scalar, floating point tag describe the neutron flux on a mesh:"
     ]
    },
    {
     "cell_type": "code",
     "collapsed": false,
     "input": [
      "m.neutron_flux = IMeshTag(size=1, dtype=float)\n"
     ],
     "language": "python",
     "metadata": {},
     "outputs": [],
     "prompt_number": 207
    },
    {
     "cell_type": "markdown",
     "metadata": {},
     "source": [
      "Some fictitious neutron flux data can now be applied to the mesh:"
     ]
    },
    {
     "cell_type": "code",
     "collapsed": false,
     "input": [
      "m.neutron_flux[:] = [0.0, 2.0, 4.0, 6.0, 8.0, 10.0, 12.0, 14.0, 16.0, 18.0, 20.0, 22.0]"
     ],
     "language": "python",
     "metadata": {},
     "outputs": [],
     "prompt_number": 208
    },
    {
     "cell_type": "markdown",
     "metadata": {},
     "source": [
      "PyNE meshes are supported by the [yt project](http://yt-project.org/).  Here we use yt's plotting infrastructure to display the mesh tag that was just created:"
     ]
    },
    {
     "cell_type": "code",
     "collapsed": false,
     "input": [
      "pf = PyneMoabHex8Dataset(m)\n",
      "s = SlicePlot(pf, 'z', 'neutron_flux', origin='native')\n",
      "s.display()"
     ],
     "language": "python",
     "metadata": {},
     "outputs": [
      {
       "html": [
        "<img src=\"data:image/png;base64,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\"><br>"
       ],
       "metadata": {},
       "output_type": "display_data",
       "text": [
        "<yt.visualization.plot_window.AxisAlignedSlicePlot at 0x7faac77da510>"
       ]
      }
     ],
     "prompt_number": 209
    },
    {
     "cell_type": "markdown",
     "metadata": {},
     "source": [
      "The volume element index of mesh are numbered by a volume element index (`i`). The volume element index is defined on the range from 0 (inclusive) to the number of volumes in the mesh (exclusive). \n",
      "\n",
      "The flux for the volume element `i=7` can be retrieved (and similarly set) using the following syntax:"
     ]
    },
    {
     "cell_type": "code",
     "collapsed": false,
     "input": [
      "m.neutron_flux[7]"
     ],
     "language": "python",
     "metadata": {},
     "outputs": [
      {
       "metadata": {},
       "output_type": "pyout",
       "prompt_number": 210,
       "text": [
        "14.0"
       ]
      }
     ],
     "prompt_number": 210
    },
    {
     "cell_type": "markdown",
     "metadata": {},
     "source": [
      "\"Fancy\" indexing can be used. This means that multiple indicies can be provided, yielding the tag value for each:"
     ]
    },
    {
     "cell_type": "code",
     "collapsed": false,
     "input": [
      "m.neutron_flux[2, 3, 4]"
     ],
     "language": "python",
     "metadata": {},
     "outputs": [
      {
       "metadata": {},
       "output_type": "pyout",
       "prompt_number": 172,
       "text": [
        "array([ 4.,  6.,  8.])"
       ]
      }
     ],
     "prompt_number": 172
    },
    {
     "cell_type": "markdown",
     "metadata": {},
     "source": [
      "Masking can be used to return only values that match some criteria. Here we request all flux values about 10.0:"
     ]
    },
    {
     "cell_type": "code",
     "collapsed": false,
     "input": [
      "m.neutron_flux[m.neutron_flux[:] >= 10.0]"
     ],
     "language": "python",
     "metadata": {},
     "outputs": [
      {
       "metadata": {},
       "output_type": "pyout",
       "prompt_number": 214,
       "text": [
        "array([ 10.,  12.,  14.,  16.,  18.,  20.,  22.])"
       ]
      }
     ],
     "prompt_number": 214
    },
    {
     "cell_type": "heading",
     "level": 1,
     "metadata": {},
     "source": [
      "PyNE Mesh + PyNE Materials"
     ]
    },
    {
     "cell_type": "markdown",
     "metadata": {},
     "source": [
      "PyNE meshes can natively store material objects. This can be used to represent discretized versions of geometries. First we create a slightly larger mesh than our previous example. This one is 9x9x1:"
     ]
    },
    {
     "cell_type": "code",
     "collapsed": false,
     "input": [
      "coords = [np.linspace(0,9,10), np.linspace(0,9,10), [0, 10]]\n",
      "m = Mesh(structured=True, structured_coords=coords)"
     ],
     "language": "python",
     "metadata": {},
     "outputs": [],
     "prompt_number": 216
    },
    {
     "cell_type": "markdown",
     "metadata": {},
     "source": [
      "Create a few materials that will be assigned to the mesh:"
     ]
    },
    {
     "cell_type": "code",
     "collapsed": false,
     "input": [
      "fuel = from_atom_frac({'U235': 0.045, 'U238': 0.955, 'O16': 2.0}, density=10.7)\n",
      "mod = from_atom_frac({'H1': 2.0, 'O16': 1.0}, density=1.0)"
     ],
     "language": "python",
     "metadata": {},
     "outputs": [],
     "prompt_number": 217
    },
    {
     "cell_type": "markdown",
     "metadata": {},
     "source": [
      "Loop through the mesh and assign materials in a reactor-like pattern:"
     ]
    },
    {
     "cell_type": "code",
     "collapsed": false,
     "input": [
      "for i in range(len(m)):\n",
      "    if (i+1)%2 != 0 and np.floor((i)/9)%2 != 0:\n",
      "        m.mats[i] = fuel\n",
      "    else:    \n",
      "        m.mats[i] = mod"
     ],
     "language": "python",
     "metadata": {},
     "outputs": [],
     "prompt_number": 218
    },
    {
     "cell_type": "markdown",
     "metadata": {},
     "source": [
      "Plot the density. Here the appears red (high density) and the moderator appears purple (low density)."
     ]
    },
    {
     "cell_type": "code",
     "collapsed": false,
     "input": [
      "pf = PyneMoabHex8Dataset(m)\n",
      "s = SlicePlot(pf, 'z', 'density', origin='native')\n",
      "s.display()"
     ],
     "language": "python",
     "metadata": {},
     "outputs": [
      {
       "html": [
        "<img src=\"data:image/png;base64,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\"><br>"
       ],
       "metadata": {},
       "output_type": "display_data",
       "text": [
        "<yt.visualization.plot_window.AxisAlignedSlicePlot at 0x7faac77dad50>"
       ]
      }
     ],
     "prompt_number": 219
    },
    {
     "cell_type": "markdown",
     "metadata": {},
     "source": [
      "The materials in the "
     ]
    },
    {
     "cell_type": "code",
     "collapsed": false,
     "input": [
      "m.mats[3]"
     ],
     "language": "python",
     "metadata": {},
     "outputs": [
      {
       "metadata": {},
       "output_type": "pyout",
       "prompt_number": 221,
       "text": [
        "pyne.material.Material({10010000: 0.11191487328808077, 80160000: 0.8880851267119192}, 18.010564684, 1.0, 3.0, {})"
       ]
      }
     ],
     "prompt_number": 221
    },
    {
     "cell_type": "code",
     "collapsed": false,
     "input": [
      "m.mats[3].density"
     ],
     "language": "python",
     "metadata": {},
     "outputs": [
      {
       "metadata": {},
       "output_type": "pyout",
       "prompt_number": 222,
       "text": [
        "1.0"
       ]
      }
     ],
     "prompt_number": 222
    },
    {
     "cell_type": "markdown",
     "metadata": {},
     "source": [
      "It turns out the same indexing can be used to access material and desnity data"
     ]
    },
    {
     "cell_type": "code",
     "collapsed": false,
     "input": [
      "m.density[3]"
     ],
     "language": "python",
     "metadata": {},
     "outputs": [
      {
       "metadata": {},
       "output_type": "pyout",
       "prompt_number": 223,
       "text": [
        "1.0"
       ]
      }
     ],
     "prompt_number": 223
    },
    {
     "cell_type": "markdown",
     "metadata": {},
     "source": [
      "To get the value of the density, you have to provide the location by its index."
     ]
    },
    {
     "cell_type": "code",
     "collapsed": false,
     "input": [
      "m.comp[3]"
     ],
     "language": "python",
     "metadata": {},
     "outputs": [
      {
       "metadata": {},
       "output_type": "pyout",
       "prompt_number": 224,
       "text": [
        "{10010000: 0.11191487328808077, 80160000: 0.8880851267119192}"
       ]
      }
     ],
     "prompt_number": 224
    },
    {
     "cell_type": "markdown",
     "metadata": {},
     "source": [
      "To get a list of all current tag names, uses the `tags` dictionary on the mesh:"
     ]
    },
    {
     "cell_type": "code",
     "collapsed": false,
     "input": [
      "m.tags.keys()"
     ],
     "language": "python",
     "metadata": {},
     "outputs": [
      {
       "metadata": {},
       "output_type": "pyout",
       "prompt_number": 153,
       "text": [
        "['sub_act',\n",
        " 'expand_elements',\n",
        " 'number_density',\n",
        " 'sub_tru',\n",
        " 'idx',\n",
        " 'density',\n",
        " 'comp',\n",
        " 'atoms_per_molecule',\n",
        " 'to_atom_frac',\n",
        " 'sub_lan',\n",
        " 'molecular_mass',\n",
        " 'mass',\n",
        " 'sub_fp',\n",
        " 'mult_by_mass',\n",
        " 'sub_ma',\n",
        " 'mass_density',\n",
        " 'metadata']"
       ]
      }
     ],
     "prompt_number": 153
    },
    {
     "cell_type": "heading",
     "level": 2,
     "metadata": {},
     "source": [
      "Computed Tags"
     ]
    },
    {
     "cell_type": "markdown",
     "metadata": {},
     "source": [
      "Computed tags - also known as 'derived fields' - are a way of having a lazily evaluated 'virtual tag.'  A computed tag is defined with a function, lambda, or any other callable object.  The function must have the following interface:\n",
      "\n",
      "```python\n",
      "def f(mesh, i):\n",
      "    \"\"\"mesh is a pyne.mesh.Mesh() object and i is the volume element index\n",
      "    to compute.\n",
      "    \"\"\"\n",
      "    # ... do some work ...\n",
      "    return anything_you_want\n",
      "```\n",
      "\n",
      "Here is a somewhat silly example which squares the density.  "
     ]
    },
    {
     "cell_type": "code",
     "collapsed": false,
     "input": [
      "m.density2 = ComputedTag(lambda mesh, i: mesh.density[i]**2)"
     ],
     "language": "python",
     "metadata": {},
     "outputs": [],
     "prompt_number": 154
    },
    {
     "cell_type": "markdown",
     "metadata": {},
     "source": [
      "Note that the bounds on the color bar have changed."
     ]
    },
    {
     "cell_type": "code",
     "collapsed": false,
     "input": [
      "pf = PyneMoabHex8Dataset(m)\n",
      "s = SlicePlot(pf, 'z', 'density2', origin='native')\n",
      "s.display()"
     ],
     "language": "python",
     "metadata": {},
     "outputs": [
      {
       "html": [
        "<img src=\"data:image/png;base64,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\"><br>"
       ],
       "metadata": {},
       "output_type": "display_data",
       "text": [
        "<yt.visualization.plot_window.AxisAlignedSlicePlot at 0x7faab80bb8d0>"
       ]
      }
     ],
     "prompt_number": 155
    },
    {
     "cell_type": "markdown",
     "metadata": {},
     "source": [
      "Here is a more serious example which uses PyNE's cross section tools to compute the one-group total cross section $\\sigma_t$ everywhere on the mesh."
     ]
    },
    {
     "cell_type": "code",
     "collapsed": false,
     "input": [
      "m.sigma_t = ComputedTag(lambda mesh, i: sigma_t(mesh.mats[i], group_struct=[10.0, 1e-6], phi_g=[1.0])[0])"
     ],
     "language": "python",
     "metadata": {},
     "outputs": [],
     "prompt_number": 156
    },
    {
     "cell_type": "code",
     "collapsed": false,
     "input": [
      "pf = PyneMoabHex8Dataset(m)\n",
      "s = SlicePlot(pf, 'z', 'sigma_t', origin='native')\n",
      "s.display()"
     ],
     "language": "python",
     "metadata": {},
     "outputs": [
      {
       "html": [
        "<img src=\"data:image/png;base64,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\"><br>"
       ],
       "metadata": {},
       "output_type": "display_data",
       "text": [
        "<yt.visualization.plot_window.AxisAlignedSlicePlot at 0x7faab80d5d90>"
       ]
      }
     ],
     "prompt_number": 157
    },
    {
     "cell_type": "markdown",
     "metadata": {},
     "source": [
      "Yes, that was only one line of code."
     ]
    }
   ],
   "metadata": {}
  }
 ]
}