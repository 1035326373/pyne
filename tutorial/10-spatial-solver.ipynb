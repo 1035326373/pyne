{
 "metadata": {
  "name": "",
  "signature": "sha256:35018fea42ce19a1f77e828ab473c7631bf3fb5007ce1896a9492a7d344ddf72"
 },
 "nbformat": 3,
 "nbformat_minor": 0,
 "worksheets": [
  {
   "cells": [
    {
     "cell_type": "heading",
     "level": 1,
     "metadata": {},
     "source": [
      "Spatial Solver Tutorial"
     ]
    },
    {
     "cell_type": "markdown",
     "metadata": {},
     "source": [
      "Spatialsolver is a pyne module that contains seven neutron transport equation solvers"
     ]
    },
    {
     "cell_type": "code",
     "collapsed": false,
     "input": [
      "import pyne.spatialsolver\n",
      "import numpy as np"
     ],
     "language": "python",
     "metadata": {},
     "outputs": [],
     "prompt_number": 2
    },
    {
     "cell_type": "code",
     "collapsed": false,
     "input": [
      "input_dict = {'Name': 'Jane', 'Age': 27};"
     ],
     "language": "python",
     "metadata": {},
     "outputs": [],
     "prompt_number": 3
    },
    {
     "cell_type": "markdown",
     "metadata": {},
     "source": [
      "The spatial solver module takes in a dictionary that contains all of the input information required to run the solvers.  There are many entries to allow a high degree of customization, not all of which are required.  To find which entries are required, see the spatial solver documentation in the python api."
     ]
    },
    {
     "cell_type": "code",
     "collapsed": false,
     "input": [
      "input_dict['solver'] = \"AHOTN\""
     ],
     "language": "python",
     "metadata": {},
     "outputs": [],
     "prompt_number": 4
    },
    {
     "cell_type": "markdown",
     "metadata": {},
     "source": [
      "There are many different ways to solve the neutron transport equations.  The spatial solver method supports seven different methods, described in the theory manual.  The 'solver' key allows you to select which family of these solvers you would like to use, out of the following three options.  \n",
      "    1.  \"AHOTN\" - Arbitrarily high order xxxx\n",
      "    2.  \"DGFEM\" - Discontinuous Galerkin Finite Element Method\n",
      "    3.  \"SCTSTEP\" - xxx"
     ]
    },
    {
     "cell_type": "code",
     "collapsed": false,
     "input": [
      "input_dict['solver_type'] = \"LN\" "
     ],
     "language": "python",
     "metadata": {},
     "outputs": [],
     "prompt_number": 5
    },
    {
     "cell_type": "markdown",
     "metadata": {},
     "source": [
      "Each family of solvers except for SCTSTEP offers a number of different choices for the specific way the neutron transport equation is solved.  For full descriptions of each, consult the theory manual.\n",
      "For AHOTN, the supported solver_type's are:\n",
      "    1.  \"LN\" - Linear Nodal Method:\n",
      "    2.  \"LL\" - Linear Linear Method:\n",
      "    3.  \"NEFD\" - xxxxx\n",
      "DGFEM\n",
      "    1.  \"LD\"  - Linearly Discontinuous Method\n",
      "    2.  \"DENSE\" - - xxx\n",
      "    3.  \"LAGRANGE\" - xxx\n",
      "SCTSTEP:  Only one solver type is supported for SCTSTEP, so this entry is not required if SCTSTEP was specified for 'solver'."
     ]
    },
    {
     "cell_type": "code",
     "collapsed": false,
     "input": [
      "input_dict['spatial_order'] = 1"
     ],
     "language": "python",
     "metadata": {},
     "outputs": [],
     "prompt_number": 6
    },
    {
     "cell_type": "markdown",
     "metadata": {},
     "source": [
      "'spatial_order' is the Spatial expansion order, also known as lambda.  For AHOTN, it must be 0, 1 or 2."
     ]
    },
    {
     "cell_type": "code",
     "collapsed": false,
     "input": [
      "input_dict['spatial_method'] = 0"
     ],
     "language": "python",
     "metadata": {},
     "outputs": [],
     "prompt_number": 7
    },
    {
     "cell_type": "markdown",
     "metadata": {},
     "source": [
      "'spatial_method' is the xxxxxxxxxxxxxxxxxxxx"
     ]
    },
    {
     "cell_type": "code",
     "collapsed": false,
     "input": [
      "input_dict['angular_quadrature_order'] = 4"
     ],
     "language": "python",
     "metadata": {},
     "outputs": [],
     "prompt_number": 8
    },
    {
     "cell_type": "markdown",
     "metadata": {},
     "source": [
      "'angular_quadrature_order' is the angular quadrature order.  "
     ]
    },
    {
     "cell_type": "code",
     "collapsed": false,
     "input": [
      "input_dict['angular_quadrature_type'] = 1"
     ],
     "language": "python",
     "metadata": {},
     "outputs": [],
     "prompt_number": 9
    },
    {
     "cell_type": "markdown",
     "metadata": {},
     "source": [
      "'angular_quadrature_type' is the angular quadrature type for the solver to use."
     ]
    },
    {
     "cell_type": "code",
     "collapsed": false,
     "input": [
      "input_dict['nodes_xyz'] = [4,4,4]"
     ],
     "language": "python",
     "metadata": {},
     "outputs": [],
     "prompt_number": 10
    },
    {
     "cell_type": "markdown",
     "metadata": {},
     "source": [
      "'nodes_xyz' is the number of node's in the x y and z directions.  It should be stored in a 1 by 3 array, with the following entries:\n",
      "    [0] = number of nodes in x direction (integer)\n",
      "    [1] = number of nodes in y direction (integer)\n",
      "    [2] = number of nodes in z direction (integer)"
     ]
    },
    {
     "cell_type": "code",
     "collapsed": false,
     "input": [
      "input_dict['num_groups'] = 1"
     ],
     "language": "python",
     "metadata": {},
     "outputs": [],
     "prompt_number": 11
    },
    {
     "cell_type": "markdown",
     "metadata": {},
     "source": [
      "'num_groups' specifies the number of material groups you are using in the material id and cross section files found in later entries."
     ]
    },
    {
     "cell_type": "code",
     "collapsed": false,
     "input": [
      "input_dict['num_materials'] = 1"
     ],
     "language": "python",
     "metadata": {},
     "outputs": [],
     "prompt_number": 12
    },
    {
     "cell_type": "markdown",
     "metadata": {},
     "source": [
      "'num_materials' is the number of different materials used in the mesh ('material_id')."
     ]
    },
    {
     "cell_type": "code",
     "collapsed": false,
     "input": [
      "input_dict['x_cells_widths'] = [0.25, 0.25, 0.25, 0.25]"
     ],
     "language": "python",
     "metadata": {},
     "outputs": [],
     "prompt_number": 13
    },
    {
     "cell_type": "code",
     "collapsed": false,
     "input": [
      "input_dict['y_cells_widths'] = [0.25, 0.25, 0.25, 0.25]"
     ],
     "language": "python",
     "metadata": {},
     "outputs": [],
     "prompt_number": 14
    },
    {
     "cell_type": "code",
     "collapsed": false,
     "input": [
      "input_dict['z_cells_widths'] = [0.25, 0.25, 0.25, 0.25]"
     ],
     "language": "python",
     "metadata": {},
     "outputs": [],
     "prompt_number": 15
    },
    {
     "cell_type": "markdown",
     "metadata": {},
     "source": [
      "'x_cells_widths', 'y_cells_widths', and 'z_cells_widths' are the cell widths for each cell in the x, y and z direction.  Every unique cell cannot be a unique size, adgacent edges all must match up.  Theirfore, each cell width you specify is the width of all the cells in the plane orthogonal to the axis of the cell you specified.  For example, if you selected 1 to be the first entry in x_cell_width, all of the cells with x dimension 1 would be 1 unit wide. \n",
      "\n",
      "This entry takes an array, which must be 1 by the number of nodes in that specific axis, and have all entries filled."
     ]
    },
    {
     "cell_type": "code",
     "collapsed": false,
     "input": [
      "input_dict['x_boundry_conditions'] = [2, 2]"
     ],
     "language": "python",
     "metadata": {},
     "outputs": [],
     "prompt_number": 16
    },
    {
     "cell_type": "code",
     "collapsed": false,
     "input": [
      "input_dict['y_boundry_conditions'] = [2, 2]"
     ],
     "language": "python",
     "metadata": {},
     "outputs": [],
     "prompt_number": 17
    },
    {
     "cell_type": "code",
     "collapsed": false,
     "input": [
      "input_dict['z_boundry_conditions'] = [2, 2]"
     ],
     "language": "python",
     "metadata": {},
     "outputs": [],
     "prompt_number": 18
    },
    {
     "cell_type": "markdown",
     "metadata": {},
     "source": [
      "'x_boundry_conditions', 'y_boundry_conditions', and 'z_boundry_conditions' are the boundry conditions for each face of the cubic mesh.  The entries are as following (x is the array set to the key 'x_boundry_conditions', y to 'y_boundry_conditions' and z to 'z_boundry_conditions'.\n",
      "\n",
      "    x[0] = xsbc\n",
      "    x[1] = xebc\n",
      "    y[0] = ysbc\n",
      "    y[1] = yebc\n",
      "    y[0] = zsbc\n",
      "    y[1] = zebc\n",
      "\n",
      "The following are supported boundry conditions:\n",
      "    1.  0 - vacuum\n",
      "    2.  1 - reflective\n",
      "    3.  2 - fixed inflow"
     ]
    },
    {
     "cell_type": "code",
     "collapsed": false,
     "input": [
      "input_dict['material_id'] = [ [ [1, 1, 1, 1], [1, 1, 1, 1], [1, 1, 1, 1], [1, 1, 1, 1] ], \n",
      "                              [ [1, 1, 1, 1], [1, 1, 1, 1], [1, 1, 1, 1], [1, 1, 1, 1] ],  \n",
      "                              [ [1, 1, 1, 1], [1, 1, 1, 1], [1, 1, 1, 1], [1, 1, 1, 1] ],  \n",
      "                              [ [1, 1, 1, 1], [1, 1, 1, 1], [1, 1, 1, 1], [1, 1, 1, 1] ] ]"
     ],
     "language": "python",
     "metadata": {},
     "outputs": [],
     "prompt_number": 19
    },
    {
     "cell_type": "markdown",
     "metadata": {},
     "source": [
      "'material_id' is an array containing the material infomation for the cubic mesh for which the neutron transport method is to be solved.  It must be three dimensional, specifically nodes in the x direction by nodes in the y direction by nodes in the z direction (nodes_xyz[0] by nodes_xyz[1] by nodes_xyz[2]).  Each entry is the material number for that cell."
     ]
    },
    {
     "cell_type": "code",
     "collapsed": false,
     "input": [
      "input_dict['quadrature_file'] = 'quad_file'"
     ],
     "language": "python",
     "metadata": {},
     "outputs": [],
     "prompt_number": 20
    },
    {
     "cell_type": "markdown",
     "metadata": {},
     "source": [
      "'quad_file' is the quadrature file.  It is only used if the quadrature_type is 2, however it is a required entry.  If your quadrature_type is not 2, just create a blank file to pass in for this entry."
     ]
    },
    {
     "cell_type": "code",
     "collapsed": false,
     "input": [
      "input_dict['xs_file'] = 'xs_file'"
     ],
     "language": "python",
     "metadata": {},
     "outputs": [],
     "prompt_number": 21
    },
    {
     "cell_type": "markdown",
     "metadata": {},
     "source": [
      "'xs_file' is the file containing the cross sectional data for the materials in your mesh ('material_id').  They should be formatted similar to the following 2 material example xs file:\n",
      "      \n",
      "    ! Cross section file\n",
      "    ! Material # 1\n",
      "    ! Group #1\n",
      "    5.894          ! Total XS\n",
      "    1.8       ! Scattering matrix\n",
      "    ! Material # 2\n",
      "    ! Group #1\n",
      "    1.237          ! Total XS\n",
      "    0.12       ! Scattering matrix"
     ]
    },
    {
     "cell_type": "code",
     "collapsed": false,
     "input": [
      "input_dict['source_input_file'] = 'src_4.dat'"
     ],
     "language": "python",
     "metadata": {},
     "outputs": [],
     "prompt_number": 22
    },
    {
     "cell_type": "markdown",
     "metadata": {},
     "source": [
      "'source_input_file' is the source input file.  xxxxxx not sure exactly what the source in is..  xxx flux of incoming neutrons?"
     ]
    },
    {
     "cell_type": "code",
     "collapsed": false,
     "input": [
      "input_dict['bc_input_file'] = 'bc_4.dat'"
     ],
     "language": "python",
     "metadata": {},
     "outputs": [],
     "prompt_number": 23
    },
    {
     "cell_type": "markdown",
     "metadata": {},
     "source": [
      "'bc_input_file' is the boundry condition input file.  It contains the boundry neutron inflow for any faces of the mesh with the boundry condition specified as 2 (fixed inflow).  xxxx is this correct? xxxx"
     ]
    },
    {
     "cell_type": "code",
     "collapsed": false,
     "input": [
      "input_dict['flux_output_file'] = 'phi_4.ahot'"
     ],
     "language": "python",
     "metadata": {},
     "outputs": [],
     "prompt_number": 24
    },
    {
     "cell_type": "markdown",
     "metadata": {},
     "source": [
      "'flux_output_file' is the output file for the angular flux to be printed to."
     ]
    },
    {
     "cell_type": "code",
     "collapsed": false,
     "input": [
      "input_dict['convergence_criterion'] = 1.e-12"
     ],
     "language": "python",
     "metadata": {},
     "outputs": [],
     "prompt_number": 25
    },
    {
     "cell_type": "markdown",
     "metadata": {},
     "source": [
      "'convergence_criterion' is the minimum uncertanty in final flux required for the solver's sweep to terminate (the less sweep's you do the less precise your final flux will be)."
     ]
    },
    {
     "cell_type": "code",
     "collapsed": false,
     "input": [
      "input_dict['max_iterations'] = 6000"
     ],
     "language": "python",
     "metadata": {},
     "outputs": [],
     "prompt_number": 26
    },
    {
     "cell_type": "markdown",
     "metadata": {},
     "source": [
      "'max_iterations' is the maximum number of times the mesh should be sweeped."
     ]
    },
    {
     "cell_type": "code",
     "collapsed": false,
     "input": [
      "input_dict['moments_converged'] = 0"
     ],
     "language": "python",
     "metadata": {},
     "outputs": [],
     "prompt_number": 27
    },
    {
     "cell_type": "code",
     "collapsed": false,
     "input": [
      "input_dict['converge_tolerence'] = 1.e-10"
     ],
     "language": "python",
     "metadata": {},
     "outputs": [],
     "prompt_number": 28
    },
    {
     "cell_type": "code",
     "collapsed": false,
     "input": [
      "input_dict['ichk'] = 0"
     ],
     "language": "python",
     "metadata": {},
     "outputs": [],
     "prompt_number": 29
    },
    {
     "cell_type": "code",
     "collapsed": false,
     "input": [
      "input_dict['ichk_tolerence'] = 1.e-14"
     ],
     "language": "python",
     "metadata": {},
     "outputs": [],
     "prompt_number": 30
    },
    {
     "cell_type": "markdown",
     "metadata": {},
     "source": []
    },
    {
     "cell_type": "code",
     "collapsed": false,
     "input": [
      "dict_results = {}\n",
      "#dict_results = pyne.spatialsolver.solve(input_dict)"
     ],
     "language": "python",
     "metadata": {},
     "outputs": []
    },
    {
     "cell_type": "markdown",
     "metadata": {},
     "source": [
      "To get the results of the solver, create a output dictionary to store all the data from the solver, and then use solve to populate it!  The actual solve line is commented out becasue iPython seems to not be able to handle this module."
     ]
    },
    {
     "cell_type": "code",
     "collapsed": false,
     "input": [
      "#print(dict_results['flux'])"
     ],
     "language": "python",
     "metadata": {},
     "outputs": []
    },
    {
     "cell_type": "code",
     "collapsed": false,
     "input": [],
     "language": "python",
     "metadata": {},
     "outputs": []
    },
    {
     "cell_type": "code",
     "collapsed": false,
     "input": [],
     "language": "python",
     "metadata": {},
     "outputs": []
    },
    {
     "cell_type": "code",
     "collapsed": false,
     "input": [],
     "language": "python",
     "metadata": {},
     "outputs": []
    },
    {
     "cell_type": "code",
     "collapsed": false,
     "input": [],
     "language": "python",
     "metadata": {},
     "outputs": []
    },
    {
     "cell_type": "code",
     "collapsed": false,
     "input": [],
     "language": "python",
     "metadata": {},
     "outputs": []
    },
    {
     "cell_type": "code",
     "collapsed": false,
     "input": [],
     "language": "python",
     "metadata": {},
     "outputs": []
    },
    {
     "cell_type": "code",
     "collapsed": false,
     "input": [],
     "language": "python",
     "metadata": {},
     "outputs": []
    },
    {
     "cell_type": "code",
     "collapsed": false,
     "input": [],
     "language": "python",
     "metadata": {},
     "outputs": []
    },
    {
     "cell_type": "code",
     "collapsed": false,
     "input": [],
     "language": "python",
     "metadata": {},
     "outputs": []
    }
   ],
   "metadata": {}
  }
 ]
}
